{
  "nbformat": 4,
  "nbformat_minor": 0,
  "metadata": {
    "colab": {
      "name": "kafka-python-produce-consume.pynb",
      "provenance": [],
      "collapsed_sections": [],
      "authorship_tag": "ABX9TyN8r2ouH0D1+96/0c/6jzH5",
      "include_colab_link": true
    },
    "kernelspec": {
      "name": "python3",
      "display_name": "Python 3"
    }
  },
  "cells": [
    {
      "cell_type": "markdown",
      "metadata": {
        "id": "view-in-github",
        "colab_type": "text"
      },
      "source": [
        "<a href=\"https://colab.research.google.com/github/martin-fabbri/colab-notebooks/blob/master/kafka/kafka_python_produce_consume_pynb.ipynb\" target=\"_parent\"><img src=\"https://colab.research.google.com/assets/colab-badge.svg\" alt=\"Open In Colab\"/></a>"
      ]
    },
    {
      "cell_type": "code",
      "metadata": {
        "id": "6M_QsNSzv4EO",
        "colab_type": "code",
        "cellView": "form",
        "outputId": "44ace2ff-eb52-45b0-b41c-db5b48f05f50",
        "colab": {
          "base_uri": "https://localhost:8080/",
          "height": 377
        }
      },
      "source": [
        "#@title ## Install/Upgrade packages\n",
        "#@markdown pip installs ``confluent-kafka`` and upgrades ``ipython`` to suport async/await\n",
        "\n",
        "#@markdown Ignore jupyter-console 5.2.0 has requirement ...\n",
        "\n",
        "#@markdown Ignore ERROR: google-colab 1.0.0 has requirement ipython ...\n",
        "\n",
        "#@markdown **Follow instructions to restart kernel after setup is complete**\n",
        "\n",
        "!pip install -q --upgrade ipython\n",
        "!pip install -q --upgrade ipykernel\n",
        "!pip install -q confluent-kafka\n",
        "!pip install -q pykafka\n",
        "\n",
        "from IPython.core.display import HTML\n",
        "HTML(\"\"\"\n",
        "  <div style=\"border: 5px solid green; padding: 20px; margin: 20px;\"> \n",
        "    <h2 style=\"color:red;\">Restart the runtime</h2>\n",
        "    <p>We have upgraded IPython and you must restart the \n",
        "       runtime (Runtime > Restart runtime ...) before continuing.</p>\n",
        "  </div>  \n",
        "\"\"\")"
      ],
      "execution_count": 1,
      "outputs": [
        {
          "output_type": "stream",
          "text": [
            "\u001b[K     |████████████████████████████████| 788kB 2.7MB/s \n",
            "\u001b[K     |████████████████████████████████| 358kB 7.6MB/s \n",
            "\u001b[31mERROR: jupyter-console 5.2.0 has requirement prompt-toolkit<2.0.0,>=1.0.0, but you'll have prompt-toolkit 3.0.5 which is incompatible.\u001b[0m\n",
            "\u001b[31mERROR: google-colab 1.0.0 has requirement ipython~=5.5.0, but you'll have ipython 7.13.0 which is incompatible.\u001b[0m\n",
            "\u001b[K     |████████████████████████████████| 122kB 2.7MB/s \n",
            "\u001b[31mERROR: jupyter-console 5.2.0 has requirement prompt-toolkit<2.0.0,>=1.0.0, but you'll have prompt-toolkit 3.0.5 which is incompatible.\u001b[0m\n",
            "\u001b[31mERROR: google-colab 1.0.0 has requirement ipykernel~=4.10, but you'll have ipykernel 5.2.1 which is incompatible.\u001b[0m\n",
            "\u001b[31mERROR: google-colab 1.0.0 has requirement ipython~=5.5.0, but you'll have ipython 7.13.0 which is incompatible.\u001b[0m\n",
            "\u001b[K     |████████████████████████████████| 8.0MB 2.8MB/s \n",
            "\u001b[K     |████████████████████████████████| 143kB 2.7MB/s \n",
            "\u001b[K     |████████████████████████████████| 133kB 37.1MB/s \n",
            "\u001b[?25h  Building wheel for pykafka (setup.py) ... \u001b[?25l\u001b[?25hdone\n"
          ],
          "name": "stdout"
        },
        {
          "output_type": "execute_result",
          "data": {
            "text/html": [
              "\n",
              "  <div style=\"border: 5px solid green; padding: 20px; margin: 20px;\"> \n",
              "    <h2 style=\"color:red;\">Restart the runtime</h2>\n",
              "    <p>We have upgraded IPython and you must restart the \n",
              "       runtime (Runtime > Restart runtime ...) before continuing.</p>\n",
              "  </div>  \n"
            ],
            "text/plain": [
              "<IPython.core.display.HTML object>"
            ]
          },
          "metadata": {
            "tags": []
          },
          "execution_count": 1
        }
      ]
    },
    {
      "cell_type": "code",
      "metadata": {
        "id": "o7R1INZrvQuI",
        "colab_type": "code",
        "cellView": "form",
        "colab": {}
      },
      "source": [
        "#@title ## Setup Kafka\n",
        "#@markdown This cell will install Kafka 2.12\n",
        "%%bash\n",
        "sudo apt-get update -qq\n",
        "sudo wget https://www-us.apache.org/dist/kafka/2.3.0/kafka_2.12-2.3.0.tgz -q\n",
        "sudo tar -xzf kafka_2.12-2.3.0.tgz\n",
        "sudo mv kafka_2.12-2.3.0 /opt/kafka"
      ],
      "execution_count": 0,
      "outputs": []
    },
    {
      "cell_type": "code",
      "metadata": {
        "id": "kVa5LP_25WG4",
        "colab_type": "code",
        "cellView": "form",
        "colab": {}
      },
      "source": [
        "#@title ## Start services\n",
        "#@markdown Start ``zookeeper on port 2181`` and  ``kafka on port 9092``(default ports).\n",
        "\n",
        "%%bash\n",
        "sudo nohup /opt/kafka/bin/zookeeper-server-start.sh -daemon /opt/kafka/config/zookeeper.properties > /dev/null 2>&1 &\n",
        "sleep 5\n",
        "sudo nohup /opt/kafka/bin/kafka-server-start.sh -daemon /opt/kafka/config/server.properties > /dev/null 2>&1 &"
      ],
      "execution_count": 0,
      "outputs": []
    },
    {
      "cell_type": "markdown",
      "metadata": {
        "id": "7lpalAywVV4M",
        "colab_type": "text"
      },
      "source": [
        "## List all the Kafka topics available on the server\n",
        "\n",
        "The `--zookeeper` parameter is required everytime you want to call the `kafka-topics` command"
      ]
    },
    {
      "cell_type": "code",
      "metadata": {
        "id": "GhxGGKsPVvZw",
        "colab_type": "code",
        "colab": {}
      },
      "source": [
        "%%bash\n",
        "/opt/kafka/bin/kafka-topics.sh --list --zookeeper localhost:2181"
      ],
      "execution_count": 0,
      "outputs": []
    },
    {
      "cell_type": "markdown",
      "metadata": {
        "id": "7NaV3kF60Iv7",
        "colab_type": "text"
      },
      "source": [
        "## Imports"
      ]
    },
    {
      "cell_type": "code",
      "metadata": {
        "id": "kAg3v-T-0Ied",
        "colab_type": "code",
        "colab": {}
      },
      "source": [
        "import asyncio\n",
        "\n",
        "from confluent_kafka import Consumer\n",
        "from confluent_kafka import Producer\n",
        "from confluent_kafka.admin import AdminClient, NewTopic\n",
        "\n",
        "from pykafka import KafkaClient"
      ],
      "execution_count": 0,
      "outputs": []
    },
    {
      "cell_type": "markdown",
      "metadata": {
        "id": "knXD-cTVlyYN",
        "colab_type": "text"
      },
      "source": [
        "## Config"
      ]
    },
    {
      "cell_type": "code",
      "metadata": {
        "id": "45I0qU0I8LoX",
        "colab_type": "code",
        "colab": {}
      },
      "source": [
        "BROKER_URL = 'localhost:9092'\n",
        "TOPIC_NAME = 'python-test-topic'"
      ],
      "execution_count": 0,
      "outputs": []
    },
    {
      "cell_type": "markdown",
      "metadata": {
        "id": "fhMHDoln0u1U",
        "colab_type": "text"
      },
      "source": [
        "## Instantiate Kafka admin client"
      ]
    },
    {
      "cell_type": "code",
      "metadata": {
        "id": "Uo2eLct_0um_",
        "colab_type": "code",
        "outputId": "e29a5e8f-7e32-45b5-c2f4-887374d5c673",
        "colab": {
          "base_uri": "https://localhost:8080/",
          "height": 33
        }
      },
      "source": [
        "client = AdminClient({'bootstrap.servers': BROKER_URL})\n",
        "client"
      ],
      "execution_count": 6,
      "outputs": [
        {
          "output_type": "execute_result",
          "data": {
            "text/plain": [
              "<confluent_kafka.admin.AdminClient at 0x7f5b65d1e340>"
            ]
          },
          "metadata": {
            "tags": []
          },
          "execution_count": 6
        }
      ]
    },
    {
      "cell_type": "markdown",
      "metadata": {
        "id": "nKppFVXll-Ad",
        "colab_type": "text"
      },
      "source": [
        "## Create topic\n",
        "\n",
        "No need for a ``zookeeper`` reference ???"
      ]
    },
    {
      "cell_type": "code",
      "metadata": {
        "id": "TXpR5-Fw0NQq",
        "colab_type": "code",
        "outputId": "60b66992-9de4-4977-8c61-a3028b83b838",
        "colab": {
          "base_uri": "https://localhost:8080/",
          "height": 33
        }
      },
      "source": [
        "topic = NewTopic(TOPIC_NAME, num_partitions=1, replication_factor=1)\n",
        "client.create_topics([topic])"
      ],
      "execution_count": 7,
      "outputs": [
        {
          "output_type": "execute_result",
          "data": {
            "text/plain": [
              "{'python-test-topic': <Future at 0x7f5b6640bcc0 state=running>}"
            ]
          },
          "metadata": {
            "tags": []
          },
          "execution_count": 7
        }
      ]
    },
    {
      "cell_type": "markdown",
      "metadata": {
        "id": "6UIDz5-03qDL",
        "colab_type": "text"
      },
      "source": [
        "x"
      ]
    },
    {
      "cell_type": "code",
      "metadata": {
        "id": "OwUWv2Rj5Tby",
        "colab_type": "code",
        "colab": {}
      },
      "source": [
        "async def produce(topic_name):\n",
        "  \"\"\"Produces data into a kafka topic\"\"\"\n",
        "  p = Producer({'bootstrap.servers': BROKER_URL})\n",
        "  for curr_iteration in range(20):\n",
        "    print(f'Producer: New message: {curr_iteration}')\n",
        "    p.produce(topic_name, f'Message: {curr_iteration}')\n",
        "    await asyncio.sleep(1)"
      ],
      "execution_count": 0,
      "outputs": []
    },
    {
      "cell_type": "code",
      "metadata": {
        "id": "q-UAivx0LMkh",
        "colab_type": "code",
        "colab": {}
      },
      "source": [
        "async def consume(topic_name):\n",
        "  \"\"\"Consumes data from a Kafka topic\"\"\"\n",
        "  c = Consumer({'bootstrap.servers': BROKER_URL, 'group.id': 'python-test-consumer'})\n",
        "  c.subscribe([topic_name])\n",
        "\n",
        "  for _ in range(30):\n",
        "    message = c.poll(1.0)\n",
        "    if message is None:\n",
        "      print('Consumer: No message reveived')\n",
        "    elif message.error() is not None:\n",
        "      print(f'Consumer: Message had an error {message.error()}')\n",
        "    else:\n",
        "      print(f'Consumer: Key: {message.key()}, {message.value()}')\n",
        "    await asyncio.sleep(1)"
      ],
      "execution_count": 0,
      "outputs": []
    },
    {
      "cell_type": "code",
      "metadata": {
        "id": "4-HSCBBr3pTI",
        "colab_type": "code",
        "colab": {
          "base_uri": "https://localhost:8080/",
          "height": 842
        },
        "outputId": "fc11054c-4373-49d9-caa7-44f1c8603113"
      },
      "source": [
        "loop = asyncio.new_event_loop()\n",
        "asyncio.set_event_loop(loop)\n",
        "loop.run_until_complete(asyncio.gather(\n",
        "    produce(TOPIC_NAME),\n",
        "    consume(TOPIC_NAME)\n",
        "))\n",
        "loop.close()"
      ],
      "execution_count": 10,
      "outputs": [
        {
          "output_type": "stream",
          "text": [
            "Producer: New message: 0\n",
            "Consumer: No message reveived\n",
            "Producer: New message: 1\n",
            "Consumer: No message reveived\n",
            "Producer: New message: 2\n",
            "Consumer: No message reveived\n",
            "Producer: New message: 3\n",
            "Consumer: No message reveived\n",
            "Producer: New message: 4\n",
            "Consumer: Key: None, b'Message: 4'\n",
            "Producer: New message: 5\n",
            "Consumer: Key: None, b'Message: 5'\n",
            "Producer: New message: 6\n",
            "Consumer: Key: None, b'Message: 6'\n",
            "Producer: New message: 7\n",
            "Consumer: Key: None, b'Message: 7'\n",
            "Producer: New message: 8\n",
            "Consumer: Key: None, b'Message: 8'\n",
            "Producer: New message: 9\n",
            "Consumer: Key: None, b'Message: 9'\n",
            "Producer: New message: 10\n",
            "Consumer: Key: None, b'Message: 10'\n",
            "Producer: New message: 11\n",
            "Consumer: Key: None, b'Message: 11'\n",
            "Producer: New message: 12\n",
            "Consumer: Key: None, b'Message: 12'\n",
            "Producer: New message: 13\n",
            "Consumer: Key: None, b'Message: 13'\n",
            "Producer: New message: 14\n",
            "Consumer: Key: None, b'Message: 14'\n",
            "Producer: New message: 15\n",
            "Consumer: Key: None, b'Message: 15'\n",
            "Producer: New message: 16\n",
            "Consumer: Key: None, b'Message: 16'\n",
            "Producer: New message: 17\n",
            "Consumer: Key: None, b'Message: 17'\n",
            "Producer: New message: 18\n",
            "Consumer: Key: None, b'Message: 18'\n",
            "Producer: New message: 19\n",
            "Consumer: Key: None, b'Message: 19'\n",
            "Consumer: No message reveived\n",
            "Consumer: No message reveived\n",
            "Consumer: No message reveived\n",
            "Consumer: No message reveived\n",
            "Consumer: No message reveived\n",
            "Consumer: No message reveived\n",
            "Consumer: No message reveived\n",
            "Consumer: No message reveived\n",
            "Consumer: No message reveived\n",
            "Consumer: No message reveived\n"
          ],
          "name": "stdout"
        }
      ]
    },
    {
      "cell_type": "markdown",
      "metadata": {
        "id": "fotaBX7OopGf",
        "colab_type": "text"
      },
      "source": [
        "## Produce/Consume messages"
      ]
    },
    {
      "cell_type": "code",
      "metadata": {
        "id": "LKlEvvIHopjj",
        "colab_type": "code",
        "colab": {
          "base_uri": "https://localhost:8080/",
          "height": 33
        },
        "outputId": "f936b919-87c4-41af-94df-55ec637f6910"
      },
      "source": [
        "client = KafkaClient(hosts=BROKER_URL)\n",
        "client.topics"
      ],
      "execution_count": 15,
      "outputs": [
        {
          "output_type": "execute_result",
          "data": {
            "text/plain": [
              "{b'python-test-topic': <pykafka.topic.Topic at 0x7f5b62aeaa20 (name=b'python-test-topic')>}"
            ]
          },
          "metadata": {
            "tags": []
          },
          "execution_count": 15
        }
      ]
    },
    {
      "cell_type": "code",
      "metadata": {
        "id": "OC85eSOL4ZO8",
        "colab_type": "code",
        "colab": {}
      },
      "source": [
        "async def produce(topic_name):\n",
        "  \"\"\"Produces data into a kafka topic\"\"\"\n",
        "  topic = client.topics[b'python-test-topic']\n",
        "  message_key = 0\n",
        "  with topic.get_producer() as producer:\n",
        "    for curr_iteration in range(20):\n",
        "      msg = f'test message {message_key}'\n",
        "      print(f'Producer: New message: {msg}')\n",
        "      producer.produce(msg.encode())\n",
        "      message_key += 1\n",
        "      await asyncio.sleep(1)\n"
      ],
      "execution_count": 0,
      "outputs": []
    },
    {
      "cell_type": "code",
      "metadata": {
        "id": "bArJq5A64ZMH",
        "colab_type": "code",
        "colab": {}
      },
      "source": [
        "async def consume(topic_name):\n",
        "  \"\"\"Consumes data from a Kafka topic\"\"\"\n",
        "  topic = client.topics[b'python-test-topic']\n",
        "  consumer = topic.get_simple_consumer()\n",
        "  for message in consumer:\n",
        "    if message is None:\n",
        "      print('Consumer: No message reveived')\n",
        "    else:\n",
        "      print(f'Consumer: Key: {message.offset}, {message.value}')\n",
        "    await asyncio.sleep(1)"
      ],
      "execution_count": 0,
      "outputs": []
    },
    {
      "cell_type": "code",
      "metadata": {
        "id": "0nyACmzL6dwN",
        "colab_type": "code",
        "colab": {
          "base_uri": "https://localhost:8080/",
          "height": 1000
        },
        "outputId": "e679d495-ec8b-41cb-998d-d0979748178a"
      },
      "source": [
        "loop = asyncio.new_event_loop()\n",
        "asyncio.set_event_loop(loop)\n",
        "loop.run_until_complete(asyncio.gather(\n",
        "    produce(TOPIC_NAME),\n",
        "    consume(TOPIC_NAME)\n",
        "))\n",
        "loop.close()"
      ],
      "execution_count": 0,
      "outputs": [
        {
          "output_type": "stream",
          "text": [
            "Producer: New message: test message 0\n",
            "Consumer: Key: 0, b'Message: 0'\n",
            "Producer: New message: test message 1\n",
            "Consumer: Key: 1, b'Message: 1'\n",
            "Producer: New message: test message 2\n",
            "Consumer: Key: 2, b'Message: 2'\n",
            "Producer: New message: test message 3\n",
            "Consumer: Key: 3, b'Message: 3'\n",
            "Producer: New message: test message 4\n",
            "Consumer: Key: 4, b'Message: 4'\n",
            "Producer: New message: test message 5\n",
            "Consumer: Key: 5, b'Message: 5'\n",
            "Producer: New message: test message 6\n",
            "Consumer: Key: 6, b'Message: 6'\n",
            "Producer: New message: test message 7\n",
            "Consumer: Key: 7, b'Message: 7'\n",
            "Producer: New message: test message 8\n",
            "Consumer: Key: 8, b'Message: 8'\n",
            "Producer: New message: test message 9\n",
            "Consumer: Key: 9, b'Message: 9'\n",
            "Producer: New message: test message 10\n",
            "Consumer: Key: 10, b'Message: 10'\n",
            "Producer: New message: test message 11\n",
            "Consumer: Key: 11, b'Message: 11'\n",
            "Producer: New message: test message 12\n",
            "Consumer: Key: 12, b'Message: 12'\n",
            "Producer: New message: test message 13\n",
            "Consumer: Key: 13, b'Message: 13'\n",
            "Producer: New message: test message 14\n",
            "Consumer: Key: 14, b'Message: 14'\n",
            "Producer: New message: test message 15\n",
            "Consumer: Key: 15, b'Message: 15'\n",
            "Producer: New message: test message 16\n",
            "Consumer: Key: 16, b'Message: 16'\n",
            "Producer: New message: test message 17\n",
            "Consumer: Key: 17, b'Message: 17'\n",
            "Producer: New message: test message 18\n",
            "Consumer: Key: 18, b'Message: 18'\n",
            "Producer: New message: test message 19\n",
            "Consumer: Key: 19, b'Message: 19'\n",
            "Consumer: Key: 20, b'test message 0'\n",
            "Consumer: Key: 21, b'test message 1'\n",
            "Consumer: Key: 22, b'test message 2'\n",
            "Consumer: Key: 23, b'test message 3'\n",
            "Consumer: Key: 24, b'test message 4'\n",
            "Consumer: Key: 25, b'test message 5'\n",
            "Consumer: Key: 26, b'test message 6'\n",
            "Consumer: Key: 27, b'test message 7'\n",
            "Consumer: Key: 28, b'test message 8'\n",
            "Consumer: Key: 29, b'test message 9'\n",
            "Consumer: Key: 30, b'test message 10'\n",
            "Consumer: Key: 31, b'test message 11'\n",
            "Consumer: Key: 32, b'test message 12'\n",
            "Consumer: Key: 33, b'test message 13'\n",
            "Consumer: Key: 34, b'test message 14'\n",
            "Consumer: Key: 35, b'test message 15'\n",
            "Consumer: Key: 36, b'test message 16'\n",
            "Consumer: Key: 37, b'test message 17'\n",
            "Consumer: Key: 38, b'test message 18'\n",
            "Consumer: Key: 39, b'test message 19'\n"
          ],
          "name": "stdout"
        }
      ]
    }
  ]
}