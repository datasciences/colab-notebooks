{
  "nbformat": 4,
  "nbformat_minor": 0,
  "metadata": {
    "colab": {
      "name": "explore-how-kafka-partitions-work.pynb",
      "provenance": [],
      "collapsed_sections": [],
      "authorship_tag": "ABX9TyP2ta8D2YxNdGWOpFG7Nj0x",
      "include_colab_link": true
    },
    "kernelspec": {
      "name": "python3",
      "display_name": "Python 3"
    }
  },
  "cells": [
    {
      "cell_type": "markdown",
      "metadata": {
        "id": "view-in-github",
        "colab_type": "text"
      },
      "source": [
        "<a href=\"https://colab.research.google.com/github/martin-fabbri/colab-notebooks/blob/master/kafka/explore_how_kafka_partitions_work_pynb.ipynb\" target=\"_parent\"><img src=\"https://colab.research.google.com/assets/colab-badge.svg\" alt=\"Open In Colab\"/></a>"
      ]
    },
    {
      "cell_type": "markdown",
      "metadata": {
        "id": "A2S-PsbbLVkl",
        "colab_type": "text"
      },
      "source": [
        "# Explore How Kafka Partitions Work"
      ]
    },
    {
      "cell_type": "code",
      "metadata": {
        "id": "o7R1INZrvQuI",
        "colab_type": "code",
        "cellView": "form",
        "colab": {}
      },
      "source": [
        "#@title ## Setup Kafka\n",
        "#@markdown This cell will install Kafka 2.12\n",
        "%%bash\n",
        "sudo apt-get update -qq\n",
        "sudo wget https://www-us.apache.org/dist/kafka/2.3.0/kafka_2.12-2.3.0.tgz -q\n",
        "sudo tar -xzf kafka_2.12-2.3.0.tgz\n",
        "sudo mv kafka_2.12-2.3.0 /opt/kafka"
      ],
      "execution_count": 0,
      "outputs": []
    },
    {
      "cell_type": "code",
      "metadata": {
        "id": "kVa5LP_25WG4",
        "colab_type": "code",
        "cellView": "form",
        "colab": {}
      },
      "source": [
        "#@title ## Start services\n",
        "#@markdown Start ``zookeeper on port 2181`` and  ``kafka on port 9092``(default ports).\n",
        "\n",
        "%%bash\n",
        "sudo nohup /opt/kafka/bin/zookeeper-server-start.sh -daemon /opt/kafka/config/zookeeper.properties > /dev/null 2>&1 &\n",
        "sleep 5\n",
        "sudo nohup /opt/kafka/bin/kafka-server-start.sh -daemon /opt/kafka/config/server.properties > /dev/null 2>&1 &"
      ],
      "execution_count": 0,
      "outputs": []
    },
    {
      "cell_type": "markdown",
      "metadata": {
        "id": "7lpalAywVV4M",
        "colab_type": "text"
      },
      "source": [
        "Our goal is to review Kafka's architecture and understand how it stores data. \n",
        "\n",
        "## Topic Storage\n",
        "\n",
        "First, let's create a topic\n",
        "\n",
        "```shell\n",
        "kafka-topics --create --topic <topic name> --partitions 1 --replication-factor 1 --zookeeper localhost:2181\n",
        "```\n",
        "\n"
      ]
    },
    {
      "cell_type": "code",
      "metadata": {
        "id": "GhxGGKsPVvZw",
        "colab_type": "code",
        "colab": {
          "base_uri": "https://localhost:8080/",
          "height": 35
        },
        "outputId": "32ea6991-d4c2-4b31-d0f7-803f224c68dd"
      },
      "source": [
        "%%bash\n",
        "/opt/kafka/bin/kafka-topics.sh --create --topic explore01 --partitions 1 \\\n",
        "  --replication-factor 1 --zookeeper localhost:2181"
      ],
      "execution_count": 6,
      "outputs": [
        {
          "output_type": "stream",
          "text": [
            "Created topic explore01.\n"
          ],
          "name": "stdout"
        }
      ]
    },
    {
      "cell_type": "markdown",
      "metadata": {
        "id": "7NaV3kF60Iv7",
        "colab_type": "text"
      },
      "source": [
        "## Inspecting the Directory Structure\n",
        "Now that the topic is successfully created, let's see how Kafka stored it on disk. `/var/lib/kafka/data`\n",
        "```shell\n",
        "ls -alh <path to kafka data on broker> | grep kafka-arch\n",
        "```\n"
      ]
    },
    {
      "cell_type": "code",
      "metadata": {
        "id": "dwhudcS7Q-ak",
        "colab_type": "code",
        "colab": {
          "base_uri": "https://localhost:8080/",
          "height": 35
        },
        "outputId": "9b87eb0f-1aea-4ab2-b4fc-dacedccabfeb"
      },
      "source": [
        "ls -alh /tmp/kafka-logs/ | grep explore01"
      ],
      "execution_count": 15,
      "outputs": [
        {
          "output_type": "stream",
          "text": [
            "drwxr-xr-x 2 root root 4.0K Apr 18 21:46 \u001b[01;34mexplore01-0\u001b[0m/\n"
          ],
          "name": "stdout"
        }
      ]
    },
    {
      "cell_type": "markdown",
      "metadata": {
        "id": "knXD-cTVlyYN",
        "colab_type": "text"
      },
      "source": [
        "## What does the output look like?\n",
        "\n",
        "What kind of data is kept inside of the directory?\n",
        "\n",
        "```shell\n",
        "ls -alh /tmp/kafka-logs/explore*\n",
        "```\n",
        "\n",
        "If you try to open the file ending in .log is there anything in it?\n",
        "\n"
      ]
    },
    {
      "cell_type": "code",
      "metadata": {
        "id": "wPEE7rqPT9Ze",
        "colab_type": "code",
        "colab": {
          "base_uri": "https://localhost:8080/",
          "height": 139
        },
        "outputId": "7158f27b-1a04-4238-b188-6510048f3961"
      },
      "source": [
        "ls -alh /tmp/kafka-logs/explore*"
      ],
      "execution_count": 16,
      "outputs": [
        {
          "output_type": "stream",
          "text": [
            "total 12K\n",
            "drwxr-xr-x 2 root root 4.0K Apr 18 21:46 \u001b[0m\u001b[01;34m.\u001b[0m/\n",
            "drwxr-xr-x 3 root root 4.0K Apr 18 22:02 \u001b[01;34m..\u001b[0m/\n",
            "-rw-r--r-- 1 root root  10M Apr 18 21:46 00000000000000000000.index\n",
            "-rw-r--r-- 1 root root    0 Apr 18 21:46 00000000000000000000.log\n",
            "-rw-r--r-- 1 root root  10M Apr 18 21:46 00000000000000000000.timeindex\n",
            "-rw-r--r-- 1 root root    8 Apr 18 21:46 leader-epoch-checkpoint\n"
          ],
          "name": "stdout"
        }
      ]
    },
    {
      "cell_type": "code",
      "metadata": {
        "id": "4qZGs3D6UgXd",
        "colab_type": "code",
        "colab": {}
      },
      "source": [
        "cat /tmp/kafka-logs/explore01-0/00000000000000000000.log"
      ],
      "execution_count": 0,
      "outputs": []
    },
    {
      "cell_type": "code",
      "metadata": {
        "id": "d9nqWfNIVAjX",
        "colab_type": "code",
        "colab": {
          "base_uri": "https://localhost:8080/",
          "height": 35
        },
        "outputId": "61a9c60b-b509-4ada-8079-d45f11e0f71f"
      },
      "source": [
        "ls -l /tmp/kafka-logs/explore01-0/00000000000000000000.log"
      ],
      "execution_count": 18,
      "outputs": [
        {
          "output_type": "stream",
          "text": [
            "-rw-r--r-- 1 root root 0 Apr 18 21:46 /tmp/kafka-logs/explore01-0/00000000000000000000.log\n"
          ],
          "name": "stdout"
        }
      ]
    },
    {
      "cell_type": "markdown",
      "metadata": {
        "id": "0eFJAdGlT-gm",
        "colab_type": "text"
      },
      "source": [
        "## Produce Data\n",
        "Now that we have this topic, let's produce some data into it.\n",
        "\n",
        "```shell\n",
        "kafka-console-producer --topic explore01 --broker-list localhost:9092\n",
        "```\n",
        "\n",
        "Produce a couple of messages.\n"
      ]
    },
    {
      "cell_type": "code",
      "metadata": {
        "id": "WDq_DYv_WYct",
        "colab_type": "code",
        "colab": {
          "base_uri": "https://localhost:8080/",
          "height": 87
        },
        "outputId": "3a63689d-7d06-43fe-a158-cd063e4b17f9"
      },
      "source": [
        "!/opt/kafka/bin/kafka-console-producer.sh --topic explore01 --broker-list localhost:9092"
      ],
      "execution_count": 22,
      "outputs": [
        {
          "output_type": "stream",
          "text": [
            ">test 1\n",
            ">test 2\n",
            ">test 3\n",
            ">"
          ],
          "name": "stdout"
        }
      ]
    },
    {
      "cell_type": "markdown",
      "metadata": {
        "id": "T6LAAN9uW_Ph",
        "colab_type": "text"
      },
      "source": [
        "Repeat the steps from Inspecting the Directory Structure and see how the results have changed."
      ]
    },
    {
      "cell_type": "code",
      "metadata": {
        "id": "mC_uTkJuXAgT",
        "colab_type": "code",
        "colab": {}
      },
      "source": [
        "# Try the below command on the console instead, since Jupyter is not happy \n",
        "# showing binary content\n",
        "\n",
        "# !cat /tmp/kafka-logs/explore01-0/00000000000000000000.log"
      ],
      "execution_count": 0,
      "outputs": []
    },
    {
      "cell_type": "code",
      "metadata": {
        "id": "6rHr-9lFXdDh",
        "colab_type": "code",
        "colab": {
          "base_uri": "https://localhost:8080/",
          "height": 35
        },
        "outputId": "537cfcf5-159f-4956-925a-669e8411b05b"
      },
      "source": [
        "ls -l /tmp/kafka-logs/explore01-0/00000000000000000000.log"
      ],
      "execution_count": 26,
      "outputs": [
        {
          "output_type": "stream",
          "text": [
            "-rw-r--r-- 1 root root 222 Apr 18 22:14 /tmp/kafka-logs/explore01-0/00000000000000000000.log\n"
          ],
          "name": "stdout"
        }
      ]
    },
    {
      "cell_type": "markdown",
      "metadata": {
        "id": "abH7u6AvWGNE",
        "colab_type": "text"
      },
      "source": [
        "## Update the number of partitions\n",
        "\n",
        "Let's see what happens if we modify the number of partitions\n",
        "\n",
        "```shell\n",
        "kafka-topics --alter --topic explore01 --partitions 3 --zookeeper localhost:2181\n",
        "```\n",
        "\n",
        "Try repeating the steps from the previous section. How many folders do you see now?"
      ]
    },
    {
      "cell_type": "code",
      "metadata": {
        "id": "tIrvAGAuYEAR",
        "colab_type": "code",
        "colab": {
          "base_uri": "https://localhost:8080/",
          "height": 52
        },
        "outputId": "344e92e9-d6f7-424f-98b3-732558592789"
      },
      "source": [
        "%%bash\n",
        "/opt/kafka/bin/kafka-topics.sh --alter --topic explore01 --partitions 3 \\\n",
        "  --zookeeper localhost:2181"
      ],
      "execution_count": 27,
      "outputs": [
        {
          "output_type": "stream",
          "text": [
            "WARNING: If partitions are increased for a topic that has a key, the partition logic or ordering of the messages will be affected\n",
            "Adding partitions succeeded!\n"
          ],
          "name": "stdout"
        }
      ]
    },
    {
      "cell_type": "code",
      "metadata": {
        "id": "w8ci_ba5YlBf",
        "colab_type": "code",
        "colab": {
          "base_uri": "https://localhost:8080/",
          "height": 469
        },
        "outputId": "213d9de0-271c-43e2-a0c8-a6219dfdf120"
      },
      "source": [
        "ls -alh /tmp/kafka-logs/explore*"
      ],
      "execution_count": 28,
      "outputs": [
        {
          "output_type": "stream",
          "text": [
            "/tmp/kafka-logs/explore01-0:\n",
            "total 16K\n",
            "drwxr-xr-x 2 root root 4.0K Apr 18 21:46 \u001b[0m\u001b[01;34m.\u001b[0m/\n",
            "drwxr-xr-x 5 root root 4.0K Apr 18 22:22 \u001b[01;34m..\u001b[0m/\n",
            "-rw-r--r-- 1 root root  10M Apr 18 21:46 00000000000000000000.index\n",
            "-rw-r--r-- 1 root root  222 Apr 18 22:14 00000000000000000000.log\n",
            "-rw-r--r-- 1 root root  10M Apr 18 21:46 00000000000000000000.timeindex\n",
            "-rw-r--r-- 1 root root    8 Apr 18 21:46 leader-epoch-checkpoint\n",
            "\n",
            "/tmp/kafka-logs/explore01-1:\n",
            "total 12K\n",
            "drwxr-xr-x 2 root root 4.0K Apr 18 22:21 \u001b[01;34m.\u001b[0m/\n",
            "drwxr-xr-x 5 root root 4.0K Apr 18 22:22 \u001b[01;34m..\u001b[0m/\n",
            "-rw-r--r-- 1 root root  10M Apr 18 22:21 00000000000000000000.index\n",
            "-rw-r--r-- 1 root root    0 Apr 18 22:21 00000000000000000000.log\n",
            "-rw-r--r-- 1 root root  10M Apr 18 22:21 00000000000000000000.timeindex\n",
            "-rw-r--r-- 1 root root    8 Apr 18 22:21 leader-epoch-checkpoint\n",
            "\n",
            "/tmp/kafka-logs/explore01-2:\n",
            "total 12K\n",
            "drwxr-xr-x 2 root root 4.0K Apr 18 22:21 \u001b[01;34m.\u001b[0m/\n",
            "drwxr-xr-x 5 root root 4.0K Apr 18 22:22 \u001b[01;34m..\u001b[0m/\n",
            "-rw-r--r-- 1 root root  10M Apr 18 22:21 00000000000000000000.index\n",
            "-rw-r--r-- 1 root root    0 Apr 18 22:21 00000000000000000000.log\n",
            "-rw-r--r-- 1 root root  10M Apr 18 22:21 00000000000000000000.timeindex\n",
            "-rw-r--r-- 1 root root    8 Apr 18 22:21 leader-epoch-checkpoint\n"
          ],
          "name": "stdout"
        }
      ]
    }
  ]
}