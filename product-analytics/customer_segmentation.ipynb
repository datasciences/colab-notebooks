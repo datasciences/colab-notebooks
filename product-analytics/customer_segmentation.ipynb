{
  "nbformat": 4,
  "nbformat_minor": 0,
  "metadata": {
    "colab": {
      "name": "customer-segmentation.ipynb",
      "provenance": [],
      "collapsed_sections": [],
      "authorship_tag": "ABX9TyP0vSDMoL4r2+XFetgeuc9+",
      "include_colab_link": true
    },
    "kernelspec": {
      "name": "python3",
      "display_name": "Python 3"
    }
  },
  "cells": [
    {
      "cell_type": "markdown",
      "metadata": {
        "id": "view-in-github",
        "colab_type": "text"
      },
      "source": [
        "<a href=\"https://colab.research.google.com/github/martin-fabbri/colab-notebooks/blob/master/product-analytics/customer_segmentation.ipynb\" target=\"_parent\"><img src=\"https://colab.research.google.com/assets/colab-badge.svg\" alt=\"Open In Colab\"/></a>"
      ]
    },
    {
      "cell_type": "markdown",
      "metadata": {
        "id": "Xnv0AoSUOdvL",
        "colab_type": "text"
      },
      "source": [
        "# A/B Testing"
      ]
    },
    {
      "cell_type": "markdown",
      "metadata": {
        "id": "do5WrJ23Ra4q",
        "colab_type": "text"
      },
      "source": [
        "## Cohort Analysis\n",
        "\n",
        "### Time cohorts"
      ]
    },
    {
      "cell_type": "code",
      "metadata": {
        "id": "u66gjBR1OYkO",
        "colab_type": "code",
        "cellView": "both",
        "colab": {}
      },
      "source": [
        "#@title ## Setup\n",
        "#@markdown * Import dependencies\n",
        "#@markdown * App purchases\n",
        "#@markdown ---\n",
        "#@markdown **Data Set Information:**\n",
        "#@markdown Syntetic app purchases dataset\n",
        "\n",
        "import pandas as pd\n",
        "import numpy as np\n",
        "import seaborn as sns\n",
        "import matplotlib.pyplot as plt\n",
        "import matplotlib.colors as mcolors\n",
        "\n",
        "from datetime import datetime\n",
        "from datetime import timedelta\n",
        "\n",
        "!wget https://raw.githubusercontent.com/martin-fabbri/colab-notebooks/master/data/ab_testing_customer_data.csv -q\n",
        "!wget https://raw.githubusercontent.com/martin-fabbri/colab-notebooks/master/data/ab_testing_app_purchase.csv -q"
      ],
      "execution_count": 0,
      "outputs": []
    },
    {
      "cell_type": "code",
      "metadata": {
        "id": "3n9yw3PuUmuP",
        "colab_type": "code",
        "colab": {}
      },
      "source": [
        "customer_data = pd.read_csv('ab_testing_customer_data.csv')\n",
        "app_purchases = pd.read_csv('ab_testing_app_purchase.csv')"
      ],
      "execution_count": 0,
      "outputs": []
    },
    {
      "cell_type": "code",
      "metadata": {
        "id": "JafBvvAKUy5j",
        "colab_type": "code",
        "outputId": "1d9e496e-4dd1-4391-85bd-f7763a6b181c",
        "colab": {
          "base_uri": "https://localhost:8080/",
          "height": 135
        }
      },
      "source": [
        "customer_data.head(3)"
      ],
      "execution_count": 5,
      "outputs": [
        {
          "output_type": "execute_result",
          "data": {
            "text/html": [
              "<div>\n",
              "<style scoped>\n",
              "    .dataframe tbody tr th:only-of-type {\n",
              "        vertical-align: middle;\n",
              "    }\n",
              "\n",
              "    .dataframe tbody tr th {\n",
              "        vertical-align: top;\n",
              "    }\n",
              "\n",
              "    .dataframe thead th {\n",
              "        text-align: right;\n",
              "    }\n",
              "</style>\n",
              "<table border=\"1\" class=\"dataframe\">\n",
              "  <thead>\n",
              "    <tr style=\"text-align: right;\">\n",
              "      <th></th>\n",
              "      <th>uid</th>\n",
              "      <th>country</th>\n",
              "      <th>gender</th>\n",
              "      <th>spent</th>\n",
              "      <th>purchases</th>\n",
              "      <th>date</th>\n",
              "      <th>group</th>\n",
              "      <th>device</th>\n",
              "    </tr>\n",
              "  </thead>\n",
              "  <tbody>\n",
              "    <tr>\n",
              "      <th>0</th>\n",
              "      <td>11115722</td>\n",
              "      <td>MEX</td>\n",
              "      <td>F</td>\n",
              "      <td>1595</td>\n",
              "      <td>5</td>\n",
              "      <td>2016-03-08</td>\n",
              "      <td>GRP B</td>\n",
              "      <td>I</td>\n",
              "    </tr>\n",
              "    <tr>\n",
              "      <th>1</th>\n",
              "      <td>11122053</td>\n",
              "      <td>USA</td>\n",
              "      <td>M</td>\n",
              "      <td>498</td>\n",
              "      <td>2</td>\n",
              "      <td>2017-07-14</td>\n",
              "      <td>GRP B</td>\n",
              "      <td>I</td>\n",
              "    </tr>\n",
              "    <tr>\n",
              "      <th>2</th>\n",
              "      <td>11128688</td>\n",
              "      <td>USA</td>\n",
              "      <td>F</td>\n",
              "      <td>2394</td>\n",
              "      <td>6</td>\n",
              "      <td>2017-09-17</td>\n",
              "      <td>GRP A</td>\n",
              "      <td>I</td>\n",
              "    </tr>\n",
              "  </tbody>\n",
              "</table>\n",
              "</div>"
            ],
            "text/plain": [
              "        uid country gender  spent  purchases        date  group device\n",
              "0  11115722     MEX      F   1595          5  2016-03-08  GRP B      I\n",
              "1  11122053     USA      M    498          2  2017-07-14  GRP B      I\n",
              "2  11128688     USA      F   2394          6  2017-09-17  GRP A      I"
            ]
          },
          "metadata": {
            "tags": []
          },
          "execution_count": 5
        }
      ]
    },
    {
      "cell_type": "code",
      "metadata": {
        "id": "Xlp6uNcGAKGz",
        "colab_type": "code",
        "colab": {
          "base_uri": "https://localhost:8080/",
          "height": 135
        },
        "outputId": "c51c0c1a-58f7-43fd-fa33-f8436fa7c9e3"
      },
      "source": [
        "app_purchases.head(3)"
      ],
      "execution_count": 6,
      "outputs": [
        {
          "output_type": "execute_result",
          "data": {
            "text/html": [
              "<div>\n",
              "<style scoped>\n",
              "    .dataframe tbody tr th:only-of-type {\n",
              "        vertical-align: middle;\n",
              "    }\n",
              "\n",
              "    .dataframe tbody tr th {\n",
              "        vertical-align: top;\n",
              "    }\n",
              "\n",
              "    .dataframe thead th {\n",
              "        text-align: right;\n",
              "    }\n",
              "</style>\n",
              "<table border=\"1\" class=\"dataframe\">\n",
              "  <thead>\n",
              "    <tr style=\"text-align: right;\">\n",
              "      <th></th>\n",
              "      <th>date</th>\n",
              "      <th>uid</th>\n",
              "      <th>sku</th>\n",
              "      <th>price</th>\n",
              "    </tr>\n",
              "  </thead>\n",
              "  <tbody>\n",
              "    <tr>\n",
              "      <th>0</th>\n",
              "      <td>7/10/2017</td>\n",
              "      <td>11115722</td>\n",
              "      <td>sku_three_499</td>\n",
              "      <td>499</td>\n",
              "    </tr>\n",
              "    <tr>\n",
              "      <th>1</th>\n",
              "      <td>7/15/2017</td>\n",
              "      <td>11122053</td>\n",
              "      <td>sku_three_499</td>\n",
              "      <td>499</td>\n",
              "    </tr>\n",
              "    <tr>\n",
              "      <th>2</th>\n",
              "      <td>11/12/2017</td>\n",
              "      <td>11128688</td>\n",
              "      <td>sku_four_599</td>\n",
              "      <td>599</td>\n",
              "    </tr>\n",
              "  </tbody>\n",
              "</table>\n",
              "</div>"
            ],
            "text/plain": [
              "         date       uid            sku  price\n",
              "0   7/10/2017  11115722  sku_three_499    499\n",
              "1   7/15/2017  11122053  sku_three_499    499\n",
              "2  11/12/2017  11128688   sku_four_599    599"
            ]
          },
          "metadata": {
            "tags": []
          },
          "execution_count": 6
        }
      ]
    },
    {
      "cell_type": "code",
      "metadata": {
        "id": "tVnuVP9sGIuE",
        "colab_type": "code",
        "colab": {
          "base_uri": "https://localhost:8080/",
          "height": 282
        },
        "outputId": "0848bb71-15c4-4f85-d1c5-1cb10f0af4c9"
      },
      "source": [
        "uid_combined_data = app_purchases.merge(customer_data, on=['uid'], how='inner')\n",
        "uid_combined_data.describe()"
      ],
      "execution_count": 7,
      "outputs": [
        {
          "output_type": "execute_result",
          "data": {
            "text/html": [
              "<div>\n",
              "<style scoped>\n",
              "    .dataframe tbody tr th:only-of-type {\n",
              "        vertical-align: middle;\n",
              "    }\n",
              "\n",
              "    .dataframe tbody tr th {\n",
              "        vertical-align: top;\n",
              "    }\n",
              "\n",
              "    .dataframe thead th {\n",
              "        text-align: right;\n",
              "    }\n",
              "</style>\n",
              "<table border=\"1\" class=\"dataframe\">\n",
              "  <thead>\n",
              "    <tr style=\"text-align: right;\">\n",
              "      <th></th>\n",
              "      <th>uid</th>\n",
              "      <th>price</th>\n",
              "      <th>spent</th>\n",
              "      <th>purchases</th>\n",
              "    </tr>\n",
              "  </thead>\n",
              "  <tbody>\n",
              "    <tr>\n",
              "      <th>count</th>\n",
              "      <td>9.006000e+03</td>\n",
              "      <td>9006.000000</td>\n",
              "      <td>9006.000000</td>\n",
              "      <td>9006.000000</td>\n",
              "    </tr>\n",
              "    <tr>\n",
              "      <th>mean</th>\n",
              "      <td>1.985404e+07</td>\n",
              "      <td>406.772596</td>\n",
              "      <td>1897.186986</td>\n",
              "      <td>4.567400</td>\n",
              "    </tr>\n",
              "    <tr>\n",
              "      <th>std</th>\n",
              "      <td>5.025477e+06</td>\n",
              "      <td>187.918230</td>\n",
              "      <td>1367.149729</td>\n",
              "      <td>3.121144</td>\n",
              "    </tr>\n",
              "    <tr>\n",
              "      <th>min</th>\n",
              "      <td>1.111572e+07</td>\n",
              "      <td>99.000000</td>\n",
              "      <td>99.000000</td>\n",
              "      <td>1.000000</td>\n",
              "    </tr>\n",
              "    <tr>\n",
              "      <th>25%</th>\n",
              "      <td>1.556113e+07</td>\n",
              "      <td>299.000000</td>\n",
              "      <td>897.000000</td>\n",
              "      <td>2.000000</td>\n",
              "    </tr>\n",
              "    <tr>\n",
              "      <th>50%</th>\n",
              "      <td>1.981417e+07</td>\n",
              "      <td>299.000000</td>\n",
              "      <td>1596.000000</td>\n",
              "      <td>4.000000</td>\n",
              "    </tr>\n",
              "    <tr>\n",
              "      <th>75%</th>\n",
              "      <td>2.423075e+07</td>\n",
              "      <td>499.000000</td>\n",
              "      <td>2594.000000</td>\n",
              "      <td>6.000000</td>\n",
              "    </tr>\n",
              "    <tr>\n",
              "      <th>max</th>\n",
              "      <td>2.852533e+07</td>\n",
              "      <td>899.000000</td>\n",
              "      <td>11176.000000</td>\n",
              "      <td>24.000000</td>\n",
              "    </tr>\n",
              "  </tbody>\n",
              "</table>\n",
              "</div>"
            ],
            "text/plain": [
              "                uid        price         spent    purchases\n",
              "count  9.006000e+03  9006.000000   9006.000000  9006.000000\n",
              "mean   1.985404e+07   406.772596   1897.186986     4.567400\n",
              "std    5.025477e+06   187.918230   1367.149729     3.121144\n",
              "min    1.111572e+07    99.000000     99.000000     1.000000\n",
              "25%    1.556113e+07   299.000000    897.000000     2.000000\n",
              "50%    1.981417e+07   299.000000   1596.000000     4.000000\n",
              "75%    2.423075e+07   499.000000   2594.000000     6.000000\n",
              "max    2.852533e+07   899.000000  11176.000000    24.000000"
            ]
          },
          "metadata": {
            "tags": []
          },
          "execution_count": 7
        }
      ]
    },
    {
      "cell_type": "code",
      "metadata": {
        "id": "TQs4cGtVGIqp",
        "colab_type": "code",
        "colab": {
          "base_uri": "https://localhost:8080/",
          "height": 194
        },
        "outputId": "87baeb48-7829-46f3-b9e7-99d7dcaec3ab"
      },
      "source": [
        "uid_combined_data.head()"
      ],
      "execution_count": 8,
      "outputs": [
        {
          "output_type": "execute_result",
          "data": {
            "text/html": [
              "<div>\n",
              "<style scoped>\n",
              "    .dataframe tbody tr th:only-of-type {\n",
              "        vertical-align: middle;\n",
              "    }\n",
              "\n",
              "    .dataframe tbody tr th {\n",
              "        vertical-align: top;\n",
              "    }\n",
              "\n",
              "    .dataframe thead th {\n",
              "        text-align: right;\n",
              "    }\n",
              "</style>\n",
              "<table border=\"1\" class=\"dataframe\">\n",
              "  <thead>\n",
              "    <tr style=\"text-align: right;\">\n",
              "      <th></th>\n",
              "      <th>date_x</th>\n",
              "      <th>uid</th>\n",
              "      <th>sku</th>\n",
              "      <th>price</th>\n",
              "      <th>country</th>\n",
              "      <th>gender</th>\n",
              "      <th>spent</th>\n",
              "      <th>purchases</th>\n",
              "      <th>date_y</th>\n",
              "      <th>group</th>\n",
              "      <th>device</th>\n",
              "    </tr>\n",
              "  </thead>\n",
              "  <tbody>\n",
              "    <tr>\n",
              "      <th>0</th>\n",
              "      <td>7/10/2017</td>\n",
              "      <td>11115722</td>\n",
              "      <td>sku_three_499</td>\n",
              "      <td>499</td>\n",
              "      <td>MEX</td>\n",
              "      <td>F</td>\n",
              "      <td>1595</td>\n",
              "      <td>5</td>\n",
              "      <td>2016-03-08</td>\n",
              "      <td>GRP B</td>\n",
              "      <td>I</td>\n",
              "    </tr>\n",
              "    <tr>\n",
              "      <th>1</th>\n",
              "      <td>7/15/2017</td>\n",
              "      <td>11122053</td>\n",
              "      <td>sku_three_499</td>\n",
              "      <td>499</td>\n",
              "      <td>USA</td>\n",
              "      <td>M</td>\n",
              "      <td>498</td>\n",
              "      <td>2</td>\n",
              "      <td>2017-07-14</td>\n",
              "      <td>GRP B</td>\n",
              "      <td>I</td>\n",
              "    </tr>\n",
              "    <tr>\n",
              "      <th>2</th>\n",
              "      <td>11/12/2017</td>\n",
              "      <td>11128688</td>\n",
              "      <td>sku_four_599</td>\n",
              "      <td>599</td>\n",
              "      <td>USA</td>\n",
              "      <td>F</td>\n",
              "      <td>2394</td>\n",
              "      <td>6</td>\n",
              "      <td>2017-09-17</td>\n",
              "      <td>GRP A</td>\n",
              "      <td>I</td>\n",
              "    </tr>\n",
              "    <tr>\n",
              "      <th>3</th>\n",
              "      <td>9/26/2017</td>\n",
              "      <td>11130578</td>\n",
              "      <td>sku_two_299</td>\n",
              "      <td>299</td>\n",
              "      <td>USA</td>\n",
              "      <td>F</td>\n",
              "      <td>1197</td>\n",
              "      <td>3</td>\n",
              "      <td>2017-11-30</td>\n",
              "      <td>GRP A</td>\n",
              "      <td>I</td>\n",
              "    </tr>\n",
              "    <tr>\n",
              "      <th>4</th>\n",
              "      <td>12/1/2017</td>\n",
              "      <td>11130759</td>\n",
              "      <td>sku_four_599</td>\n",
              "      <td>599</td>\n",
              "      <td>ESP</td>\n",
              "      <td>M</td>\n",
              "      <td>1297</td>\n",
              "      <td>3</td>\n",
              "      <td>2018-01-10</td>\n",
              "      <td>GRP B</td>\n",
              "      <td>A</td>\n",
              "    </tr>\n",
              "  </tbody>\n",
              "</table>\n",
              "</div>"
            ],
            "text/plain": [
              "       date_x       uid            sku  ...      date_y  group device\n",
              "0   7/10/2017  11115722  sku_three_499  ...  2016-03-08  GRP B      I\n",
              "1   7/15/2017  11122053  sku_three_499  ...  2017-07-14  GRP B      I\n",
              "2  11/12/2017  11128688   sku_four_599  ...  2017-09-17  GRP A      I\n",
              "3   9/26/2017  11130578    sku_two_299  ...  2017-11-30  GRP A      I\n",
              "4   12/1/2017  11130759   sku_four_599  ...  2018-01-10  GRP B      A\n",
              "\n",
              "[5 rows x 11 columns]"
            ]
          },
          "metadata": {
            "tags": []
          },
          "execution_count": 8
        }
      ]
    },
    {
      "cell_type": "code",
      "metadata": {
        "id": "11rXel5uhBLa",
        "colab_type": "code",
        "colab": {
          "base_uri": "https://localhost:8080/",
          "height": 33
        },
        "outputId": "45e5a413-cfeb-4fb5-90b5-15b6661b2b03"
      },
      "source": [
        "app_purchases.price.agg('mean')"
      ],
      "execution_count": 9,
      "outputs": [
        {
          "output_type": "execute_result",
          "data": {
            "text/plain": [
              "406.77259604707973"
            ]
          },
          "metadata": {
            "tags": []
          },
          "execution_count": 9
        }
      ]
    },
    {
      "cell_type": "code",
      "metadata": {
        "id": "CWwWAD2hhBIl",
        "colab_type": "code",
        "colab": {
          "base_uri": "https://localhost:8080/",
          "height": 33
        },
        "outputId": "3a287c66-eb58-45d0-a14c-2b91173ce71b"
      },
      "source": [
        "app_purchases.price.mean()"
      ],
      "execution_count": 10,
      "outputs": [
        {
          "output_type": "execute_result",
          "data": {
            "text/plain": [
              "406.77259604707973"
            ]
          },
          "metadata": {
            "tags": []
          },
          "execution_count": 10
        }
      ]
    },
    {
      "cell_type": "code",
      "metadata": {
        "id": "zmXYXsQNhBFW",
        "colab_type": "code",
        "colab": {
          "base_uri": "https://localhost:8080/",
          "height": 66
        },
        "outputId": "93c8077c-8ae3-45e8-e79c-2ea4e334d661"
      },
      "source": [
        "app_purchases.price.agg(['mean', 'median'])"
      ],
      "execution_count": 11,
      "outputs": [
        {
          "output_type": "execute_result",
          "data": {
            "text/plain": [
              "mean      406.772596\n",
              "median    299.000000\n",
              "Name: price, dtype: float64"
            ]
          },
          "metadata": {
            "tags": []
          },
          "execution_count": 11
        }
      ]
    },
    {
      "cell_type": "code",
      "metadata": {
        "id": "0OfmjyaLhBCV",
        "colab_type": "code",
        "colab": {
          "base_uri": "https://localhost:8080/",
          "height": 106
        },
        "outputId": "f4c47e27-0ee8-4a3d-90a9-0aa7ba2f1b3a"
      },
      "source": [
        "purchase_summary = uid_combined_data.agg({\n",
        "    'price': ['mean', 'median'],\n",
        "    'purchases': ['mean', 'median'],\n",
        "})\n",
        "purchase_summary"
      ],
      "execution_count": 12,
      "outputs": [
        {
          "output_type": "execute_result",
          "data": {
            "text/html": [
              "<div>\n",
              "<style scoped>\n",
              "    .dataframe tbody tr th:only-of-type {\n",
              "        vertical-align: middle;\n",
              "    }\n",
              "\n",
              "    .dataframe tbody tr th {\n",
              "        vertical-align: top;\n",
              "    }\n",
              "\n",
              "    .dataframe thead th {\n",
              "        text-align: right;\n",
              "    }\n",
              "</style>\n",
              "<table border=\"1\" class=\"dataframe\">\n",
              "  <thead>\n",
              "    <tr style=\"text-align: right;\">\n",
              "      <th></th>\n",
              "      <th>price</th>\n",
              "      <th>purchases</th>\n",
              "    </tr>\n",
              "  </thead>\n",
              "  <tbody>\n",
              "    <tr>\n",
              "      <th>mean</th>\n",
              "      <td>406.772596</td>\n",
              "      <td>4.5674</td>\n",
              "    </tr>\n",
              "    <tr>\n",
              "      <th>median</th>\n",
              "      <td>299.000000</td>\n",
              "      <td>4.0000</td>\n",
              "    </tr>\n",
              "  </tbody>\n",
              "</table>\n",
              "</div>"
            ],
            "text/plain": [
              "             price  purchases\n",
              "mean    406.772596     4.5674\n",
              "median  299.000000     4.0000"
            ]
          },
          "metadata": {
            "tags": []
          },
          "execution_count": 12
        }
      ]
    },
    {
      "cell_type": "code",
      "metadata": {
        "id": "pe9XbiJBhA_G",
        "colab_type": "code",
        "colab": {
          "base_uri": "https://localhost:8080/",
          "height": 223
        },
        "outputId": "76be432a-513c-49eb-a7b9-13caf3078d0d"
      },
      "source": [
        "grouped_purchase_data = uid_combined_data.groupby(['device', 'gender'])\n",
        "purchase_summary = grouped_purchase_data.agg({'price' : ['mean', 'median', 'std']})\n",
        "purchase_summary"
      ],
      "execution_count": 13,
      "outputs": [
        {
          "output_type": "execute_result",
          "data": {
            "text/html": [
              "<div>\n",
              "<style scoped>\n",
              "    .dataframe tbody tr th:only-of-type {\n",
              "        vertical-align: middle;\n",
              "    }\n",
              "\n",
              "    .dataframe tbody tr th {\n",
              "        vertical-align: top;\n",
              "    }\n",
              "\n",
              "    .dataframe thead tr th {\n",
              "        text-align: left;\n",
              "    }\n",
              "\n",
              "    .dataframe thead tr:last-of-type th {\n",
              "        text-align: right;\n",
              "    }\n",
              "</style>\n",
              "<table border=\"1\" class=\"dataframe\">\n",
              "  <thead>\n",
              "    <tr>\n",
              "      <th></th>\n",
              "      <th></th>\n",
              "      <th colspan=\"3\" halign=\"left\">price</th>\n",
              "    </tr>\n",
              "    <tr>\n",
              "      <th></th>\n",
              "      <th></th>\n",
              "      <th>mean</th>\n",
              "      <th>median</th>\n",
              "      <th>std</th>\n",
              "    </tr>\n",
              "    <tr>\n",
              "      <th>device</th>\n",
              "      <th>gender</th>\n",
              "      <th></th>\n",
              "      <th></th>\n",
              "      <th></th>\n",
              "    </tr>\n",
              "  </thead>\n",
              "  <tbody>\n",
              "    <tr>\n",
              "      <th rowspan=\"2\" valign=\"top\">A</th>\n",
              "      <th>F</th>\n",
              "      <td>413.396355</td>\n",
              "      <td>499</td>\n",
              "      <td>191.364475</td>\n",
              "    </tr>\n",
              "    <tr>\n",
              "      <th>M</th>\n",
              "      <td>402.425846</td>\n",
              "      <td>299</td>\n",
              "      <td>184.641220</td>\n",
              "    </tr>\n",
              "    <tr>\n",
              "      <th rowspan=\"2\" valign=\"top\">I</th>\n",
              "      <th>F</th>\n",
              "      <td>406.091562</td>\n",
              "      <td>299</td>\n",
              "      <td>188.163379</td>\n",
              "    </tr>\n",
              "    <tr>\n",
              "      <th>M</th>\n",
              "      <td>405.455863</td>\n",
              "      <td>299</td>\n",
              "      <td>187.569669</td>\n",
              "    </tr>\n",
              "  </tbody>\n",
              "</table>\n",
              "</div>"
            ],
            "text/plain": [
              "                    price                   \n",
              "                     mean median         std\n",
              "device gender                               \n",
              "A      F       413.396355    499  191.364475\n",
              "       M       402.425846    299  184.641220\n",
              "I      F       406.091562    299  188.163379\n",
              "       M       405.455863    299  187.569669"
            ]
          },
          "metadata": {
            "tags": []
          },
          "execution_count": 13
        }
      ]
    },
    {
      "cell_type": "code",
      "metadata": {
        "id": "RhmtXm2jhA72",
        "colab_type": "code",
        "colab": {
          "base_uri": "https://localhost:8080/",
          "height": 33
        },
        "outputId": "b124982d-decc-425d-bd74-5c24420d0e6a"
      },
      "source": [
        "cutoff_date = datetime(2018, 3, 17)\n",
        "max_purchase_date = cutoff_date - timedelta(days=28)\n",
        "max_purchase_date"
      ],
      "execution_count": 24,
      "outputs": [
        {
          "output_type": "execute_result",
          "data": {
            "text/plain": [
              "datetime.datetime(2018, 2, 17, 0, 0)"
            ]
          },
          "metadata": {
            "tags": []
          },
          "execution_count": 24
        }
      ]
    },
    {
      "cell_type": "markdown",
      "metadata": {
        "id": "ghna-fGYsiJ4",
        "colab_type": "text"
      },
      "source": [
        "Filter to only include users who registered before our max date"
      ]
    },
    {
      "cell_type": "code",
      "metadata": {
        "id": "OyC9WfrinBB_",
        "colab_type": "code",
        "colab": {
          "base_uri": "https://localhost:8080/",
          "height": 33
        },
        "outputId": "6374742b-441c-438d-c284-7654491e667f"
      },
      "source": [
        "purchase_data_filt = purchase_data[ purchase < ]"
      ],
      "execution_count": 23,
      "outputs": [
        {
          "output_type": "execute_result",
          "data": {
            "text/plain": [
              "datetime.datetime(2018, 3, 17, 0, 0)"
            ]
          },
          "metadata": {
            "tags": []
          },
          "execution_count": 23
        }
      ]
    },
    {
      "cell_type": "code",
      "metadata": {
        "id": "9ap87GI-nBAP",
        "colab_type": "code",
        "colab": {}
      },
      "source": [
        ""
      ],
      "execution_count": 0,
      "outputs": []
    },
    {
      "cell_type": "code",
      "metadata": {
        "id": "eNAa-J1AnA9-",
        "colab_type": "code",
        "colab": {}
      },
      "source": [
        ""
      ],
      "execution_count": 0,
      "outputs": []
    },
    {
      "cell_type": "code",
      "metadata": {
        "id": "nYLaW7-mnA6Z",
        "colab_type": "code",
        "colab": {}
      },
      "source": [
        ""
      ],
      "execution_count": 0,
      "outputs": []
    },
    {
      "cell_type": "code",
      "metadata": {
        "id": "O_6D0XVDnA3R",
        "colab_type": "code",
        "colab": {}
      },
      "source": [
        ""
      ],
      "execution_count": 0,
      "outputs": []
    },
    {
      "cell_type": "code",
      "metadata": {
        "id": "GaDXXzU6nA0Z",
        "colab_type": "code",
        "colab": {}
      },
      "source": [
        ""
      ],
      "execution_count": 0,
      "outputs": []
    },
    {
      "cell_type": "markdown",
      "metadata": {
        "id": "JO0HO_qom_mv",
        "colab_type": "text"
      },
      "source": [
        ""
      ]
    }
  ]
}