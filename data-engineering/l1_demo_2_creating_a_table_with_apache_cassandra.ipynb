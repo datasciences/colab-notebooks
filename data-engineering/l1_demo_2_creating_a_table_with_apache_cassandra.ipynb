{
  "nbformat": 4,
  "nbformat_minor": 0,
  "metadata": {
    "kernelspec": {
      "display_name": "Python 3",
      "language": "python",
      "name": "python3"
    },
    "language_info": {
      "codemirror_mode": {
        "name": "ipython",
        "version": 3
      },
      "file_extension": ".py",
      "mimetype": "text/x-python",
      "name": "python",
      "nbconvert_exporter": "python",
      "pygments_lexer": "ipython3",
      "version": "3.7.2"
    },
    "colab": {
      "name": "l1-demo-2-creating-a-table-with-apache-cassandra.ipynb",
      "provenance": [],
      "collapsed_sections": [
        "w4A_DDi-IeSt",
        "iVghXjMEJuUd",
        "BMbFlAcCG5_g"
      ],
      "include_colab_link": true
    }
  },
  "cells": [
    {
      "cell_type": "markdown",
      "metadata": {
        "id": "view-in-github",
        "colab_type": "text"
      },
      "source": [
        "<a href=\"https://colab.research.google.com/github/martin-fabbri/colab-notebooks/blob/master/data-engineering/l1_demo_2_creating_a_table_with_apache_cassandra.ipynb\" target=\"_parent\"><img src=\"https://colab.research.google.com/assets/colab-badge.svg\" alt=\"Open In Colab\"/></a>"
      ]
    },
    {
      "cell_type": "markdown",
      "metadata": {
        "id": "xsMCLcxzG5_b",
        "colab_type": "text"
      },
      "source": [
        "# Lesson 1 Demo 2: Creating a Table with Apache Cassandra\n",
        "\n",
        "<img src=\"https://upload.wikimedia.org/wikipedia/commons/thumb/5/5e/Cassandra_logo.svg/1200px-Cassandra_logo.svg.png\" width=\"100\" height=\"100\">"
      ]
    },
    {
      "cell_type": "markdown",
      "metadata": {
        "id": "w4A_DDi-IeSt",
        "colab_type": "text"
      },
      "source": [
        "## JDK requirement\n",
        "Cassandra requires either the Oracle Java Standard Edition 8 or OpenJDK 8. To verify that you have the correct version of java installed, type run the cell below and check for `java-1.8.*`."
      ]
    },
    {
      "cell_type": "code",
      "metadata": {
        "id": "h-pLxTj_IYaX",
        "colab_type": "code",
        "colab": {
          "base_uri": "https://localhost:8080/",
          "height": 52
        },
        "outputId": "aee5bea7-a4d0-4272-9b5a-7036fee3106b"
      },
      "source": [
        "!update-java-alternatives --list"
      ],
      "execution_count": 1,
      "outputs": [
        {
          "output_type": "stream",
          "text": [
            "java-1.11.0-openjdk-amd64      1111       /usr/lib/jvm/java-1.11.0-openjdk-amd64\n",
            "java-1.8.0-openjdk-amd64       1081       /usr/lib/jvm/java-1.8.0-openjdk-amd64\n"
          ],
          "name": "stdout"
        }
      ]
    },
    {
      "cell_type": "markdown",
      "metadata": {
        "id": "YzkD7FssJVB3",
        "colab_type": "text"
      },
      "source": [
        "Set the right jdk version required by Cassandra."
      ]
    },
    {
      "cell_type": "code",
      "metadata": {
        "id": "GsuU3mR0IYW8",
        "colab_type": "code",
        "colab": {
          "base_uri": "https://localhost:8080/",
          "height": 278
        },
        "outputId": "fa4728c7-e730-4c0d-c958-9b7ba561d07f"
      },
      "source": [
        "!update-java-alternatives --set java-1.8.0-openjdk-amd64"
      ],
      "execution_count": 2,
      "outputs": [
        {
          "output_type": "stream",
          "text": [
            "update-alternatives: error: no alternatives for appletviewer\n",
            "update-alternatives: error: no alternatives for jaotc\n",
            "update-alternatives: error: no alternatives for jconsole\n",
            "update-alternatives: error: no alternatives for jdeprscan\n",
            "update-alternatives: error: no alternatives for jhsdb\n",
            "update-alternatives: error: no alternatives for jimage\n",
            "update-alternatives: error: no alternatives for jlink\n",
            "update-alternatives: error: no alternatives for jmod\n",
            "update-alternatives: error: no alternatives for jshell\n",
            "update-alternatives: error: no alternatives for mozilla-javaplugin.so\n",
            "update-alternatives: error: no alternatives for policytool\n",
            "update-java-alternatives: jdk alternative does not exist: /usr/lib/jvm/java-8-openjdk-amd64/bin/appletviewer\n",
            "update-java-alternatives: jdk alternative does not exist: /usr/lib/jvm/java-8-openjdk-amd64/bin/jconsole\n",
            "update-alternatives: error: no alternatives for policytool\n",
            "update-java-alternatives: plugin alternative does not exist: /usr/lib/jvm/java-8-openjdk-amd64/jre/lib/amd64/IcedTeaPlugin.so\n"
          ],
          "name": "stdout"
        }
      ]
    },
    {
      "cell_type": "code",
      "metadata": {
        "id": "vuyYgXnEIYUW",
        "colab_type": "code",
        "colab": {
          "base_uri": "https://localhost:8080/",
          "height": 69
        },
        "outputId": "9dc01a33-f465-471e-ae93-95a6a2ba50f1"
      },
      "source": [
        "!java -version"
      ],
      "execution_count": 3,
      "outputs": [
        {
          "output_type": "stream",
          "text": [
            "openjdk version \"1.8.0_242\"\n",
            "OpenJDK Runtime Environment (build 1.8.0_242-8u242-b08-0ubuntu3~18.04-b08)\n",
            "OpenJDK 64-Bit Server VM (build 25.242-b08, mixed mode)\n"
          ],
          "name": "stdout"
        }
      ]
    },
    {
      "cell_type": "markdown",
      "metadata": {
        "id": "iVghXjMEJuUd",
        "colab_type": "text"
      },
      "source": [
        "## Setup a Cassandra instance"
      ]
    },
    {
      "cell_type": "code",
      "metadata": {
        "id": "cXZSaO90IYRf",
        "colab_type": "code",
        "colab": {
          "base_uri": "https://localhost:8080/",
          "height": 35
        },
        "outputId": "b88d7e2b-16e9-4c35-d9d0-5645d5e59bcf"
      },
      "source": [
        "!echo \"deb https://downloads.apache.org/cassandra/debian 311x main\" | sudo tee -a /etc/apt/sources.list.d/cassandra.sources.list"
      ],
      "execution_count": 4,
      "outputs": [
        {
          "output_type": "stream",
          "text": [
            "deb https://downloads.apache.org/cassandra/debian 311x main\n"
          ],
          "name": "stdout"
        }
      ]
    },
    {
      "cell_type": "code",
      "metadata": {
        "id": "u3R9JOjAIYOb",
        "colab_type": "code",
        "colab": {
          "base_uri": "https://localhost:8080/",
          "height": 87
        },
        "outputId": "1560f379-da19-48b9-9646-3fe0bc96707c"
      },
      "source": [
        "!curl https://downloads.apache.org/cassandra/KEYS | sudo apt-key add -"
      ],
      "execution_count": 5,
      "outputs": [
        {
          "output_type": "stream",
          "text": [
            "  % Total    % Received % Xferd  Average Speed   Time    Time     Time  Current\n",
            "                                 Dload  Upload   Total   Spent    Left  Speed\n",
            "100  252k  100  252k    0     0   287k      0 --:--:-- --:--:-- --:--:--  286k\n",
            "OK\n"
          ],
          "name": "stdout"
        }
      ]
    },
    {
      "cell_type": "code",
      "metadata": {
        "id": "Ybnp9pDyIYLf",
        "colab_type": "code",
        "colab": {
          "base_uri": "https://localhost:8080/",
          "height": 260
        },
        "outputId": "648a80b6-f2c2-4572-cc65-faf12cab901f"
      },
      "source": [
        "!sudo apt-get update"
      ],
      "execution_count": 8,
      "outputs": [
        {
          "output_type": "stream",
          "text": [
            "\r0% [Working]\r            \rHit:1 http://security.ubuntu.com/ubuntu bionic-security InRelease\n",
            "\r0% [Connecting to archive.ubuntu.com (91.189.88.152)] [Connected to cloud.r-pro\r0% [1 InRelease gpgv 88.7 kB] [Connecting to archive.ubuntu.com (91.189.88.152)\r                                                                               \rIgn:2 https://developer.download.nvidia.com/compute/cuda/repos/ubuntu1804/x86_64  InRelease\n",
            "\r0% [1 InRelease gpgv 88.7 kB] [Waiting for headers] [Waiting for headers] [Conn\r                                                                               \rHit:3 https://cloud.r-project.org/bin/linux/ubuntu bionic-cran35/ InRelease\n",
            "\r0% [1 InRelease gpgv 88.7 kB] [Waiting for headers] [Connected to downloads.apa\r0% [Waiting for headers] [Connected to downloads.apache.org (88.99.95.219)] [Wa\r0% [3 InRelease gpgv 3,626 B] [Waiting for headers] [Connected to downloads.apa\r                                                                               \rHit:4 http://ppa.launchpad.net/graphics-drivers/ppa/ubuntu bionic InRelease\n",
            "\r0% [3 InRelease gpgv 3,626 B] [Waiting for headers] [Connected to downloads.apa\r                                                                               \rHit:5 http://archive.ubuntu.com/ubuntu bionic InRelease\n",
            "\r0% [3 InRelease gpgv 3,626 B] [Waiting for headers] [Connected to downloads.apa\r                                                                               \rIgn:6 https://developer.download.nvidia.com/compute/machine-learning/repos/ubuntu1804/x86_64  InRelease\n",
            "\r0% [3 InRelease gpgv 3,626 B] [Waiting for headers] [Connected to downloads.apa\r                                                                               \rHit:7 https://developer.download.nvidia.com/compute/cuda/repos/ubuntu1804/x86_64  Release\n",
            "\r0% [3 InRelease gpgv 3,626 B] [Waiting for headers] [Connected to downloads.apa\r                                                                               \rHit:8 https://developer.download.nvidia.com/compute/machine-learning/repos/ubuntu1804/x86_64  Release\n",
            "\r0% [3 InRelease gpgv 3,626 B] [Waiting for headers] [Connected to downloads.apa\r0% [Waiting for headers] [Connected to downloads.apache.org (88.99.95.219)] [Co\r0% [4 InRelease gpgv 21.3 kB] [Waiting for headers] [Connected to downloads.apa\r                                                                               \rHit:9 http://archive.ubuntu.com/ubuntu bionic-updates InRelease\n",
            "\r0% [4 InRelease gpgv 21.3 kB] [Waiting for headers] [Connected to downloads.apa\r0% [Waiting for headers] [Connected to downloads.apache.org (88.99.95.219)] [Wa\r0% [5 InRelease gpgv 242 kB] [Waiting for headers] [Connected to downloads.apac\r                                                                               \rHit:10 http://ppa.launchpad.net/marutter/c2d4u3.5/ubuntu bionic InRelease\n",
            "Hit:11 http://archive.ubuntu.com/ubuntu bionic-backports InRelease\n",
            "Get:12 https://dl.bintray.com/apache/cassandra 311x InRelease [3,183 B]\n",
            "Fetched 3,183 B in 1s (3,281 B/s)\n",
            "Reading package lists... Done\n"
          ],
          "name": "stdout"
        }
      ]
    },
    {
      "cell_type": "markdown",
      "metadata": {
        "id": "Wnc4yH3dKPtD",
        "colab_type": "text"
      },
      "source": [
        "***If you get an error executing the command below, just retry and usually the error goes away***"
      ]
    },
    {
      "cell_type": "code",
      "metadata": {
        "id": "g5qsE-dZIYIv",
        "colab_type": "code",
        "colab": {
          "base_uri": "https://localhost:8080/",
          "height": 104
        },
        "outputId": "2670b743-ffa3-4f5f-b083-5248616c5263"
      },
      "source": [
        "!sudo apt-key adv --keyserver pool.sks-keyservers.net --recv-key A278B781FE4B2BDA"
      ],
      "execution_count": 9,
      "outputs": [
        {
          "output_type": "stream",
          "text": [
            "Executing: /tmp/apt-key-gpghome.34oIXpBxoi/gpg.1.sh --keyserver pool.sks-keyservers.net --recv-key A278B781FE4B2BDA\n",
            "gpg: key A278B781FE4B2BDA: 28 signatures not checked due to missing keys\n",
            "gpg: key A278B781FE4B2BDA: \"Michael Shuler <michael@pbandjelly.org>\" 1 new signature\n",
            "gpg: Total number processed: 1\n",
            "gpg:         new signatures: 1\n"
          ],
          "name": "stdout"
        }
      ]
    },
    {
      "cell_type": "code",
      "metadata": {
        "id": "4bw42-AmIYFk",
        "colab_type": "code",
        "colab": {
          "base_uri": "https://localhost:8080/",
          "height": 1000
        },
        "outputId": "2e249f55-c70f-47fe-9006-e90648e8a939"
      },
      "source": [
        "!sudo apt-get install cassandra"
      ],
      "execution_count": 11,
      "outputs": [
        {
          "output_type": "stream",
          "text": [
            "Reading package lists... Done\n",
            "Building dependency tree       \n",
            "Reading state information... Done\n",
            "The following additional packages will be installed:\n",
            "  libopts25 netbase ntp sntp\n",
            "Suggested packages:\n",
            "  cassandra-tools ntp-doc\n",
            "The following NEW packages will be installed:\n",
            "  cassandra libopts25 netbase ntp sntp\n",
            "0 upgraded, 5 newly installed, 0 to remove and 58 not upgraded.\n",
            "Need to get 30.7 MB of archives.\n",
            "After this operation, 42.2 MB of additional disk space will be used.\n",
            "Get:1 http://archive.ubuntu.com/ubuntu bionic/main amd64 netbase all 5.4 [12.7 kB]\n",
            "Get:2 http://archive.ubuntu.com/ubuntu bionic/universe amd64 libopts25 amd64 1:5.18.12-4 [58.2 kB]\n",
            "Get:4 http://archive.ubuntu.com/ubuntu bionic-updates/universe amd64 ntp amd64 1:4.2.8p10+dfsg-5ubuntu7.1 [640 kB]\n",
            "Get:5 http://archive.ubuntu.com/ubuntu bionic-updates/universe amd64 sntp amd64 1:4.2.8p10+dfsg-5ubuntu7.1 [86.9 kB]\n",
            "Get:3 https://dl.bintray.com/apache/cassandra 311x/main amd64 cassandra all 3.11.6 [29.9 MB]\n",
            "Fetched 30.7 MB in 3s (12.3 MB/s)\n",
            "debconf: unable to initialize frontend: Dialog\n",
            "debconf: (No usable dialog-like program is installed, so the dialog based frontend cannot be used. at /usr/share/perl5/Debconf/FrontEnd/Dialog.pm line 76, <> line 5.)\n",
            "debconf: falling back to frontend: Readline\n",
            "debconf: unable to initialize frontend: Readline\n",
            "debconf: (This frontend requires a controlling tty.)\n",
            "debconf: falling back to frontend: Teletype\n",
            "dpkg-preconfigure: unable to re-open stdin: \n",
            "Selecting previously unselected package netbase.\n",
            "(Reading database ... 133872 files and directories currently installed.)\n",
            "Preparing to unpack .../archives/netbase_5.4_all.deb ...\n",
            "Unpacking netbase (5.4) ...\n",
            "Selecting previously unselected package libopts25:amd64.\n",
            "Preparing to unpack .../libopts25_1%3a5.18.12-4_amd64.deb ...\n",
            "Unpacking libopts25:amd64 (1:5.18.12-4) ...\n",
            "Selecting previously unselected package ntp.\n",
            "Preparing to unpack .../ntp_1%3a4.2.8p10+dfsg-5ubuntu7.1_amd64.deb ...\n",
            "Unpacking ntp (1:4.2.8p10+dfsg-5ubuntu7.1) ...\n",
            "Selecting previously unselected package sntp.\n",
            "Preparing to unpack .../sntp_1%3a4.2.8p10+dfsg-5ubuntu7.1_amd64.deb ...\n",
            "Unpacking sntp (1:4.2.8p10+dfsg-5ubuntu7.1) ...\n",
            "Selecting previously unselected package cassandra.\n",
            "Preparing to unpack .../cassandra_3.11.6_all.deb ...\n",
            "Unpacking cassandra (3.11.6) ...\n",
            "Setting up cassandra (3.11.6) ...\n",
            "Adding group `cassandra' (GID 109) ...\n",
            "Done.\n",
            "sysctl: setting key \"vm.max_map_count\": Read-only file system\n",
            "sysctl: setting key \"net.ipv4.tcp_keepalive_time\": Read-only file system\n",
            "update-rc.d: warning: start and stop actions are no longer supported; falling back to defaults\n",
            "invoke-rc.d: could not determine current runlevel\n",
            "invoke-rc.d: policy-rc.d denied execution of start.\n",
            "Setting up libopts25:amd64 (1:5.18.12-4) ...\n",
            "Setting up netbase (5.4) ...\n",
            "Setting up sntp (1:4.2.8p10+dfsg-5ubuntu7.1) ...\n",
            "Setting up ntp (1:4.2.8p10+dfsg-5ubuntu7.1) ...\n",
            "Created symlink /etc/systemd/system/network-pre.target.wants/ntp-systemd-netif.path → /lib/systemd/system/ntp-systemd-netif.path.\n",
            "Created symlink /etc/systemd/system/multi-user.target.wants/ntp.service → /lib/systemd/system/ntp.service.\n",
            "invoke-rc.d: could not determine current runlevel\n",
            "invoke-rc.d: policy-rc.d denied execution of start.\n",
            "Processing triggers for systemd (237-3ubuntu10.39) ...\n",
            "Processing triggers for man-db (2.8.3-2ubuntu0.1) ...\n",
            "Processing triggers for libc-bin (2.27-3ubuntu1) ...\n",
            "/sbin/ldconfig.real: /usr/local/lib/python3.6/dist-packages/ideep4py/lib/libmkldnn.so.0 is not a symbolic link\n",
            "\n"
          ],
          "name": "stdout"
        }
      ]
    },
    {
      "cell_type": "code",
      "metadata": {
        "id": "8j_nOxiNLVJq",
        "colab_type": "code",
        "colab": {}
      },
      "source": [
        "# !sudo service cassandra start"
      ],
      "execution_count": 0,
      "outputs": []
    },
    {
      "cell_type": "markdown",
      "metadata": {
        "id": "wdsfd9HcL4YC",
        "colab_type": "text"
      },
      "source": [
        "Cassandra should be up and running. Confirm that the service is up and running executing the below command.\n",
        "\n",
        "***The service actually takes few seconds to start***."
      ]
    },
    {
      "cell_type": "code",
      "metadata": {
        "id": "MIWcz9CqLSCz",
        "colab_type": "code",
        "colab": {
          "base_uri": "https://localhost:8080/",
          "height": 139
        },
        "outputId": "1a2f06a7-af71-4ff4-a7dc-3795c6a937f6"
      },
      "source": [
        "!nodetool status"
      ],
      "execution_count": 18,
      "outputs": [
        {
          "output_type": "stream",
          "text": [
            "Datacenter: datacenter1\n",
            "=======================\n",
            "Status=Up/Down\n",
            "|/ State=Normal/Leaving/Joining/Moving\n",
            "--  Address    Load       Tokens       Owns (effective)  Host ID                               Rack\n",
            "UN  127.0.0.1  70.03 KiB  256          100.0%            f9466b92-374a-44ba-9c5f-4f284ade19fc  rack1\n",
            "\n"
          ],
          "name": "stdout"
        }
      ]
    },
    {
      "cell_type": "markdown",
      "metadata": {
        "id": "xhWsuuCzG5_e",
        "colab_type": "text"
      },
      "source": [
        "## Walk through the basics of Apache Cassandra"
      ]
    },
    {
      "cell_type": "markdown",
      "metadata": {
        "id": "bJ8Du4xINSjQ",
        "colab_type": "text"
      },
      "source": [
        "* Creating a table\n",
        "* Inserting rows of data\n",
        "* Running a simple SQL query to validate the information. "
      ]
    },
    {
      "cell_type": "markdown",
      "metadata": {
        "id": "BMbFlAcCG5_g",
        "colab_type": "text"
      },
      "source": [
        "### Install python driver\n",
        "\n",
        "Use a python wrapper/ python driver called cassandra to run the Apache Cassandra queries. This library should be preinstalled but in the future to install this library you can run this command in a notebook to install locally: \n",
        "`! pip install cassandra-driver`<br>\n",
        "More documentation can be found here:  https://datastax.github.io/python-driver/"
      ]
    },
    {
      "cell_type": "code",
      "metadata": {
        "id": "0Ag-cm0PMtsi",
        "colab_type": "code",
        "colab": {
          "base_uri": "https://localhost:8080/",
          "height": 260
        },
        "outputId": "d2a44b7e-be9d-4034-ef1e-a442511ecefa"
      },
      "source": [
        "!pip install cassandra-driver"
      ],
      "execution_count": 20,
      "outputs": [
        {
          "output_type": "stream",
          "text": [
            "Collecting cassandra-driver\n",
            "\u001b[?25l  Downloading https://files.pythonhosted.org/packages/d8/76/63188a5dd8b62f72a387bab648c39555c5c2ba64b230fc71eb43b33f5915/cassandra_driver-3.22.0-cp36-cp36m-manylinux1_x86_64.whl (4.3MB)\n",
            "\u001b[K     |████████████████████████████████| 4.3MB 2.4MB/s \n",
            "\u001b[?25hRequirement already satisfied: six>=1.9 in /usr/local/lib/python3.6/dist-packages (from cassandra-driver) (1.12.0)\n",
            "Collecting geomet<0.2,>=0.1\n",
            "  Downloading https://files.pythonhosted.org/packages/d3/ad/9efd4457a27048128d1e8a83d48874dabd78cdcb9b36ce2b4eac5d74b5c0/geomet-0.1.2.tar.gz\n",
            "Requirement already satisfied: click in /usr/local/lib/python3.6/dist-packages (from geomet<0.2,>=0.1->cassandra-driver) (7.1.1)\n",
            "Building wheels for collected packages: geomet\n",
            "  Building wheel for geomet (setup.py) ... \u001b[?25l\u001b[?25hdone\n",
            "  Created wheel for geomet: filename=geomet-0.1.2-cp36-none-any.whl size=14896 sha256=106a987fb5f9497d14a489902cd74d6300d19fdd1aa2bf567c119948f99b1f3b\n",
            "  Stored in directory: /root/.cache/pip/wheels/08/43/84/50bd44f043b3c04c06b798cc5fc31d93586d38dfa3a48ec051\n",
            "Successfully built geomet\n",
            "Installing collected packages: geomet, cassandra-driver\n",
            "Successfully installed cassandra-driver-3.22.0 geomet-0.1.2\n"
          ],
          "name": "stdout"
        }
      ]
    },
    {
      "cell_type": "markdown",
      "metadata": {
        "id": "T-mNKhhfG5_i",
        "colab_type": "text"
      },
      "source": [
        "### Import Apache Cassandra python package"
      ]
    },
    {
      "cell_type": "code",
      "metadata": {
        "id": "wEI4I0T7G5_k",
        "colab_type": "code",
        "colab": {
          "base_uri": "https://localhost:8080/",
          "height": 35
        },
        "outputId": "074a113e-341c-45b4-c11c-965db1c5b020"
      },
      "source": [
        "import cassandra\n",
        "\n",
        "print('cassandra:', cassandra.__version__)"
      ],
      "execution_count": 22,
      "outputs": [
        {
          "output_type": "stream",
          "text": [
            "cassandra: 3.22.0\n"
          ],
          "name": "stdout"
        }
      ]
    },
    {
      "cell_type": "markdown",
      "metadata": {
        "id": "moEORRR1G5_v",
        "colab_type": "text"
      },
      "source": [
        "### Create a connection to the database\n",
        "1. Connect to the local instance of Apache Cassandra *['127.0.0.1']*.\n",
        "2. The connection reaches out to the database (*studentdb*) and uses the correct privileges to connect to the database (*user and password = student*).\n",
        "3. Once we get back the cluster object, we need to connect and that will create our session that we will use to execute queries.<BR><BR>\n",
        "    \n",
        "*Note 1:* This block of code will be standard in all notebooks"
      ]
    },
    {
      "cell_type": "code",
      "metadata": {
        "id": "zq_Bg30AG5_x",
        "colab_type": "code",
        "colab": {
          "base_uri": "https://localhost:8080/",
          "height": 35
        },
        "outputId": "70fb726f-ddaf-4f08-dd4e-28719629f13c"
      },
      "source": [
        "from cassandra.cluster import Cluster\n",
        "try: \n",
        "    cluster = Cluster(['127.0.0.1']) #If you have a locally installed Apache Cassandra instance\n",
        "    session = cluster.connect()\n",
        "    print('session id:', session.session_id)\n",
        "except Exception as e:\n",
        "    print(e)\n",
        " "
      ],
      "execution_count": 24,
      "outputs": [
        {
          "output_type": "stream",
          "text": [
            "session id: 9d2d0979-a342-4da8-856a-b3eb925059c7\n"
          ],
          "name": "stdout"
        }
      ]
    },
    {
      "cell_type": "markdown",
      "metadata": {
        "id": "nMq8bPDgG5_4",
        "colab_type": "text"
      },
      "source": [
        "### Test the Connection and Error Handling Code\n",
        "*Note:* The try-except block should handle the error: We are trying to do a `select *` on a table but the table has not been created yet."
      ]
    },
    {
      "cell_type": "code",
      "metadata": {
        "id": "_cYHhJJVG5_5",
        "colab_type": "code",
        "colab": {
          "base_uri": "https://localhost:8080/",
          "height": 35
        },
        "outputId": "ae8619b7-31c0-4d21-dd50-82435dc94d42"
      },
      "source": [
        "try: \n",
        "    session.execute(\"\"\"select * from music_libary\"\"\")\n",
        "except Exception as e:\n",
        "    print(e)\n",
        " "
      ],
      "execution_count": 25,
      "outputs": [
        {
          "output_type": "stream",
          "text": [
            "Error from server: code=2200 [Invalid query] message=\"No keyspace has been specified. USE a keyspace, or explicitly specify keyspace.tablename\"\n"
          ],
          "name": "stdout"
        }
      ]
    },
    {
      "cell_type": "markdown",
      "metadata": {
        "id": "YAjkiWpgG5_9",
        "colab_type": "text"
      },
      "source": [
        "### Create a keyspace to the work in \n",
        "*Note:* We will ignore the Replication Strategy and factor information right now as those concepts are covered in depth in Lesson 3. Remember, this will be the strategy and replication factor on a one node local instance. "
      ]
    },
    {
      "cell_type": "code",
      "metadata": {
        "id": "Gelgk7kvG5_-",
        "colab_type": "code",
        "colab": {}
      },
      "source": [
        "try:\n",
        "    session.execute(\"\"\"\n",
        "    CREATE KEYSPACE IF NOT EXISTS test \n",
        "    WITH REPLICATION = \n",
        "    { 'class' : 'SimpleStrategy', 'replication_factor' : 1 }\"\"\"\n",
        ")\n",
        "\n",
        "except Exception as e:\n",
        "    print(e)"
      ],
      "execution_count": 0,
      "outputs": []
    },
    {
      "cell_type": "markdown",
      "metadata": {
        "id": "-ljw3z_BG6AD",
        "colab_type": "text"
      },
      "source": [
        "### Connect to our Keyspace.<br>\n",
        "*Compare this to how a new session in PostgreSQL is created.*"
      ]
    },
    {
      "cell_type": "code",
      "metadata": {
        "id": "OL9zzWk_G6AE",
        "colab_type": "code",
        "colab": {
          "base_uri": "https://localhost:8080/",
          "height": 35
        },
        "outputId": "ca3cdfd4-9d7a-408f-8b61-2a35ebd110bb"
      },
      "source": [
        "try:\n",
        "    session.set_keyspace('test')\n",
        "    print('session keyspace:', session.keyspace)\n",
        "except Exception as e:\n",
        "    print(e)"
      ],
      "execution_count": 31,
      "outputs": [
        {
          "output_type": "stream",
          "text": [
            "session keyspace: test\n"
          ],
          "name": "stdout"
        }
      ]
    },
    {
      "cell_type": "markdown",
      "metadata": {
        "id": "CELLAdMSG6AK",
        "colab_type": "text"
      },
      "source": [
        "### Begin with creating a Music Library of albums. Each album has a lot of information we could add to the music library table. We will  start with album name, artist name, year. "
      ]
    },
    {
      "cell_type": "markdown",
      "metadata": {
        "id": "zBKGq5DbG6AL",
        "colab_type": "text"
      },
      "source": [
        "### But ...Stop\n",
        "\n",
        "### We are working with Apache Cassandra a NoSQL database. We can't model our data and create our table without more information.\n",
        "\n",
        "### Think about what queries will you be performing on this data?"
      ]
    },
    {
      "cell_type": "markdown",
      "metadata": {
        "id": "w5GRdVg_G6AM",
        "colab_type": "text"
      },
      "source": [
        "#### We want to be able to get every album that was released in a particular year. \n",
        "`select * from music_library WHERE YEAR=1970`\n",
        "\n",
        "*To do that:* <ol><li> We need to be able to do a WHERE on YEAR. <li>YEAR will become my partition key,<li>artist name will be my clustering column to make each Primary Key unique. <li>**Remember there are no duplicates in Apache Cassandra.**</ol>\n",
        "\n",
        "**Table Name:** music_library<br>\n",
        "**column 1:** Album Name<br>\n",
        "**column 2:** Artist Name<br>\n",
        "**column 3:** Year <br>\n",
        "PRIMARY KEY(year, artist name)\n",
        "\n",
        "\n",
        "### Now to translate this information into a Create Table Statement. \n",
        "More information on Data Types can be found here: https://datastax.github.io/python-driver/<br>\n",
        "*Note:* Again, we will go in depth with these concepts in Lesson 3."
      ]
    },
    {
      "cell_type": "code",
      "metadata": {
        "id": "5TRYwfz9G6AN",
        "colab_type": "code",
        "colab": {}
      },
      "source": [
        "query = \"CREATE TABLE IF NOT EXISTS music_library\"\n",
        "query = f\"{query} (year int, artist_name text, album_name text, PRIMARY KEY (year, artist_name))\"\n",
        "try:\n",
        "    session.execute(query)\n",
        "except Exception as e:\n",
        "    print(e)\n"
      ],
      "execution_count": 0,
      "outputs": []
    },
    {
      "cell_type": "markdown",
      "metadata": {
        "id": "_9dz8E4cG6AR",
        "colab_type": "text"
      },
      "source": [
        "The query should run smoothly."
      ]
    },
    {
      "cell_type": "markdown",
      "metadata": {
        "id": "m9pdmPphG6AS",
        "colab_type": "text"
      },
      "source": [
        "### Insert two rows "
      ]
    },
    {
      "cell_type": "code",
      "metadata": {
        "id": "DHzqp-skG6AT",
        "colab_type": "code",
        "colab": {}
      },
      "source": [
        "query = \"INSERT INTO music_library (year, artist_name, album_name)\"\n",
        "query = query + \" VALUES (%s, %s, %s)\"\n",
        "\n",
        "try:\n",
        "    session.execute(query, (1970, \"The Beatles\", \"Let it Be\"))\n",
        "except Exception as e:\n",
        "    print(e)\n",
        "    \n",
        "try:\n",
        "    session.execute(query, (1965, \"The Beatles\", \"Rubber Soul\"))\n",
        "except Exception as e:\n",
        "    print(e)"
      ],
      "execution_count": 0,
      "outputs": []
    },
    {
      "cell_type": "markdown",
      "metadata": {
        "id": "3rXeE7BDG6AX",
        "colab_type": "text"
      },
      "source": [
        "### Validate your data was inserted into the table.\n",
        "*Note:* The for loop is used for printing the results. If executing queries in the cqlsh, this would not be required.\n",
        "\n",
        "*Note:* Depending on the version of Apache Cassandra you have installed, this might throw an \"ALLOW FILTERING\" error instead of printing the 2 rows that we just inserted. This is to be expected, as this type of query should not be performed on large datasets, we are only doing this for the sake of the demo."
      ]
    },
    {
      "cell_type": "code",
      "metadata": {
        "scrolled": true,
        "id": "iem-SEyjG6AY",
        "colab_type": "code",
        "colab": {
          "base_uri": "https://localhost:8080/",
          "height": 52
        },
        "outputId": "5de11b90-20d6-466d-969c-153dfb47702a"
      },
      "source": [
        "query = 'SELECT * FROM music_library'\n",
        "try:\n",
        "    rows = session.execute(query)\n",
        "except Exception as e:\n",
        "    print(e)\n",
        "    \n",
        "for row in rows:\n",
        "    print (row.year, row.album_name, row.artist_name)"
      ],
      "execution_count": 34,
      "outputs": [
        {
          "output_type": "stream",
          "text": [
            "1965 Rubber Soul The Beatles\n",
            "1970 Let it Be The Beatles\n"
          ],
          "name": "stdout"
        }
      ]
    },
    {
      "cell_type": "markdown",
      "metadata": {
        "id": "4Zsw3jhWG6Ad",
        "colab_type": "text"
      },
      "source": [
        "### Validate the Data Model with the original query.\n",
        "\n",
        "`select * from music_library WHERE YEAR=1970`"
      ]
    },
    {
      "cell_type": "code",
      "metadata": {
        "id": "_46jjK8AG6Ae",
        "colab_type": "code",
        "colab": {
          "base_uri": "https://localhost:8080/",
          "height": 35
        },
        "outputId": "a4a2fd2d-6546-4347-973a-1d2a258adcdb"
      },
      "source": [
        "query = \"select * from music_library WHERE YEAR=1970\"\n",
        "try:\n",
        "    rows = session.execute(query)\n",
        "except Exception as e:\n",
        "    print(e)\n",
        "    \n",
        "for row in rows:\n",
        "    print (row.year, row.album_name, row.artist_name)"
      ],
      "execution_count": 35,
      "outputs": [
        {
          "output_type": "stream",
          "text": [
            "1970 Let it Be The Beatles\n"
          ],
          "name": "stdout"
        }
      ]
    },
    {
      "cell_type": "markdown",
      "metadata": {
        "id": "Yw55mOLeG6Aj",
        "colab_type": "text"
      },
      "source": [
        "### Drop the table to avoid duplicates and clean up. "
      ]
    },
    {
      "cell_type": "code",
      "metadata": {
        "id": "T-r2mTsXG6Ak",
        "colab_type": "code",
        "colab": {}
      },
      "source": [
        "query = \"drop table music_library\"\n",
        "try:\n",
        "    rows = session.execute(query)\n",
        "except Exception as e:\n",
        "    print(e)\n",
        "    "
      ],
      "execution_count": 0,
      "outputs": []
    },
    {
      "cell_type": "markdown",
      "metadata": {
        "id": "aR5GfE4EG6Ao",
        "colab_type": "text"
      },
      "source": [
        "### Close the session and cluster connection"
      ]
    },
    {
      "cell_type": "code",
      "metadata": {
        "id": "BsA6AKsSG6Ap",
        "colab_type": "code",
        "colab": {}
      },
      "source": [
        "session.shutdown()\n",
        "cluster.shutdown()"
      ],
      "execution_count": 0,
      "outputs": []
    }
  ]
}