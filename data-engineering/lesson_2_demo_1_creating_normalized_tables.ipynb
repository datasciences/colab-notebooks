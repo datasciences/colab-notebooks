{
  "nbformat": 4,
  "nbformat_minor": 0,
  "metadata": {
    "kernelspec": {
      "display_name": "Python 3",
      "language": "python",
      "name": "python3"
    },
    "language_info": {
      "codemirror_mode": {
        "name": "ipython",
        "version": 3
      },
      "file_extension": ".py",
      "mimetype": "text/x-python",
      "name": "python",
      "nbconvert_exporter": "python",
      "pygments_lexer": "ipython3",
      "version": "3.6.3"
    },
    "colab": {
      "name": "lesson-2-demo-1-creating-normalized-tables.ipynb",
      "provenance": [],
      "collapsed_sections": [],
      "include_colab_link": true
    }
  },
  "cells": [
    {
      "cell_type": "markdown",
      "metadata": {
        "id": "view-in-github",
        "colab_type": "text"
      },
      "source": [
        "<a href=\"https://colab.research.google.com/github/martin-fabbri/colab-notebooks/blob/master/data-engineering/lesson_2_demo_1_creating_normalized_tables.ipynb\" target=\"_parent\"><img src=\"https://colab.research.google.com/assets/colab-badge.svg\" alt=\"Open In Colab\"/></a>"
      ]
    },
    {
      "cell_type": "markdown",
      "metadata": {
        "id": "TwB54H0RN_Gf",
        "colab_type": "text"
      },
      "source": [
        "# Lesson 2 Demo 1: Creating Normalized Tables\n",
        "\n",
        "<img src=\"https://upload.wikimedia.org/wikipedia/commons/thumb/2/29/Postgresql_elephant.svg/1200px-Postgresql_elephant.svg.png\" width=\"100\" height=\"100\">"
      ]
    },
    {
      "cell_type": "code",
      "metadata": {
        "id": "mAscNqHYOv4j",
        "colab_type": "code",
        "colab": {
          "base_uri": "https://localhost:8080/",
          "height": 1000
        },
        "cellView": "form",
        "outputId": "d0bfd4e4-0eaf-4cf9-8a66-5db25fd85b68"
      },
      "source": [
        "#@title ## Setup database instance\n",
        "#@markdown Executing this cell will setup PostgreSQL on the current Colab session.\n",
        "\n",
        "#@markdown **Warning: This notebook is designed to be run in a Google Colab only**. *It installs packages on the system and requires sudo access. If you want to run it in a local Jupyter notebook, please proceed with caution.*\n",
        "# Install postgresql server\n",
        "!sudo apt-get -y -qq update\n",
        "!sudo apt-get -y -qq install postgresql\n",
        "!sudo service postgresql start\n",
        "\n",
        "# Setup a password `postgres` for username `postgres`\n",
        "!sudo -u postgres psql -U postgres -c \"ALTER USER postgres PASSWORD 'postgres';\"\n",
        "\n",
        "# Setup a database with name `tfio_demo` to be used\n",
        "!sudo -u postgres psql -U postgres -c 'DROP DATABASE IF EXISTS studentdb;'\n",
        "!sudo -u postgres psql -U postgres -c 'CREATE DATABASE studentdb;'\n",
        "\n",
        "# Create student user\n",
        "!sudo -u postgres psql -U postgres -c \"CREATE USER student WITH ENCRYPTED PASSWORD 'student';\"\n",
        "!sudo -u postgres psql -U postgres -c \"GRANT ALL PRIVILEGES ON DATABASE studentdb TO student;\""
      ],
      "execution_count": 1,
      "outputs": [
        {
          "output_type": "stream",
          "text": [
            "debconf: unable to initialize frontend: Dialog\n",
            "debconf: (No usable dialog-like program is installed, so the dialog based frontend cannot be used. at /usr/share/perl5/Debconf/FrontEnd/Dialog.pm line 76, <> line 10.)\n",
            "debconf: falling back to frontend: Readline\n",
            "debconf: unable to initialize frontend: Readline\n",
            "debconf: (This frontend requires a controlling tty.)\n",
            "debconf: falling back to frontend: Teletype\n",
            "dpkg-preconfigure: unable to re-open stdin: \n",
            "Selecting previously unselected package cron.\n",
            "(Reading database ... 144568 files and directories currently installed.)\n",
            "Preparing to unpack .../0-cron_3.0pl1-128.1ubuntu1_amd64.deb ...\n",
            "Unpacking cron (3.0pl1-128.1ubuntu1) ...\n",
            "Selecting previously unselected package logrotate.\n",
            "Preparing to unpack .../1-logrotate_3.11.0-0.1ubuntu1_amd64.deb ...\n",
            "Unpacking logrotate (3.11.0-0.1ubuntu1) ...\n",
            "Selecting previously unselected package netbase.\n",
            "Preparing to unpack .../2-netbase_5.4_all.deb ...\n",
            "Unpacking netbase (5.4) ...\n",
            "Selecting previously unselected package postgresql-client-common.\n",
            "Preparing to unpack .../3-postgresql-client-common_190ubuntu0.1_all.deb ...\n",
            "Unpacking postgresql-client-common (190ubuntu0.1) ...\n",
            "Selecting previously unselected package postgresql-client-10.\n",
            "Preparing to unpack .../4-postgresql-client-10_10.12-0ubuntu0.18.04.1_amd64.deb ...\n",
            "Unpacking postgresql-client-10 (10.12-0ubuntu0.18.04.1) ...\n",
            "Selecting previously unselected package ssl-cert.\n",
            "Preparing to unpack .../5-ssl-cert_1.0.39_all.deb ...\n",
            "Unpacking ssl-cert (1.0.39) ...\n",
            "Selecting previously unselected package postgresql-common.\n",
            "Preparing to unpack .../6-postgresql-common_190ubuntu0.1_all.deb ...\n",
            "Adding 'diversion of /usr/bin/pg_config to /usr/bin/pg_config.libpq-dev by postgresql-common'\n",
            "Unpacking postgresql-common (190ubuntu0.1) ...\n",
            "Selecting previously unselected package postgresql-10.\n",
            "Preparing to unpack .../7-postgresql-10_10.12-0ubuntu0.18.04.1_amd64.deb ...\n",
            "Unpacking postgresql-10 (10.12-0ubuntu0.18.04.1) ...\n",
            "Selecting previously unselected package postgresql.\n",
            "Preparing to unpack .../8-postgresql_10+190ubuntu0.1_all.deb ...\n",
            "Unpacking postgresql (10+190ubuntu0.1) ...\n",
            "Selecting previously unselected package sysstat.\n",
            "Preparing to unpack .../9-sysstat_11.6.1-1ubuntu0.1_amd64.deb ...\n",
            "Unpacking sysstat (11.6.1-1ubuntu0.1) ...\n",
            "Setting up sysstat (11.6.1-1ubuntu0.1) ...\n",
            "debconf: unable to initialize frontend: Dialog\n",
            "debconf: (No usable dialog-like program is installed, so the dialog based frontend cannot be used. at /usr/share/perl5/Debconf/FrontEnd/Dialog.pm line 76.)\n",
            "debconf: falling back to frontend: Readline\n",
            "\n",
            "Creating config file /etc/default/sysstat with new version\n",
            "update-alternatives: using /usr/bin/sar.sysstat to provide /usr/bin/sar (sar) in auto mode\n",
            "Created symlink /etc/systemd/system/multi-user.target.wants/sysstat.service → /lib/systemd/system/sysstat.service.\n",
            "Setting up ssl-cert (1.0.39) ...\n",
            "debconf: unable to initialize frontend: Dialog\n",
            "debconf: (No usable dialog-like program is installed, so the dialog based frontend cannot be used. at /usr/share/perl5/Debconf/FrontEnd/Dialog.pm line 76.)\n",
            "debconf: falling back to frontend: Readline\n",
            "Setting up cron (3.0pl1-128.1ubuntu1) ...\n",
            "Adding group `crontab' (GID 110) ...\n",
            "Done.\n",
            "Created symlink /etc/systemd/system/multi-user.target.wants/cron.service → /lib/systemd/system/cron.service.\n",
            "update-rc.d: warning: start and stop actions are no longer supported; falling back to defaults\n",
            "invoke-rc.d: could not determine current runlevel\n",
            "invoke-rc.d: policy-rc.d denied execution of start.\n",
            "Setting up logrotate (3.11.0-0.1ubuntu1) ...\n",
            "Setting up netbase (5.4) ...\n",
            "Setting up postgresql-client-common (190ubuntu0.1) ...\n",
            "Setting up postgresql-common (190ubuntu0.1) ...\n",
            "debconf: unable to initialize frontend: Dialog\n",
            "debconf: (No usable dialog-like program is installed, so the dialog based frontend cannot be used. at /usr/share/perl5/Debconf/FrontEnd/Dialog.pm line 76.)\n",
            "debconf: falling back to frontend: Readline\n",
            "Adding user postgres to group ssl-cert\n",
            "\n",
            "Creating config file /etc/postgresql-common/createcluster.conf with new version\n",
            "Building PostgreSQL dictionaries from installed myspell/hunspell packages...\n",
            "Removing obsolete dictionary files:\n",
            "Created symlink /etc/systemd/system/multi-user.target.wants/postgresql.service → /lib/systemd/system/postgresql.service.\n",
            "invoke-rc.d: could not determine current runlevel\n",
            "invoke-rc.d: policy-rc.d denied execution of start.\n",
            "Setting up postgresql-client-10 (10.12-0ubuntu0.18.04.1) ...\n",
            "update-alternatives: using /usr/share/postgresql/10/man/man1/psql.1.gz to provide /usr/share/man/man1/psql.1.gz (psql.1.gz) in auto mode\n",
            "Setting up postgresql-10 (10.12-0ubuntu0.18.04.1) ...\n",
            "debconf: unable to initialize frontend: Dialog\n",
            "debconf: (No usable dialog-like program is installed, so the dialog based frontend cannot be used. at /usr/share/perl5/Debconf/FrontEnd/Dialog.pm line 76.)\n",
            "debconf: falling back to frontend: Readline\n",
            "Creating new PostgreSQL cluster 10/main ...\n",
            "/usr/lib/postgresql/10/bin/initdb -D /var/lib/postgresql/10/main --auth-local peer --auth-host md5\n",
            "The files belonging to this database system will be owned by user \"postgres\".\n",
            "This user must also own the server process.\n",
            "\n",
            "The database cluster will be initialized with locale \"en_US.UTF-8\".\n",
            "The default database encoding has accordingly been set to \"UTF8\".\n",
            "The default text search configuration will be set to \"english\".\n",
            "\n",
            "Data page checksums are disabled.\n",
            "\n",
            "fixing permissions on existing directory /var/lib/postgresql/10/main ... ok\n",
            "creating subdirectories ... ok\n",
            "selecting default max_connections ... 100\n",
            "selecting default shared_buffers ... 128MB\n",
            "selecting default timezone ... Etc/UTC\n",
            "selecting dynamic shared memory implementation ... posix\n",
            "creating configuration files ... ok\n",
            "running bootstrap script ... ok\n",
            "performing post-bootstrap initialization ... ok\n",
            "syncing data to disk ... ok\n",
            "\n",
            "Success. You can now start the database server using:\n",
            "\n",
            "    /usr/lib/postgresql/10/bin/pg_ctl -D /var/lib/postgresql/10/main -l logfile start\n",
            "\n",
            "Ver Cluster Port Status Owner    Data directory              Log file\n",
            "\u001b[31m10  main    5432 down   postgres /var/lib/postgresql/10/main /var/log/postgresql/postgresql-10-main.log\u001b[0m\n",
            "update-alternatives: using /usr/share/postgresql/10/man/man1/postmaster.1.gz to provide /usr/share/man/man1/postmaster.1.gz (postmaster.1.gz) in auto mode\n",
            "invoke-rc.d: could not determine current runlevel\n",
            "invoke-rc.d: policy-rc.d denied execution of start.\n",
            "Setting up postgresql (10+190ubuntu0.1) ...\n",
            "Processing triggers for man-db (2.8.3-2ubuntu0.1) ...\n",
            "Processing triggers for systemd (237-3ubuntu10.39) ...\n",
            " * Starting PostgreSQL 10 database server\n",
            "   ...done.\n",
            "ALTER ROLE\n",
            "NOTICE:  database \"studentdb\" does not exist, skipping\n",
            "DROP DATABASE\n",
            "CREATE DATABASE\n",
            "CREATE ROLE\n",
            "GRANT\n"
          ],
          "name": "stdout"
        }
      ]
    },
    {
      "cell_type": "markdown",
      "metadata": {
        "id": "Rr6IGyLxN_Gg",
        "colab_type": "text"
      },
      "source": [
        "## Walk through the basics of modeling data in normalized form. <br>\n",
        "<ol><li>Create tables in PostgreSQL\n",
        "<li>Insert rows of data\n",
        "<li>Do a simple JOIN SQL query to show how these tables can work together."
      ]
    },
    {
      "cell_type": "markdown",
      "metadata": {
        "id": "85Pes3gNN_Gh",
        "colab_type": "text"
      },
      "source": [
        "### Import the library \n",
        "Note: An error might popup after this command has executed. If it does, read it carefully before ignoring. "
      ]
    },
    {
      "cell_type": "code",
      "metadata": {
        "id": "dMQySNc-N_Gi",
        "colab_type": "code",
        "colab": {
          "base_uri": "https://localhost:8080/",
          "height": 70
        },
        "outputId": "523ee6c5-3a18-4d4f-cafb-bc2234a7ecd8"
      },
      "source": [
        "import psycopg2"
      ],
      "execution_count": 2,
      "outputs": [
        {
          "output_type": "stream",
          "text": [
            "/usr/local/lib/python3.6/dist-packages/psycopg2/__init__.py:144: UserWarning: The psycopg2 wheel package will be renamed from release 2.8; in order to keep installing from binary please use \"pip install psycopg2-binary\" instead. For details see: <http://initd.org/psycopg/docs/install.html#binary-install-from-pypi>.\n",
            "  \"\"\")\n"
          ],
          "name": "stderr"
        }
      ]
    },
    {
      "cell_type": "code",
      "metadata": {
        "id": "VQDd7azKN_Gn",
        "colab_type": "code",
        "colab": {
          "base_uri": "https://localhost:8080/",
          "height": 33
        },
        "outputId": "37a21cec-40b0-488c-eee7-3fae930092f1"
      },
      "source": [
        "!echo \"alter user student createdb;\" | sudo -u postgres psql"
      ],
      "execution_count": 3,
      "outputs": [
        {
          "output_type": "stream",
          "text": [
            "ALTER ROLE\n"
          ],
          "name": "stdout"
        }
      ]
    },
    {
      "cell_type": "markdown",
      "metadata": {
        "id": "I27uXt8HN_Gr",
        "colab_type": "text"
      },
      "source": [
        "### Create a connection to the database, get a cursor, and set autocommit to true"
      ]
    },
    {
      "cell_type": "code",
      "metadata": {
        "id": "RXR5i8EHN_Gs",
        "colab_type": "code",
        "colab": {}
      },
      "source": [
        "# Create a connection\n",
        "try: \n",
        "    conn = psycopg2.connect(\"host=127.0.0.1 dbname=studentdb user=student password=student\")\n",
        "except psycopg2.Error as e: \n",
        "    print(\"Error: Could not make connection to the Postgres database\")\n",
        "    print(e)\n",
        "    \n",
        "# get a cursor    \n",
        "try: \n",
        "    cur = conn.cursor()\n",
        "except psycopg2.Error as e: \n",
        "    print(\"Error: Could not get curser to the Database\")\n",
        "    print(e)\n",
        "    \n",
        "# set the autocommit to true    \n",
        "conn.set_session(autocommit=True)"
      ],
      "execution_count": 0,
      "outputs": []
    },
    {
      "cell_type": "markdown",
      "metadata": {
        "id": "cH4A8mc4N_Gw",
        "colab_type": "text"
      },
      "source": [
        "#### Let's imagine we have a table called Music Library. \n",
        "\n",
        "`Table Name: music_library\n",
        "column 0: Album Id\n",
        "column 1: Album Name\n",
        "column 2: Artist Name\n",
        "column 3: Year \n",
        "column 4: List of songs`\n",
        "\n",
        "#### music_library\n",
        "\n",
        ">album_id | album_name | artist_name | year | songs\n",
        ">--- | --- | --- | --- | ---\n",
        ">1 | SPLHB | The Beatles  | 2000 | ['Rubber Soul', 'Let it be'] \n",
        ">2 | BLR | Erasure | 2000 | ['My generation']\n",
        ">3 | Second | The Beatles | 2018 | ['Meet the Beatles', 'Help!']\n",
        "\n",
        "#### Customer Purchases\n",
        "\n",
        ">Transaction Id | Customer Name | Cashier Name | Year | Albums Purchased\n",
        ">--- | --- | --- | --- | ---\n",
        ">1 | Amanda | Sam | 2000 | ['Rubber Soul', 'Let it be'] \n",
        ">2 | Toby | Sam | 2000 | ['My generation']\n",
        ">3 | Max | Bob | 2018 | ['Meet the Beatles', 'Help!']\n",
        "\n",
        "#### Now to translate this information into a Create Table Statement and insert the data"
      ]
    },
    {
      "cell_type": "code",
      "metadata": {
        "id": "RyhVFXUjN_Gw",
        "colab_type": "code",
        "colab": {
          "base_uri": "https://localhost:8080/",
          "height": 50
        },
        "outputId": "28e4c15d-08bb-4506-fbbe-26011bed104c"
      },
      "source": [
        "# Create a Table statement\n",
        "try: \n",
        "    cur.execute(\"CREATE TABLE IF NOT EXISTS music_library (album_id int, \\\n",
        "                                                           album_name varchar, artist_name varchar, \\\n",
        "                                                           year int, songs text[]);\")\n",
        "except psycopg2.Error as e: \n",
        "    print(\"Error: Issue creating table\")\n",
        "    print (e)\n",
        "    \n",
        "# Include the Insert statement    \n",
        "try: \n",
        "    cur.execute(\"INSERT INTO music_library (album_id, album_name, artist_name, year, songs) \\\n",
        "                 VALUES (%s, %s, %s, %s, %s)\", \\\n",
        "                 (1, \"Rubber Soul\", \"The Beatles\", 1965, [\"Michelle\", \"Think For Yourself\", \"In My Life\"]))\n",
        "except psycopg2.Error as e: \n",
        "    print(\"Error: Inserting Rows\")\n",
        "    print (e)\n",
        "    \n",
        "try: \n",
        "    cur.execute(\"INSERT INTO music_library (album_id, album_name, artist_name, year, songs) \\\n",
        "                 VALUES (%s, %s, %s, %s, %s)\", \\\n",
        "                 (2, \"Let It Be\", \"The Beatles\", 1970, [\"Let It Be\", \"Across The Universe\"]))\n",
        "except psycopg2.Error as e: \n",
        "    print(\"Error: Inserting Rows\")\n",
        "    print (e)\n",
        "    \n",
        "# Confirm the data got inserted in the table we created    \n",
        "try: \n",
        "    cur.execute(\"SELECT * FROM music_library;\")\n",
        "except psycopg2.Error as e: \n",
        "    print(\"Error: select *\")\n",
        "    print (e)\n",
        "\n",
        "row = cur.fetchone()\n",
        "while row:\n",
        "   print(row)\n",
        "   row = cur.fetchone()"
      ],
      "execution_count": 5,
      "outputs": [
        {
          "output_type": "stream",
          "text": [
            "(1, 'Rubber Soul', 'The Beatles', 1965, ['Michelle', 'Think For Yourself', 'In My Life'])\n",
            "(2, 'Let It Be', 'The Beatles', 1970, ['Let It Be', 'Across The Universe'])\n"
          ],
          "name": "stdout"
        }
      ]
    },
    {
      "cell_type": "markdown",
      "metadata": {
        "id": "zFrv-o4BN_G0",
        "colab_type": "text"
      },
      "source": [
        "#### Moving to 1st Normal Form (1NF)\n",
        "This data has not been normalized. To get this data into 1st normal form, we will need to remove any collections or list of data. We need to break up the list of songs into individuals rows. \n",
        "\n",
        "\n",
        "`Table Name: music_library2\n",
        "column 0: Album Id\n",
        "column 1: Album Name\n",
        "column 2: Artist Name\n",
        "column 3: Year \n",
        "column 4: Song Name`\n",
        "\n",
        "#### music_library2\n",
        "\n",
        ">album_id | album_name | artist_name | year | song\n",
        ">--- | --- | --- | --- | ---\n",
        ">1 | SPLHB | The Beatles  | 2000 | 'Rubber Soul'\n",
        ">2 | SPLHB | The Beatles  | 2000 | 'Let it be' \n",
        ">3 | BLR | Erasure | 2000 | 'My generation\n",
        ">4 | Second | The Beatles | 2018 | 'Meet the Beatles'\n",
        ">5 | Second | The Beatles | 2018 | 'Help!'\n",
        "\n"
      ]
    },
    {
      "cell_type": "code",
      "metadata": {
        "id": "gqFWxjU0N_G1",
        "colab_type": "code",
        "colab": {
          "base_uri": "https://localhost:8080/",
          "height": 99
        },
        "outputId": "e1b77021-558f-4898-ca45-545b63089097"
      },
      "source": [
        "try: \n",
        "    cur.execute(\"CREATE TABLE IF NOT EXISTS music_library2 (album_id int, \\\n",
        "                                                           album_name varchar, artist_name varchar, \\\n",
        "                                                           year int, song_name varchar);\")\n",
        "except psycopg2.Error as e: \n",
        "    print(\"Error: Issue creating table\")\n",
        "    print (e)\n",
        "    \n",
        "try: \n",
        "    cur.execute(\"INSERT INTO music_library2 (album_id, album_name, artist_name, year, song_name) \\\n",
        "                 VALUES (%s, %s, %s, %s, %s)\", \\\n",
        "                 (1, \"Rubber Soul\", \"The Beatles\", 1965, \"Michelle\"))\n",
        "except psycopg2.Error as e: \n",
        "    print(\"Error: Inserting Rows\")\n",
        "    print (e)\n",
        "\n",
        "try: \n",
        "    cur.execute(\"INSERT INTO music_library2 (album_id, album_name, artist_name, year, song_name) \\\n",
        "                 VALUES (%s, %s, %s, %s, %s)\", \\\n",
        "                 (1, \"Rubber Soul\", \"The Beatles\", 1965, \"Think For Yourself\"))\n",
        "except psycopg2.Error as e: \n",
        "    print(\"Error: Inserting Rows\")\n",
        "    print (e)\n",
        "\n",
        "try: \n",
        "    cur.execute(\"INSERT INTO music_library2 (album_id, album_name, artist_name, year, song_name) \\\n",
        "                 VALUES (%s, %s, %s, %s, %s)\", \\\n",
        "                 (1, \"Rubber Soul\", \"The Beatles\", 1965, \"In My Life\"))\n",
        "except psycopg2.Error as e: \n",
        "    print(\"Error: Inserting Rows\")\n",
        "    print (e)\n",
        "    \n",
        "try: \n",
        "    cur.execute(\"INSERT INTO music_library2 (album_id, album_name, artist_name, year, song_name) \\\n",
        "                 VALUES (%s, %s, %s, %s, %s)\", \\\n",
        "                 (2, \"Let It Be\", \"The Beatles\", 1970, \"Let It Be\"))\n",
        "except psycopg2.Error as e: \n",
        "    print(\"Error: Inserting Rows\")\n",
        "    print (e)\n",
        "\n",
        "try: \n",
        "    cur.execute(\"INSERT INTO music_library2 (album_id, album_name, artist_name, year, song_name) \\\n",
        "                 VALUES (%s, %s, %s, %s, %s)\", \\\n",
        "                 (2, \"Let It Be\", \"The Beatles\", 1970, \"Across The Universe\"))\n",
        "except psycopg2.Error as e: \n",
        "    print(\"Error: Inserting Rows\")\n",
        "    print (e)\n",
        "    \n",
        "try: \n",
        "    cur.execute(\"SELECT * FROM music_library2;\")\n",
        "except psycopg2.Error as e: \n",
        "    print(\"Error: select *\")\n",
        "    print (e)\n",
        "\n",
        "row = cur.fetchone()\n",
        "while row:\n",
        "   print(row)\n",
        "   row = cur.fetchone()"
      ],
      "execution_count": 6,
      "outputs": [
        {
          "output_type": "stream",
          "text": [
            "(1, 'Rubber Soul', 'The Beatles', 1965, 'Michelle')\n",
            "(1, 'Rubber Soul', 'The Beatles', 1965, 'Think For Yourself')\n",
            "(1, 'Rubber Soul', 'The Beatles', 1965, 'In My Life')\n",
            "(2, 'Let It Be', 'The Beatles', 1970, 'Let It Be')\n",
            "(2, 'Let It Be', 'The Beatles', 1970, 'Across The Universe')\n"
          ],
          "name": "stdout"
        }
      ]
    },
    {
      "cell_type": "markdown",
      "metadata": {
        "id": "FuZJ0kbYN_G4",
        "colab_type": "text"
      },
      "source": [
        "#### Moving to 2nd Normal Form (2NF)\n",
        "We have moved our data to be in 1NF which is the first step in moving to 2nd Normal Form. Our table is not yet in 2nd Normal Form. While each of our records in our table is unique, our Primary key (*album id*) is not unique. We need to break this up into two tables, *album library* and *song library*. \n",
        "\n",
        "#### album_library\n",
        "\n",
        ">album_id | album_name | artist_name | year\n",
        ">--- | --- | --- | ---\n",
        ">1 | SPLHB | The Beatles  | 2000 \n",
        ">2 | BLR | Erasure | 2000\n",
        ">3 | Second | The Beatles | 2018\n",
        "\n",
        "#### song_library\n",
        "\n",
        ">song_id | song_name | album_id\n",
        ">--- | --- | ---\n",
        ">1 | Let it be | 1 \n",
        ">2 | Across The Universe | 1\n",
        ">3 | Michelle | 2\n"
      ]
    },
    {
      "cell_type": "code",
      "metadata": {
        "id": "aO6bYmhcN_G5",
        "colab_type": "code",
        "colab": {
          "base_uri": "https://localhost:8080/",
          "height": 215
        },
        "outputId": "2a64d616-0170-461c-e1df-22489fd35048"
      },
      "source": [
        "try: \n",
        "    cur.execute(\"\"\"\n",
        "      CREATE TABLE IF NOT EXISTS album_library (album_id int,\n",
        "                                                album_name varchar, \n",
        "                                                artist_name varchar,\n",
        "                                                year int);\n",
        "    \"\"\")\n",
        "except psycopg2.Error as e: \n",
        "    print(\"Error: Issue creating table\")\n",
        "    print (e)\n",
        "\n",
        "try: \n",
        "    cur.execute(\"\"\"\n",
        "      CREATE TABLE IF NOT EXISTS song_library (song_id int, \n",
        "                                               album_id int,\n",
        "                                               song_name varchar);\n",
        "    \"\"\")\n",
        "except psycopg2.Error as e: \n",
        "    print(\"Error: Issue creating table\")\n",
        "    print (e)\n",
        "    \n",
        "try: \n",
        "    cur.execute(\"\"\"\n",
        "      INSERT INTO album_library (album_id, album_name, artist_name, year)\n",
        "      VALUES (%s, %s, %s, %s)\n",
        "    \"\"\", (1, \"Rubber Soul\", \"The Beatles\", 1965))\n",
        "except psycopg2.Error as e: \n",
        "    print(\"Error: Inserting Rows\")\n",
        "    print (e)\n",
        "\n",
        "try: \n",
        "    cur.execute(\"\"\"\n",
        "      INSERT INTO album_library (album_id, album_name, artist_name, year)\n",
        "      VALUES (%s, %s, %s, %s)\n",
        "    \"\"\", (2, \"Let It Be\", \"The Beatles\", 1970))\n",
        "except psycopg2.Error as e: \n",
        "    print(\"Error: Inserting Rows\")\n",
        "    print (e)\n",
        "\n",
        "try: \n",
        "    cur.execute(\"INSERT INTO song_library (song_id, album_id, song_name) \\\n",
        "                 VALUES (%s, %s, %s)\", \\\n",
        "                 (1, 1, \"Michelle\"))\n",
        "except psycopg2.Error as e: \n",
        "    print(\"Error: Inserting Rows\")\n",
        "    print (e)\n",
        "    \n",
        "try: \n",
        "    cur.execute(\"INSERT INTO song_library (song_id, album_id, song_name) \\\n",
        "                 VALUES (%s, %s, %s)\", \\\n",
        "                 (2, 1, \"Think For Yourself\"))\n",
        "except psycopg2.Error as e: \n",
        "    print(\"Error: Inserting Rows\")\n",
        "    print (e)\n",
        "    \n",
        "try: \n",
        "    cur.execute(\"INSERT INTO song_library (song_id, album_id, song_name) \\\n",
        "                 VALUES (%s, %s, %s)\", \\\n",
        "                 (3, 1, \"In My Life\"))\n",
        "except psycopg2.Error as e: \n",
        "    print(\"Error: Inserting Rows\")\n",
        "    print (e)\n",
        "\n",
        "try: \n",
        "    cur.execute(\"INSERT INTO song_library (song_id, album_id, song_name) \\\n",
        "                 VALUES (%s, %s, %s)\", \\\n",
        "                 (4, 2, \"Let It Be\"))\n",
        "except psycopg2.Error as e: \n",
        "    print(\"Error: Inserting Rows\")\n",
        "    print (e)\n",
        "\n",
        "try: \n",
        "    cur.execute(\"INSERT INTO song_library (song_id, album_id, song_name) \\\n",
        "                 VALUES (%s, %s, %s)\", \\\n",
        "                 (5, 2, \"Across the Universe\"))\n",
        "except psycopg2.Error as e: \n",
        "    print(\"Error: Inserting Rows\")\n",
        "    print (e)\n",
        "\n",
        "print(\"Table: album_library\\n\")\n",
        "try: \n",
        "    cur.execute(\"SELECT * FROM album_library;\")\n",
        "except psycopg2.Error as e: \n",
        "    print(\"Error: select *\")\n",
        "    print (e)\n",
        "\n",
        "row = cur.fetchone()\n",
        "while row:\n",
        "   print(row)\n",
        "   row = cur.fetchone()\n",
        "\n",
        "print(\"\\nTable: song_library\\n\")\n",
        "try: \n",
        "    cur.execute(\"SELECT * FROM song_library;\")\n",
        "except psycopg2.Error as e: \n",
        "    print(\"Error: select *\")\n",
        "    print (e)\n",
        "row = cur.fetchone()\n",
        "while row:\n",
        "   print(row)\n",
        "   row = cur.fetchone()"
      ],
      "execution_count": 7,
      "outputs": [
        {
          "output_type": "stream",
          "text": [
            "Table: album_library\n",
            "\n",
            "(1, 'Rubber Soul', 'The Beatles', 1965)\n",
            "(2, 'Let It Be', 'The Beatles', 1970)\n",
            "\n",
            "Table: song_library\n",
            "\n",
            "(1, 1, 'Michelle')\n",
            "(2, 1, 'Think For Yourself')\n",
            "(3, 1, 'In My Life')\n",
            "(4, 2, 'Let It Be')\n",
            "(5, 2, 'Across the Universe')\n"
          ],
          "name": "stdout"
        }
      ]
    },
    {
      "cell_type": "markdown",
      "metadata": {
        "id": "pw5hnT8XN_G9",
        "colab_type": "text"
      },
      "source": [
        "#### Let's do a `JOIN` on this table so we can get all the information we had in our first Table. "
      ]
    },
    {
      "cell_type": "code",
      "metadata": {
        "id": "v-bkmlQ_N_G-",
        "colab_type": "code",
        "colab": {
          "base_uri": "https://localhost:8080/",
          "height": 99
        },
        "outputId": "2c656af1-43ad-4a2e-edb3-926d291687be"
      },
      "source": [
        "try: \n",
        "    cur.execute(\"\"\"\n",
        "      SELECT * \n",
        "      FROM album_library JOIN song_library \n",
        "        ON album_library.album_id = song_library.album_id;\n",
        "    \"\"\")\n",
        "except psycopg2.Error as e: \n",
        "    print(\"Error: select *\")\n",
        "    print (e)\n",
        "\n",
        "row = cur.fetchone()\n",
        "while row:\n",
        "   print(row)\n",
        "   row = cur.fetchone()\n"
      ],
      "execution_count": 8,
      "outputs": [
        {
          "output_type": "stream",
          "text": [
            "(1, 'Rubber Soul', 'The Beatles', 1965, 1, 1, 'Michelle')\n",
            "(1, 'Rubber Soul', 'The Beatles', 1965, 2, 1, 'Think For Yourself')\n",
            "(1, 'Rubber Soul', 'The Beatles', 1965, 3, 1, 'In My Life')\n",
            "(2, 'Let It Be', 'The Beatles', 1970, 4, 2, 'Let It Be')\n",
            "(2, 'Let It Be', 'The Beatles', 1970, 5, 2, 'Across the Universe')\n"
          ],
          "name": "stdout"
        }
      ]
    },
    {
      "cell_type": "markdown",
      "metadata": {
        "id": "irhL5IBiN_HB",
        "colab_type": "text"
      },
      "source": [
        "#### Moving to 3rd Normal Form (3NF)\n",
        "Check our table for any transitive dependencies. *Album_library* can move *Artist_name* to its own table, called *Artists*, which will leave us with 3 tables. \n",
        "\n",
        "`Table Name: album_library2 \n",
        "column 0: Album Id\n",
        "column 1: Album Name\n",
        "column 2: Artist Id\n",
        "column 3: Year `\n",
        "\n",
        "`Table Name: song_library\n",
        "column 0: Song Id\n",
        "column 1: Song Name\n",
        "column 3: Album Id`\n",
        "\n",
        "`Table Name: artist_library\n",
        "column 0: Artist Id\n",
        "column 1: Artist Name `\n",
        "\n",
        "#### album_library2\n",
        "\n",
        ">album_id | album_name | artist_id | year\n",
        ">--- | --- | --- | ---\n",
        ">1 | SPLHB | 1  | 2000 \n",
        ">2 | BLR | 1 | 2000\n",
        ">3 | Second | 1 | 2018\n",
        "\n",
        "#### song_library\n",
        "\n",
        ">song_id | song_name | album_id\n",
        ">--- | --- | ---\n",
        ">1 | Let it be | 1 \n",
        ">2 | Across The Universe | 1\n",
        ">3 | Michelle | 2\n",
        "\n",
        "#### artist_library\n",
        "\n",
        ">artist_id | artist_name\n",
        ">--- | ---\n",
        ">1 | The Beatles\n",
        ">2 | U2"
      ]
    },
    {
      "cell_type": "code",
      "metadata": {
        "id": "3eMYzZvVN_HC",
        "colab_type": "code",
        "colab": {
          "base_uri": "https://localhost:8080/",
          "height": 281
        },
        "outputId": "6eda46ca-931c-4198-94b1-b96c9b909154"
      },
      "source": [
        "try: \n",
        "    cur.execute(\"\"\"\n",
        "      CREATE TABLE IF NOT EXISTS album_library2 (album_id int,\n",
        "                                                 album_name varchar,\n",
        "                                                 artist_id int,\n",
        "                                                 year int);\n",
        "    \"\"\")\n",
        "except psycopg2.Error as e: \n",
        "    print(\"Error: Issue creating table\")\n",
        "    print (e)\n",
        "\n",
        "try: \n",
        "    cur.execute(\"\"\"\n",
        "      CREATE TABLE IF NOT EXISTS artist_library (artist_id int,\n",
        "                                                 artist_name varchar);\n",
        "    \"\"\")\n",
        "except psycopg2.Error as e: \n",
        "    print(\"Error: Issue creating table\")\n",
        "    print (e)\n",
        "\n",
        "    \n",
        "try: \n",
        "    cur.execute(\"\"\"\n",
        "      INSERT INTO album_library2 (album_id, album_name, artist_id, year)\n",
        "           VALUES (%s, %s, %s, %s)\n",
        "    \"\"\", (1, \"Rubber Soul\", 1, 1965))\n",
        "except psycopg2.Error as e: \n",
        "    print(\"Error: Inserting Rows\")\n",
        "    print (e)\n",
        "\n",
        "try: \n",
        "    cur.execute(\"INSERT INTO album_library2 (album_id, album_name, artist_id, year) \\\n",
        "                 VALUES (%s, %s, %s, %s)\", \\\n",
        "                 (2, \"Let It Be\", 1, 1970))\n",
        "except psycopg2.Error as e: \n",
        "    print(\"Error: Inserting Rows\")\n",
        "    print (e)\n",
        "\n",
        "try: \n",
        "    cur.execute(\"\"\"\n",
        "      INSERT INTO artist_library (artist_id, artist_name)\n",
        "           VALUES (%s, %s)\n",
        "    \"\"\", (1, \"The Beatles\"))\n",
        "except psycopg2.Error as e: \n",
        "    print(\"Error: Inserting Rows\")\n",
        "    print (e)\n",
        "    \n",
        "\n",
        "print(\"Table: album_library2\\n\")\n",
        "try: \n",
        "    cur.execute(\"SELECT * FROM album_library2;\")\n",
        "except psycopg2.Error as e: \n",
        "    print(\"Error: select *\")\n",
        "    print (e)\n",
        "\n",
        "row = cur.fetchone()\n",
        "while row:\n",
        "   print(row)\n",
        "   row = cur.fetchone()\n",
        "\n",
        "print(\"\\nTable: song_library\\n\")\n",
        "try: \n",
        "    cur.execute(\"SELECT * FROM song_library;\")\n",
        "except psycopg2.Error as e: \n",
        "    print(\"Error: select *\")\n",
        "    print (e)\n",
        "\n",
        "row = cur.fetchone()\n",
        "while row:\n",
        "   print(row)\n",
        "   row = cur.fetchone()\n",
        "\n",
        "##Doublechecking that data is in the table\n",
        "print(\"\\nTable: artist_library\\n\")\n",
        "try: \n",
        "    cur.execute(\"SELECT * FROM artist_library;\")\n",
        "except psycopg2.Error as e: \n",
        "    print(\"Error: select *\")\n",
        "    print (e)\n",
        "\n",
        "row = cur.fetchone()\n",
        "while row:\n",
        "   print(row)\n",
        "   row = cur.fetchone()"
      ],
      "execution_count": 9,
      "outputs": [
        {
          "output_type": "stream",
          "text": [
            "Table: album_library2\n",
            "\n",
            "(1, 'Rubber Soul', 1, 1965)\n",
            "(2, 'Let It Be', 1, 1970)\n",
            "\n",
            "Table: song_library\n",
            "\n",
            "(1, 1, 'Michelle')\n",
            "(2, 1, 'Think For Yourself')\n",
            "(3, 1, 'In My Life')\n",
            "(4, 2, 'Let It Be')\n",
            "(5, 2, 'Across the Universe')\n",
            "\n",
            "Table: artist_library\n",
            "\n",
            "(1, 'The Beatles')\n"
          ],
          "name": "stdout"
        }
      ]
    },
    {
      "cell_type": "markdown",
      "metadata": {
        "id": "m_-oB5evN_HF",
        "colab_type": "text"
      },
      "source": [
        "#### Let's do two `JOIN` on these 3 tables so we can get all the information we had in our first Table. "
      ]
    },
    {
      "cell_type": "code",
      "metadata": {
        "id": "U_3LEj0vN_HG",
        "colab_type": "code",
        "colab": {
          "base_uri": "https://localhost:8080/",
          "height": 99
        },
        "outputId": "045f4767-c4ec-4674-c182-c766089b0e9d"
      },
      "source": [
        "try: \n",
        "    cur.execute(\"\"\"\n",
        "      SELECT * FROM (artist_library JOIN album_library2 ON \n",
        "                     artist_library.artist_id = album_library2.artist_id) JOIN \n",
        "                     song_library ON album_library2.album_id=song_library.album_id;\n",
        "    \"\"\")\n",
        "except psycopg2.Error as e: \n",
        "    print(\"Error: select *\")\n",
        "    print (e)\n",
        "\n",
        "row = cur.fetchone()\n",
        "while row:\n",
        "   print(row)\n",
        "   row = cur.fetchone()"
      ],
      "execution_count": 10,
      "outputs": [
        {
          "output_type": "stream",
          "text": [
            "(1, 'The Beatles', 1, 'Rubber Soul', 1, 1965, 1, 1, 'Michelle')\n",
            "(1, 'The Beatles', 1, 'Rubber Soul', 1, 1965, 2, 1, 'Think For Yourself')\n",
            "(1, 'The Beatles', 1, 'Rubber Soul', 1, 1965, 3, 1, 'In My Life')\n",
            "(1, 'The Beatles', 2, 'Let It Be', 1, 1970, 4, 2, 'Let It Be')\n",
            "(1, 'The Beatles', 2, 'Let It Be', 1, 1970, 5, 2, 'Across the Universe')\n"
          ],
          "name": "stdout"
        }
      ]
    },
    {
      "cell_type": "markdown",
      "metadata": {
        "id": "3j3EFRzyN_HK",
        "colab_type": "text"
      },
      "source": [
        "### DONE! We have Normalized our dataset! "
      ]
    },
    {
      "cell_type": "markdown",
      "metadata": {
        "id": "aoq9cIeFN_HL",
        "colab_type": "text"
      },
      "source": [
        "### For the sake of the demo, I will drop the tables. "
      ]
    },
    {
      "cell_type": "code",
      "metadata": {
        "id": "UG0_Q7yxN_HP",
        "colab_type": "code",
        "colab": {}
      },
      "source": [
        "try: \n",
        "    cur.execute(\"DROP table music_library\")\n",
        "except psycopg2.Error as e: \n",
        "    print(\"Error: Dropping table\")\n",
        "    print (e)\n",
        "try: \n",
        "    cur.execute(\"DROP table music_library2\")\n",
        "except psycopg2.Error as e: \n",
        "    print(\"Error: Dropping table\")\n",
        "    print (e)\n",
        "try: \n",
        "    cur.execute(\"DROP table album_library\")\n",
        "except psycopg2.Error as e: \n",
        "    print(\"Error: Dropping table\")\n",
        "    print (e)\n",
        "try: \n",
        "    cur.execute(\"DROP table song_library\")\n",
        "except psycopg2.Error as e: \n",
        "    print(\"Error: Dropping table\")\n",
        "    print (e)\n",
        "try: \n",
        "    cur.execute(\"DROP table album_library2\")\n",
        "except psycopg2.Error as e: \n",
        "    print(\"Error: Dropping table\")\n",
        "    print (e)\n",
        "try: \n",
        "    cur.execute(\"DROP table artist_library\")\n",
        "except psycopg2.Error as e: \n",
        "    print(\"Error: Dropping table\")\n",
        "    print (e)"
      ],
      "execution_count": 0,
      "outputs": []
    },
    {
      "cell_type": "markdown",
      "metadata": {
        "id": "AEFY1MuaN_HW",
        "colab_type": "text"
      },
      "source": [
        "### And finally close your cursor and connection. "
      ]
    },
    {
      "cell_type": "code",
      "metadata": {
        "id": "Xzc72CIIN_HX",
        "colab_type": "code",
        "colab": {}
      },
      "source": [
        "cur.close()\n",
        "conn.close()"
      ],
      "execution_count": 0,
      "outputs": []
    }
  ]
}