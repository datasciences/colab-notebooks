{
  "nbformat": 4,
  "nbformat_minor": 0,
  "metadata": {
    "kernelspec": {
      "display_name": "Python 3",
      "language": "python",
      "name": "python3"
    },
    "language_info": {
      "codemirror_mode": {
        "name": "ipython",
        "version": 3
      },
      "file_extension": ".py",
      "mimetype": "text/x-python",
      "name": "python",
      "nbconvert_exporter": "python",
      "pygments_lexer": "ipython3",
      "version": "3.7.2"
    },
    "colab": {
      "name": "l1-demo-0-creating-a-table-with-postgres.ipynb",
      "provenance": [],
      "collapsed_sections": [],
      "include_colab_link": true
    }
  },
  "cells": [
    {
      "cell_type": "markdown",
      "metadata": {
        "id": "view-in-github",
        "colab_type": "text"
      },
      "source": [
        "<a href=\"https://colab.research.google.com/github/martin-fabbri/colab-notebooks/blob/master/data-engineering/l1_demo_0_creating_a_table_with_postgres.ipynb\" target=\"_parent\"><img src=\"https://colab.research.google.com/assets/colab-badge.svg\" alt=\"Open In Colab\"/></a>"
      ]
    },
    {
      "cell_type": "markdown",
      "metadata": {
        "id": "eRej2MuWO-6P",
        "colab_type": "text"
      },
      "source": [
        "# Lesson 1 Demo 0: PostgreSQL and AutoCommits\n",
        "\n",
        "<img src=\"https://upload.wikimedia.org/wikipedia/commons/thumb/2/29/Postgresql_elephant.svg/1200px-Postgresql_elephant.svg.png\" width=\"100\" height=\"100\">"
      ]
    },
    {
      "cell_type": "code",
      "metadata": {
        "id": "KsNK_aA1Pmxa",
        "colab_type": "code",
        "colab": {
          "base_uri": "https://localhost:8080/",
          "height": 1000
        },
        "cellView": "form",
        "outputId": "4ec2b56c-9674-4647-f6ab-a962a19e4591"
      },
      "source": [
        "#@title ## Setup database instance\n",
        "#@markdown Executing this cell will setup PostgreSQL on the current Colab session.\n",
        "\n",
        "#@markdown **Warning: This notebook is designed to be run in a Google Colab only**. *It installs packages on the system and requires sudo access. If you want to run it in a local Jupyter notebook, please proceed with caution.*\n",
        "# Install postgresql server\n",
        "!sudo apt-get -y -qq update\n",
        "!sudo apt-get -y -qq install postgresql\n",
        "!sudo service postgresql start\n",
        "\n",
        "# Setup a password `postgres` for username `postgres`\n",
        "!sudo -u postgres psql -U postgres -c \"ALTER USER postgres PASSWORD 'postgres';\"\n",
        "\n",
        "# Setup a database with name `tfio_demo` to be used\n",
        "!sudo -u postgres psql -U postgres -c 'DROP DATABASE IF EXISTS studentdb;'\n",
        "!sudo -u postgres psql -U postgres -c 'CREATE DATABASE studentdb;'\n",
        "\n",
        "# Create student user\n",
        "!sudo -u postgres psql -U postgres -c \"CREATE USER student WITH ENCRYPTED PASSWORD 'student';\"\n",
        "!sudo -u postgres psql -U postgres -c \"GRANT ALL PRIVILEGES ON DATABASE studentdb TO student;\""
      ],
      "execution_count": 1,
      "outputs": [
        {
          "output_type": "stream",
          "text": [
            "debconf: unable to initialize frontend: Dialog\n",
            "debconf: (No usable dialog-like program is installed, so the dialog based frontend cannot be used. at /usr/share/perl5/Debconf/FrontEnd/Dialog.pm line 76, <> line 10.)\n",
            "debconf: falling back to frontend: Readline\n",
            "debconf: unable to initialize frontend: Readline\n",
            "debconf: (This frontend requires a controlling tty.)\n",
            "debconf: falling back to frontend: Teletype\n",
            "dpkg-preconfigure: unable to re-open stdin: \n",
            "Selecting previously unselected package cron.\n",
            "(Reading database ... 133872 files and directories currently installed.)\n",
            "Preparing to unpack .../0-cron_3.0pl1-128.1ubuntu1_amd64.deb ...\n",
            "Unpacking cron (3.0pl1-128.1ubuntu1) ...\n",
            "Selecting previously unselected package logrotate.\n",
            "Preparing to unpack .../1-logrotate_3.11.0-0.1ubuntu1_amd64.deb ...\n",
            "Unpacking logrotate (3.11.0-0.1ubuntu1) ...\n",
            "Selecting previously unselected package netbase.\n",
            "Preparing to unpack .../2-netbase_5.4_all.deb ...\n",
            "Unpacking netbase (5.4) ...\n",
            "Selecting previously unselected package postgresql-client-common.\n",
            "Preparing to unpack .../3-postgresql-client-common_190ubuntu0.1_all.deb ...\n",
            "Unpacking postgresql-client-common (190ubuntu0.1) ...\n",
            "Selecting previously unselected package postgresql-client-10.\n",
            "Preparing to unpack .../4-postgresql-client-10_10.12-0ubuntu0.18.04.1_amd64.deb ...\n",
            "Unpacking postgresql-client-10 (10.12-0ubuntu0.18.04.1) ...\n",
            "Selecting previously unselected package ssl-cert.\n",
            "Preparing to unpack .../5-ssl-cert_1.0.39_all.deb ...\n",
            "Unpacking ssl-cert (1.0.39) ...\n",
            "Selecting previously unselected package postgresql-common.\n",
            "Preparing to unpack .../6-postgresql-common_190ubuntu0.1_all.deb ...\n",
            "Adding 'diversion of /usr/bin/pg_config to /usr/bin/pg_config.libpq-dev by postgresql-common'\n",
            "Unpacking postgresql-common (190ubuntu0.1) ...\n",
            "Selecting previously unselected package postgresql-10.\n",
            "Preparing to unpack .../7-postgresql-10_10.12-0ubuntu0.18.04.1_amd64.deb ...\n",
            "Unpacking postgresql-10 (10.12-0ubuntu0.18.04.1) ...\n",
            "Selecting previously unselected package postgresql.\n",
            "Preparing to unpack .../8-postgresql_10+190ubuntu0.1_all.deb ...\n",
            "Unpacking postgresql (10+190ubuntu0.1) ...\n",
            "Selecting previously unselected package sysstat.\n",
            "Preparing to unpack .../9-sysstat_11.6.1-1ubuntu0.1_amd64.deb ...\n",
            "Unpacking sysstat (11.6.1-1ubuntu0.1) ...\n",
            "Setting up sysstat (11.6.1-1ubuntu0.1) ...\n",
            "debconf: unable to initialize frontend: Dialog\n",
            "debconf: (No usable dialog-like program is installed, so the dialog based frontend cannot be used. at /usr/share/perl5/Debconf/FrontEnd/Dialog.pm line 76.)\n",
            "debconf: falling back to frontend: Readline\n",
            "\n",
            "Creating config file /etc/default/sysstat with new version\n",
            "update-alternatives: using /usr/bin/sar.sysstat to provide /usr/bin/sar (sar) in auto mode\n",
            "Created symlink /etc/systemd/system/multi-user.target.wants/sysstat.service → /lib/systemd/system/sysstat.service.\n",
            "Setting up ssl-cert (1.0.39) ...\n",
            "debconf: unable to initialize frontend: Dialog\n",
            "debconf: (No usable dialog-like program is installed, so the dialog based frontend cannot be used. at /usr/share/perl5/Debconf/FrontEnd/Dialog.pm line 76.)\n",
            "debconf: falling back to frontend: Readline\n",
            "Setting up cron (3.0pl1-128.1ubuntu1) ...\n",
            "Adding group `crontab' (GID 110) ...\n",
            "Done.\n",
            "Created symlink /etc/systemd/system/multi-user.target.wants/cron.service → /lib/systemd/system/cron.service.\n",
            "update-rc.d: warning: start and stop actions are no longer supported; falling back to defaults\n",
            "invoke-rc.d: could not determine current runlevel\n",
            "invoke-rc.d: policy-rc.d denied execution of start.\n",
            "Setting up logrotate (3.11.0-0.1ubuntu1) ...\n",
            "Setting up netbase (5.4) ...\n",
            "Setting up postgresql-client-common (190ubuntu0.1) ...\n",
            "Setting up postgresql-common (190ubuntu0.1) ...\n",
            "debconf: unable to initialize frontend: Dialog\n",
            "debconf: (No usable dialog-like program is installed, so the dialog based frontend cannot be used. at /usr/share/perl5/Debconf/FrontEnd/Dialog.pm line 76.)\n",
            "debconf: falling back to frontend: Readline\n",
            "Adding user postgres to group ssl-cert\n",
            "\n",
            "Creating config file /etc/postgresql-common/createcluster.conf with new version\n",
            "Building PostgreSQL dictionaries from installed myspell/hunspell packages...\n",
            "Removing obsolete dictionary files:\n",
            "Created symlink /etc/systemd/system/multi-user.target.wants/postgresql.service → /lib/systemd/system/postgresql.service.\n",
            "invoke-rc.d: could not determine current runlevel\n",
            "invoke-rc.d: policy-rc.d denied execution of start.\n",
            "Setting up postgresql-client-10 (10.12-0ubuntu0.18.04.1) ...\n",
            "update-alternatives: using /usr/share/postgresql/10/man/man1/psql.1.gz to provide /usr/share/man/man1/psql.1.gz (psql.1.gz) in auto mode\n",
            "Setting up postgresql-10 (10.12-0ubuntu0.18.04.1) ...\n",
            "debconf: unable to initialize frontend: Dialog\n",
            "debconf: (No usable dialog-like program is installed, so the dialog based frontend cannot be used. at /usr/share/perl5/Debconf/FrontEnd/Dialog.pm line 76.)\n",
            "debconf: falling back to frontend: Readline\n",
            "Creating new PostgreSQL cluster 10/main ...\n",
            "/usr/lib/postgresql/10/bin/initdb -D /var/lib/postgresql/10/main --auth-local peer --auth-host md5\n",
            "The files belonging to this database system will be owned by user \"postgres\".\n",
            "This user must also own the server process.\n",
            "\n",
            "The database cluster will be initialized with locale \"en_US.UTF-8\".\n",
            "The default database encoding has accordingly been set to \"UTF8\".\n",
            "The default text search configuration will be set to \"english\".\n",
            "\n",
            "Data page checksums are disabled.\n",
            "\n",
            "fixing permissions on existing directory /var/lib/postgresql/10/main ... ok\n",
            "creating subdirectories ... ok\n",
            "selecting default max_connections ... 100\n",
            "selecting default shared_buffers ... 128MB\n",
            "selecting default timezone ... Etc/UTC\n",
            "selecting dynamic shared memory implementation ... posix\n",
            "creating configuration files ... ok\n",
            "running bootstrap script ... ok\n",
            "performing post-bootstrap initialization ... ok\n",
            "syncing data to disk ... ok\n",
            "\n",
            "Success. You can now start the database server using:\n",
            "\n",
            "    /usr/lib/postgresql/10/bin/pg_ctl -D /var/lib/postgresql/10/main -l logfile start\n",
            "\n",
            "Ver Cluster Port Status Owner    Data directory              Log file\n",
            "\u001b[31m10  main    5432 down   postgres /var/lib/postgresql/10/main /var/log/postgresql/postgresql-10-main.log\u001b[0m\n",
            "update-alternatives: using /usr/share/postgresql/10/man/man1/postmaster.1.gz to provide /usr/share/man/man1/postmaster.1.gz (postmaster.1.gz) in auto mode\n",
            "invoke-rc.d: could not determine current runlevel\n",
            "invoke-rc.d: policy-rc.d denied execution of start.\n",
            "Setting up postgresql (10+190ubuntu0.1) ...\n",
            "Processing triggers for man-db (2.8.3-2ubuntu0.1) ...\n",
            "Processing triggers for systemd (237-3ubuntu10.39) ...\n",
            " * Starting PostgreSQL 10 database server\n",
            "   ...done.\n",
            "ALTER ROLE\n",
            "NOTICE:  database \"studentdb\" does not exist, skipping\n",
            "DROP DATABASE\n",
            "CREATE DATABASE\n",
            "CREATE ROLE\n",
            "GRANT\n"
          ],
          "name": "stdout"
        }
      ]
    },
    {
      "cell_type": "code",
      "metadata": {
        "id": "8XSGPk9oR7mM",
        "colab_type": "code",
        "colab": {
          "base_uri": "https://localhost:8080/",
          "height": 104
        },
        "cellView": "form",
        "outputId": "ea39d1ff-6b7f-4442-e6ec-ef16951087ca"
      },
      "source": [
        "#@title ##Setup environment variables\n",
        "\n",
        "#@markdown The following environmental variables are based on the PostgreSQL setup. You should edit to change the environemtn variables.\n",
        "\n",
        "%env TFIO_DEMO_DATABASE_NAME=studentdb\n",
        "%env TFIO_DEMO_DATABASE_HOST=localhost\n",
        "%env TFIO_DEMO_DATABASE_PORT=5432\n",
        "%env TFIO_DEMO_DATABASE_USER=student\n",
        "%env TFIO_DEMO_DATABASE_PASS=student\n"
      ],
      "execution_count": 2,
      "outputs": [
        {
          "output_type": "stream",
          "text": [
            "env: TFIO_DEMO_DATABASE_NAME=studentdb\n",
            "env: TFIO_DEMO_DATABASE_HOST=localhost\n",
            "env: TFIO_DEMO_DATABASE_PORT=5432\n",
            "env: TFIO_DEMO_DATABASE_USER=student\n",
            "env: TFIO_DEMO_DATABASE_PASS=student\n"
          ],
          "name": "stdout"
        }
      ]
    },
    {
      "cell_type": "code",
      "metadata": {
        "id": "ioGgM813cSk3",
        "colab_type": "code",
        "colab": {
          "base_uri": "https://localhost:8080/",
          "height": 35
        },
        "cellView": "both",
        "outputId": "583c05fb-9922-4148-ac6e-72ff4b40635c"
      },
      "source": [
        "#@title ## Data loading queries\n",
        "#@markdown - Drop tables\n",
        "#@markdown - Create tables\n",
        "#@markdown - Insert records\n",
        "#@markdown - Queries\n",
        "\n",
        "# DROP TABLES\n",
        "\n",
        "songplay_table_drop = \"DROP TABLE IF EXISTS songplays\"\n",
        "user_table_drop = \"DROP TABLE IF EXISTS user_table_drop\"\n",
        "song_table_drop = \"DROP TABLE IF EXISTS song_table_drop\"\n",
        "artist_table_drop = \"DROP TABLE IF EXISTS artist_table_drop\"\n",
        "time_table_drop = \"DROP TABLE IF EXISTS time_table_drop\"\n",
        "\n",
        "# CREATE TABLES\n",
        "# CREATE FACT TABLE \n",
        "songplay_table_create = (\"\"\"CREATE TABLE IF NOT EXISTS songplays(\n",
        "                            songplay_id SERIAL PRIMARY KEY,\n",
        "                            start_time timestamp,\n",
        "                            user_id int NOT NULL,\n",
        "                            level varchar,\n",
        "                            artist_id varchar,\n",
        "                            song_id varchar,\n",
        "                            session_id int,\n",
        "                            location text,\n",
        "                            user_agent text)\"\"\")\n",
        "\n",
        "# CREATE DIMENION TABLES\n",
        "user_table_create = (\"\"\"CREATE TABLE IF NOT EXISTS users(\n",
        "                        user_id int NOT NULL,\n",
        "                        first_name varchar NOT NULL,\n",
        "                        last_name varchar NOT NULL,\n",
        "                        gender char,\n",
        "                        level varchar,\n",
        "                        PRIMARY KEY (user_id))\"\"\")\n",
        "\n",
        "song_table_create = (\"\"\"CREATE TABLE IF NOT EXISTS songs(\n",
        "                        song_id varchar NOT NULL,\n",
        "                        title varchar,\n",
        "                        artist_id varchar,\n",
        "                        year int,\n",
        "                        duration float,\n",
        "                        PRIMARY KEY (song_id))\"\"\")\n",
        "\n",
        "artist_table_create = (\"\"\"CREATE TABLE IF NOT EXISTS artists(\n",
        "                        artist_id varchar NOT NULL,\n",
        "                        name varchar,\n",
        "                        location varchar,\n",
        "                        lattitude numeric,\n",
        "                        longitude numeric,\n",
        "                        PRIMARY KEY (artist_id))\"\"\")\n",
        "\n",
        "time_table_create = (\"\"\"CREATE TABLE IF NOT EXISTS time(\n",
        "                        start_time timestamp NOT NULL,\n",
        "                        hour int,\n",
        "                        day int,\n",
        "                        week int,\n",
        "                        month int,\n",
        "                        year int,\n",
        "                        weekday varchar,\n",
        "                        PRIMARY KEY (start_time))\"\"\")\n",
        "\n",
        "# INSERT RECORDS\n",
        "\n",
        "songplay_table_insert = (\"\"\"INSERT INTO songplays( start_time, user_id,level, artist_id, \n",
        "                            song_id, session_id, location, user_agent)\n",
        "                            VALUES(%s, %s, %s, %s, %s, %s, %s, %s)\"\"\")\n",
        "\n",
        "user_table_insert = (\"\"\"INSERT INTO users(user_id, first_name, last_name, gender,level)\n",
        "                        VALUES(%s, %s, %s, %s, %s)\n",
        "                        ON CONFLICT (user_id) \n",
        "                        DO UPDATE SET level = excluded.level\"\"\")\n",
        "\n",
        "song_table_insert = (\"\"\"INSERT INTO songs(song_id, title, artist_id, year, duration)\n",
        "                        VALUES(%s, %s, %s, %s, %s)\n",
        "                        ON CONFLICT (song_id) \n",
        "                        DO NOTHING\"\"\")\n",
        "\n",
        "artist_table_insert = (\"\"\"INSERT INTO  artists(artist_id, name,location,lattitude, longitude)\n",
        "                          VALUES(%s, %s, %s, %s, %s)\n",
        "                          ON CONFLICT (artist_id) \n",
        "                          DO NOTHING\"\"\")\n",
        "\n",
        "\n",
        "time_table_insert = (\"\"\"INSERT INTO time(start_time,hour,day,week,month, year,weekday)\n",
        "                        VALUES(%s, %s, %s, %s, %s, %s, %s)\n",
        "                        ON CONFLICT (start_time) \n",
        "                        DO NOTHING\"\"\")\n",
        "\n",
        "# FIND SONGS\n",
        "\n",
        "song_select = (\"\"\"SELECT songs.song_id, artists.artist_id FROM songs \n",
        "                  JOIN artists ON  songs.artist_id=artists.artist_id\n",
        "                  WHERE songs.title=%s AND artists.name=%s AND songs.duration=%s;\"\"\")\n",
        "\n",
        "# QUERY LISTS\n",
        "\n",
        "create_table_queries = [songplay_table_create, user_table_create, song_table_create, artist_table_create, time_table_create]\n",
        "drop_table_queries = [songplay_table_drop, user_table_drop, song_table_drop, artist_table_drop, time_table_drop]\n",
        "\n",
        "print('Data loading queries are now available.')"
      ],
      "execution_count": 12,
      "outputs": [
        {
          "output_type": "stream",
          "text": [
            "Data loading queries are now available.\n"
          ],
          "name": "stdout"
        }
      ]
    },
    {
      "cell_type": "code",
      "metadata": {
        "id": "_OUhb5l8dhtV",
        "colab_type": "code",
        "colab": {}
      },
      "source": [
        ""
      ],
      "execution_count": 0,
      "outputs": []
    },
    {
      "cell_type": "code",
      "metadata": {
        "id": "VMg4p_wDb3JN",
        "colab_type": "code",
        "colab": {
          "base_uri": "https://localhost:8080/",
          "height": 35
        },
        "cellView": "form",
        "outputId": "52fbb9e8-125e-4136-cf46-d8ade4a5f812"
      },
      "source": [
        "#@title ##Setup environment variables\n",
        "\n",
        "#@markdown - Create `sparkifydb` database\n",
        "#@markdown - Create test tables\n",
        "\n",
        "\n",
        "import psycopg2\n",
        "\n",
        "def create_database():\n",
        "    # connect to default database\n",
        "    conn = psycopg2.connect(\"host=127.0.0.1 dbname=studentdb user=postgres password=postgres\")\n",
        "    conn.set_session(autocommit=True)\n",
        "    cur = conn.cursor()\n",
        "    \n",
        "    # create sparkify database with UTF8 encoding\n",
        "    cur.execute(\"DROP DATABASE IF EXISTS sparkifydb\")\n",
        "    cur.execute(\"CREATE DATABASE sparkifydb WITH ENCODING 'utf8' TEMPLATE template0\")\n",
        "\n",
        "    # close connection to default database\n",
        "    conn.close()    \n",
        "    \n",
        "    # connect to sparkify database\n",
        "    conn = psycopg2.connect(\"host=127.0.0.1 dbname=sparkifydb user=student password=student\")\n",
        "    cur = conn.cursor()\n",
        "    \n",
        "    return cur, conn\n",
        "\n",
        "\n",
        "def drop_tables(cur, conn):\n",
        "    for query in drop_table_queries:\n",
        "        cur.execute(query)\n",
        "        conn.commit()\n",
        "\n",
        "\n",
        "def create_tables(cur, conn):\n",
        "    for query in create_table_queries:\n",
        "        cur.execute(query)\n",
        "        conn.commit()\n",
        "\n",
        "\n",
        "cur, conn = create_database()\n",
        "drop_tables(cur, conn)\n",
        "create_tables(cur, conn)\n",
        "conn.close()\n",
        "\n",
        "print('Setup complete.')"
      ],
      "execution_count": 16,
      "outputs": [
        {
          "output_type": "stream",
          "text": [
            "Setup complete.\n"
          ],
          "name": "stdout"
        }
      ]
    },
    {
      "cell_type": "markdown",
      "metadata": {
        "id": "KWu0U0F-O-6R",
        "colab_type": "text"
      },
      "source": [
        "## Walk through the basics of PostgreSQL autocommits "
      ]
    },
    {
      "cell_type": "code",
      "metadata": {
        "id": "THrQnmobO-6U",
        "colab_type": "code",
        "colab": {
          "base_uri": "https://localhost:8080/",
          "height": 72
        },
        "outputId": "390ade38-815b-434d-88ae-66ad5449db71"
      },
      "source": [
        "## import postgreSQL adapter for the Python\n",
        "import psycopg2"
      ],
      "execution_count": 3,
      "outputs": [
        {
          "output_type": "stream",
          "text": [
            "/usr/local/lib/python3.6/dist-packages/psycopg2/__init__.py:144: UserWarning: The psycopg2 wheel package will be renamed from release 2.8; in order to keep installing from binary please use \"pip install psycopg2-binary\" instead. For details see: <http://initd.org/psycopg/docs/install.html#binary-install-from-pypi>.\n",
            "  \"\"\")\n"
          ],
          "name": "stderr"
        }
      ]
    },
    {
      "cell_type": "markdown",
      "metadata": {
        "id": "pe-QyewKO-6e",
        "colab_type": "text"
      },
      "source": [
        "### Create a connection to the database\n",
        "1. Connect to the local instance of PostgreSQL (*127.0.0.1*)\n",
        "2. Use the database/schema from the instance. \n",
        "3. The connection reaches out to the database (*studentdb*) and use the correct privilages to connect to the database (*user and password = student*)."
      ]
    },
    {
      "cell_type": "code",
      "metadata": {
        "id": "LKFWd-BuO-6g",
        "colab_type": "code",
        "colab": {}
      },
      "source": [
        "conn = psycopg2.connect(\"host=127.0.0.1 dbname=studentdb user=student password=student\")"
      ],
      "execution_count": 0,
      "outputs": []
    },
    {
      "cell_type": "markdown",
      "metadata": {
        "id": "ELO3qbBwO-6q",
        "colab_type": "text"
      },
      "source": [
        "### Use the connection to get a cursor that will be used to execute queries."
      ]
    },
    {
      "cell_type": "code",
      "metadata": {
        "id": "2I7Xat-3O-6s",
        "colab_type": "code",
        "colab": {}
      },
      "source": [
        "cur = conn.cursor()"
      ],
      "execution_count": 0,
      "outputs": []
    },
    {
      "cell_type": "markdown",
      "metadata": {
        "id": "Gv0sUNgWO-6y",
        "colab_type": "text"
      },
      "source": [
        "### Create a database to work in"
      ]
    },
    {
      "cell_type": "code",
      "metadata": {
        "id": "eqfWX4SxO-6z",
        "colab_type": "code",
        "colab": {
          "base_uri": "https://localhost:8080/",
          "height": 200
        },
        "outputId": "bf77d3bf-4b5b-4baa-ebce-07336080c5f7"
      },
      "source": [
        "cur.execute(\"select * from test\")"
      ],
      "execution_count": 20,
      "outputs": [
        {
          "output_type": "error",
          "ename": "ProgrammingError",
          "evalue": "ignored",
          "traceback": [
            "\u001b[0;31m---------------------------------------------------------------------------\u001b[0m",
            "\u001b[0;31mProgrammingError\u001b[0m                          Traceback (most recent call last)",
            "\u001b[0;32m<ipython-input-20-340feff7a89b>\u001b[0m in \u001b[0;36m<module>\u001b[0;34m()\u001b[0m\n\u001b[0;32m----> 1\u001b[0;31m \u001b[0mcur\u001b[0m\u001b[0;34m.\u001b[0m\u001b[0mexecute\u001b[0m\u001b[0;34m(\u001b[0m\u001b[0;34m\"select * from test\"\u001b[0m\u001b[0;34m)\u001b[0m\u001b[0;34m\u001b[0m\u001b[0;34m\u001b[0m\u001b[0m\n\u001b[0m",
            "\u001b[0;31mProgrammingError\u001b[0m: relation \"test\" does not exist\nLINE 1: select * from test\n                      ^\n"
          ]
        }
      ]
    },
    {
      "cell_type": "markdown",
      "metadata": {
        "id": "26IzBsGwO-64",
        "colab_type": "text"
      },
      "source": [
        "### Error occurs, but it was to be expected because table has not been created as yet. To fix the error, create the table. "
      ]
    },
    {
      "cell_type": "code",
      "metadata": {
        "id": "q70ifhU_O-65",
        "colab_type": "code",
        "colab": {}
      },
      "source": [
        "cur.execute(\"CREATE TABLE test (col1 int, col2 int, col3 int);\")"
      ],
      "execution_count": 0,
      "outputs": []
    },
    {
      "cell_type": "markdown",
      "metadata": {
        "id": "nnGL4x_AO-6-",
        "colab_type": "text"
      },
      "source": [
        "### Error indicates we cannot execute this query. Since we have not committed the transaction and had an error in the transaction block, we are blocked until we restart the connection."
      ]
    },
    {
      "cell_type": "code",
      "metadata": {
        "id": "Ha7JHJgFO-6_",
        "colab_type": "code",
        "colab": {}
      },
      "source": [
        "conn = psycopg2.connect(\"host=127.0.0.1 dbname=studentdb user=student password=student\")\n",
        "cur = conn.cursor()"
      ],
      "execution_count": 0,
      "outputs": []
    },
    {
      "cell_type": "markdown",
      "metadata": {
        "id": "iubiZNs4O-7F",
        "colab_type": "text"
      },
      "source": [
        "In our exercises instead of worrying about commiting each transaction or getting a strange error when we hit something unexpected, let's set autocommit to true. **This says after each call during the session commit that one action and do not hold open the transaction for any other actions. One action = one transaction.**"
      ]
    },
    {
      "cell_type": "markdown",
      "metadata": {
        "id": "ZeUcM4QDO-7G",
        "colab_type": "text"
      },
      "source": [
        "In this demo we will use automatic commit so each action is commited without having to call `conn.commit()` after each command. **The ability to rollback and commit transactions are a feature of Relational Databases.**"
      ]
    },
    {
      "cell_type": "code",
      "metadata": {
        "id": "70jqEEdPO-7G",
        "colab_type": "code",
        "colab": {}
      },
      "source": [
        "conn.set_session(autocommit=True)"
      ],
      "execution_count": 0,
      "outputs": []
    },
    {
      "cell_type": "code",
      "metadata": {
        "id": "ZjV690NrO-7L",
        "colab_type": "code",
        "colab": {}
      },
      "source": [
        "cur.execute(\"select * from test\")"
      ],
      "execution_count": 0,
      "outputs": []
    },
    {
      "cell_type": "code",
      "metadata": {
        "id": "rGb1zwObO-7P",
        "colab_type": "code",
        "colab": {}
      },
      "source": [
        "cur.execute(\"CREATE TABLE test (col1 int, col2 int, col3 int);\")"
      ],
      "execution_count": 0,
      "outputs": []
    },
    {
      "cell_type": "markdown",
      "metadata": {
        "id": "WzIlmutbO-7U",
        "colab_type": "text"
      },
      "source": [
        "### Once autocommit is set to true, we execute this code successfully. There were no issues with transaction blocks and we did not need to restart our connection. "
      ]
    },
    {
      "cell_type": "code",
      "metadata": {
        "id": "_7EoLidjO-7V",
        "colab_type": "code",
        "colab": {}
      },
      "source": [
        "cur.execute(\"select * from test\")"
      ],
      "execution_count": 0,
      "outputs": []
    },
    {
      "cell_type": "code",
      "metadata": {
        "id": "kRqtMP02O-7a",
        "colab_type": "code",
        "colab": {}
      },
      "source": [
        "cur.execute(\"select count(*) from test\")\n",
        "print(cur.fetchall())"
      ],
      "execution_count": 0,
      "outputs": []
    },
    {
      "cell_type": "code",
      "metadata": {
        "id": "GaLYbZEiO-7e",
        "colab_type": "code",
        "colab": {}
      },
      "source": [
        ""
      ],
      "execution_count": 0,
      "outputs": []
    }
  ]
}