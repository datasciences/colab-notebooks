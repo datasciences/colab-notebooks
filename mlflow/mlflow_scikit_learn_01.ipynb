{
  "nbformat": 4,
  "nbformat_minor": 0,
  "metadata": {
    "colab": {
      "name": "mlflow-scikit-learn-01.ipynb",
      "provenance": [],
      "collapsed_sections": [],
      "authorship_tag": "ABX9TyPinmpzfccmtdq0yrHDYYo0",
      "include_colab_link": true
    },
    "kernelspec": {
      "name": "python3",
      "display_name": "Python 3"
    }
  },
  "cells": [
    {
      "cell_type": "markdown",
      "metadata": {
        "id": "view-in-github",
        "colab_type": "text"
      },
      "source": [
        "<a href=\"https://colab.research.google.com/github/martin-fabbri/colab-notebooks/blob/master/mlflow/mlflow_scikit_learn_01.ipynb\" target=\"_parent\"><img src=\"https://colab.research.google.com/assets/colab-badge.svg\" alt=\"Open In Colab\"/></a>"
      ]
    },
    {
      "cell_type": "markdown",
      "metadata": {
        "id": "QUuQZDo6sl0d",
        "colab_type": "text"
      },
      "source": [
        "# Quickstart MLflow scikit-learn"
      ]
    },
    {
      "cell_type": "markdown",
      "metadata": {
        "id": "94RQd1ZBtIMQ",
        "colab_type": "text"
      },
      "source": [
        "Our goal is to deploy an end-to-end pipeline helping us to:\n",
        "\n",
        "* Train a linear regression model\n",
        "* Package the code that trains the model in a reusable and reproducible model format\n",
        "* Deploy an inference endpoint"
      ]
    },
    {
      "cell_type": "code",
      "metadata": {
        "id": "qVwGH8nqseFd",
        "colab_type": "code",
        "colab": {
          "base_uri": "https://localhost:8080/",
          "height": 313
        },
        "outputId": "715a40a6-32dc-4205-a6e8-419e5e30aebc"
      },
      "source": [
        "!pip install mlflow -q"
      ],
      "execution_count": 1,
      "outputs": [
        {
          "output_type": "stream",
          "text": [
            "\u001b[K     |████████████████████████████████| 16.0MB 14.7MB/s \n",
            "\u001b[K     |████████████████████████████████| 1.1MB 30.8MB/s \n",
            "\u001b[K     |████████████████████████████████| 6.0MB 49.3MB/s \n",
            "\u001b[K     |████████████████████████████████| 81kB 9.9MB/s \n",
            "\u001b[K     |████████████████████████████████| 153kB 50.4MB/s \n",
            "\u001b[K     |████████████████████████████████| 92kB 12.4MB/s \n",
            "\u001b[K     |████████████████████████████████| 460kB 50.9MB/s \n",
            "\u001b[K     |████████████████████████████████| 51kB 8.4MB/s \n",
            "\u001b[K     |████████████████████████████████| 81kB 11.2MB/s \n",
            "\u001b[K     |████████████████████████████████| 204kB 54.8MB/s \n",
            "\u001b[K     |████████████████████████████████| 71kB 10.7MB/s \n",
            "\u001b[?25h  Building wheel for alembic (setup.py) ... \u001b[?25l\u001b[?25hdone\n",
            "  Building wheel for sqlalchemy (setup.py) ... \u001b[?25l\u001b[?25hdone\n",
            "  Building wheel for prometheus-flask-exporter (setup.py) ... \u001b[?25l\u001b[?25hdone\n",
            "  Building wheel for simplejson (setup.py) ... \u001b[?25l\u001b[?25hdone\n",
            "  Building wheel for querystring-parser (setup.py) ... \u001b[?25l\u001b[?25hdone\n",
            "  Building wheel for databricks-cli (setup.py) ... \u001b[?25l\u001b[?25hdone\n"
          ],
          "name": "stdout"
        }
      ]
    },
    {
      "cell_type": "markdown",
      "metadata": {
        "id": "NxOCGm5ewB8k",
        "colab_type": "text"
      },
      "source": [
        "## Dataset\n",
        "\n",
        "Predict wine's quality based on quantitative features like acidity, pH, residual sugar, etc."
      ]
    },
    {
      "cell_type": "code",
      "metadata": {
        "id": "XlaxFI87ss8-",
        "colab_type": "code",
        "colab": {}
      },
      "source": [
        "CSV_URL = 'https://raw.githubusercontent.com/martin-fabbri/colab-notebooks/master/data/winequality_white.csv'"
      ],
      "execution_count": 0,
      "outputs": []
    },
    {
      "cell_type": "markdown",
      "metadata": {
        "id": "L8v3TkHKxGaz",
        "colab_type": "text"
      },
      "source": [
        "## Import dependencies"
      ]
    },
    {
      "cell_type": "code",
      "metadata": {
        "id": "nx-_dfKTss6Y",
        "colab_type": "code",
        "colab": {
          "base_uri": "https://localhost:8080/",
          "height": 69
        },
        "outputId": "920464c2-a37f-4484-f0fc-8c3a629443df"
      },
      "source": [
        "import os\n",
        "import warnings\n",
        "import sys\n",
        "import pandas as pd\n",
        "import numpy as np\n",
        "\n",
        "import mlflow\n",
        "import mlflow.sklearn\n",
        "\n",
        "import sklearn\n",
        "from sklearn.metrics import mean_squared_error\n",
        "from sklearn.metrics import mean_absolute_error\n",
        "from sklearn.metrics import r2_score\n",
        "from sklearn.model_selection import train_test_split\n",
        "from sklearn.linear_model import ElasticNet\n",
        "\n",
        "import logging\n",
        "logging.basicConfig(level=logging.WARN)\n",
        "warnings.filterwarnings('ignore')\n",
        "SEED = 40\n",
        "rs = np.random.seed(SEED)\n",
        "\n",
        "print('mlflow:', mlflow.__version__)\n",
        "print('sklearn:', sklearn.__version__)\n",
        "print('random seed:', SEED)"
      ],
      "execution_count": 26,
      "outputs": [
        {
          "output_type": "stream",
          "text": [
            "mlflow: 1.7.2\n",
            "sklearn: 0.22.2.post1\n",
            "random seed: 40\n"
          ],
          "name": "stdout"
        }
      ]
    },
    {
      "cell_type": "markdown",
      "metadata": {
        "id": "cHMsOJQe0DRY",
        "colab_type": "text"
      },
      "source": [
        "x\n"
      ]
    },
    {
      "cell_type": "code",
      "metadata": {
        "id": "7ckE-cgP0C-D",
        "colab_type": "code",
        "colab": {}
      },
      "source": [
        "def eval_metrics(actual, pred):\n",
        "  rmse = np.sqrt(mean_squared_error(actual, pred))\n",
        "  mae = mean_absolute_error(actual, pred)\n",
        "  r2 = r2_score(actual, pred)\n",
        "  return rmse, mae, r2"
      ],
      "execution_count": 0,
      "outputs": []
    },
    {
      "cell_type": "markdown",
      "metadata": {
        "id": "Bu7_GaiK8HdK",
        "colab_type": "text"
      },
      "source": [
        "Read the wine-quality csv file fromt the URL"
      ]
    },
    {
      "cell_type": "code",
      "metadata": {
        "id": "z9B63eg2ss3U",
        "colab_type": "code",
        "colab": {
          "base_uri": "https://localhost:8080/",
          "height": 161
        },
        "outputId": "6356c779-2b14-4811-f679-f2b0c50c7811"
      },
      "source": [
        "wine = pd.read_csv(CSV_URL)\n",
        "wine.head(3)"
      ],
      "execution_count": 17,
      "outputs": [
        {
          "output_type": "execute_result",
          "data": {
            "text/html": [
              "<div>\n",
              "<style scoped>\n",
              "    .dataframe tbody tr th:only-of-type {\n",
              "        vertical-align: middle;\n",
              "    }\n",
              "\n",
              "    .dataframe tbody tr th {\n",
              "        vertical-align: top;\n",
              "    }\n",
              "\n",
              "    .dataframe thead th {\n",
              "        text-align: right;\n",
              "    }\n",
              "</style>\n",
              "<table border=\"1\" class=\"dataframe\">\n",
              "  <thead>\n",
              "    <tr style=\"text-align: right;\">\n",
              "      <th></th>\n",
              "      <th>fixed_acidity</th>\n",
              "      <th>volatile_acidity</th>\n",
              "      <th>citric_acid</th>\n",
              "      <th>residual_sugar</th>\n",
              "      <th>chlorides</th>\n",
              "      <th>free_sulfur_dioxide</th>\n",
              "      <th>total_sulfur_dioxide</th>\n",
              "      <th>density</th>\n",
              "      <th>ph</th>\n",
              "      <th>sulphates</th>\n",
              "      <th>alcohol</th>\n",
              "      <th>quality</th>\n",
              "    </tr>\n",
              "  </thead>\n",
              "  <tbody>\n",
              "    <tr>\n",
              "      <th>0</th>\n",
              "      <td>7.0</td>\n",
              "      <td>0.27</td>\n",
              "      <td>0.36</td>\n",
              "      <td>20.7</td>\n",
              "      <td>0.045</td>\n",
              "      <td>45.0</td>\n",
              "      <td>170.0</td>\n",
              "      <td>1.0010</td>\n",
              "      <td>3.00</td>\n",
              "      <td>0.45</td>\n",
              "      <td>8.8</td>\n",
              "      <td>6</td>\n",
              "    </tr>\n",
              "    <tr>\n",
              "      <th>1</th>\n",
              "      <td>6.3</td>\n",
              "      <td>0.30</td>\n",
              "      <td>0.34</td>\n",
              "      <td>1.6</td>\n",
              "      <td>0.049</td>\n",
              "      <td>14.0</td>\n",
              "      <td>132.0</td>\n",
              "      <td>0.9940</td>\n",
              "      <td>3.30</td>\n",
              "      <td>0.49</td>\n",
              "      <td>9.5</td>\n",
              "      <td>6</td>\n",
              "    </tr>\n",
              "    <tr>\n",
              "      <th>2</th>\n",
              "      <td>8.1</td>\n",
              "      <td>0.28</td>\n",
              "      <td>0.40</td>\n",
              "      <td>6.9</td>\n",
              "      <td>0.050</td>\n",
              "      <td>30.0</td>\n",
              "      <td>97.0</td>\n",
              "      <td>0.9951</td>\n",
              "      <td>3.26</td>\n",
              "      <td>0.44</td>\n",
              "      <td>10.1</td>\n",
              "      <td>6</td>\n",
              "    </tr>\n",
              "  </tbody>\n",
              "</table>\n",
              "</div>"
            ],
            "text/plain": [
              "   fixed_acidity  volatile_acidity  citric_acid  ...  sulphates  alcohol  quality\n",
              "0            7.0              0.27         0.36  ...       0.45      8.8        6\n",
              "1            6.3              0.30         0.34  ...       0.49      9.5        6\n",
              "2            8.1              0.28         0.40  ...       0.44     10.1        6\n",
              "\n",
              "[3 rows x 12 columns]"
            ]
          },
          "metadata": {
            "tags": []
          },
          "execution_count": 17
        }
      ]
    },
    {
      "cell_type": "markdown",
      "metadata": {
        "id": "qYKDVTmN7976",
        "colab_type": "text"
      },
      "source": [
        "Split the data into training and test sets"
      ]
    },
    {
      "cell_type": "code",
      "metadata": {
        "id": "b8_Qsw7lss0J",
        "colab_type": "code",
        "colab": {
          "base_uri": "https://localhost:8080/",
          "height": 87
        },
        "outputId": "86fcf7ba-4a62-41e6-a408-a6d9c71088f2"
      },
      "source": [
        "train, test = train_test_split(wine)\n",
        "\n",
        "train_x = train.drop('quality', axis=1)\n",
        "test_x = test.drop('quality', axis=1)\n",
        "train_y = train['quality']\n",
        "test_y = test['quality']\n",
        "\n",
        "print('train X shape:', train_x.shape)\n",
        "print('train Y shape:', train_y.shape)\n",
        "print('test X shape:', test_x.shape)\n",
        "print('test Y shape:', test_y.shape)"
      ],
      "execution_count": 24,
      "outputs": [
        {
          "output_type": "stream",
          "text": [
            "train X shape: (3673, 11)\n",
            "train Y shape: (3673,)\n",
            "test X shape: (1225, 11)\n",
            "test Y shape: (1225,)\n"
          ],
          "name": "stdout"
        }
      ]
    },
    {
      "cell_type": "markdown",
      "metadata": {
        "id": "XNe9lr-U_C3n",
        "colab_type": "text"
      },
      "source": [
        "## Hyperparameters\n",
        "\n",
        "* Alpha\n",
        "* l1 ratio"
      ]
    },
    {
      "cell_type": "code",
      "metadata": {
        "id": "YgVAYu7s9bcs",
        "colab_type": "code",
        "colab": {}
      },
      "source": [
        "ALPHA = 0.5\n",
        "L1_RATIO = 0.5"
      ],
      "execution_count": 0,
      "outputs": []
    },
    {
      "cell_type": "markdown",
      "metadata": {
        "id": "_jtVrhDIASBU",
        "colab_type": "text"
      },
      "source": [
        "## Mlflow training"
      ]
    },
    {
      "cell_type": "code",
      "metadata": {
        "id": "TnsPc49v_bMc",
        "colab_type": "code",
        "colab": {}
      },
      "source": [
        "def mlflow_train(alpha, l1_ratio):\n",
        "  with mlflow.start_run():\n",
        "    lr = ElasticNet(alpha=alpha, l1_ratio=l1_ratio, random_state=rs)\n",
        "    lr.fit(train_x, train_y)\n",
        "\n",
        "    predicted_qualities = lr.predict(test_x)\n",
        "\n",
        "    rmse, mae, r2 = eval_metrics(test_y, predicted_qualities)\n",
        "    print(f'Elasticnet model (alpha={ALPHA:.2}, l1_ratio={L1_RATIO:.2}):')\n",
        "    print(f' - RMSE: {rmse:.5f}')\n",
        "    print(f' - MAE:  {mae:.5f}')\n",
        "    print(f' - R2:   {r2:.5f}')\n",
        "\n",
        "    mlflow.log_param('alpha', alpha)\n",
        "    mlflow.log_param('l1_ratio', l1_ratio)\n",
        "    mlflow.log_metric('rmse', rmse)\n",
        "    mlflow.log_metric('r2', r2)\n",
        "    mlflow.log_metric('mae', mae)\n",
        "\n",
        "    mlflow.sklearn.log_model(lr, 'model')"
      ],
      "execution_count": 0,
      "outputs": []
    },
    {
      "cell_type": "code",
      "metadata": {
        "id": "uCJQ_xqR_bJd",
        "colab_type": "code",
        "colab": {
          "base_uri": "https://localhost:8080/",
          "height": 87
        },
        "outputId": "69567dfe-dd51-4c07-d548-10f2ad47cf9e"
      },
      "source": [
        "mlflow_train(0.5, 0.5)"
      ],
      "execution_count": 44,
      "outputs": [
        {
          "output_type": "stream",
          "text": [
            "Elasticnet model (alpha=0.5, l1_ratio=0.5):\n",
            " - RMSE: 0.82290\n",
            " - MAE:  0.62878\n",
            " - R2:   0.13003\n"
          ],
          "name": "stdout"
        }
      ]
    },
    {
      "cell_type": "code",
      "metadata": {
        "id": "SjMfmidQ_bGO",
        "colab_type": "code",
        "colab": {}
      },
      "source": [
        ""
      ],
      "execution_count": 0,
      "outputs": []
    },
    {
      "cell_type": "code",
      "metadata": {
        "id": "X0v-kudH_bC_",
        "colab_type": "code",
        "colab": {}
      },
      "source": [
        ""
      ],
      "execution_count": 0,
      "outputs": []
    },
    {
      "cell_type": "code",
      "metadata": {
        "id": "SiU3weeO9bX8",
        "colab_type": "code",
        "colab": {}
      },
      "source": [
        ""
      ],
      "execution_count": 0,
      "outputs": []
    },
    {
      "cell_type": "code",
      "metadata": {
        "id": "QsDCfITr9bUV",
        "colab_type": "code",
        "colab": {}
      },
      "source": [
        ""
      ],
      "execution_count": 0,
      "outputs": []
    },
    {
      "cell_type": "code",
      "metadata": {
        "id": "YB5Zbtb59bRA",
        "colab_type": "code",
        "colab": {}
      },
      "source": [
        ""
      ],
      "execution_count": 0,
      "outputs": []
    },
    {
      "cell_type": "code",
      "metadata": {
        "id": "AlIXBN3V9bNi",
        "colab_type": "code",
        "colab": {}
      },
      "source": [
        ""
      ],
      "execution_count": 0,
      "outputs": []
    },
    {
      "cell_type": "code",
      "metadata": {
        "id": "YQz0aMz49bKS",
        "colab_type": "code",
        "colab": {}
      },
      "source": [
        ""
      ],
      "execution_count": 0,
      "outputs": []
    },
    {
      "cell_type": "code",
      "metadata": {
        "id": "S46Qiu0Zssw2",
        "colab_type": "code",
        "colab": {}
      },
      "source": [
        ""
      ],
      "execution_count": 0,
      "outputs": []
    },
    {
      "cell_type": "code",
      "metadata": {
        "id": "KMtICwwMsstN",
        "colab_type": "code",
        "colab": {}
      },
      "source": [
        ""
      ],
      "execution_count": 0,
      "outputs": []
    },
    {
      "cell_type": "code",
      "metadata": {
        "id": "K6VkJJ8Nssp3",
        "colab_type": "code",
        "colab": {}
      },
      "source": [
        ""
      ],
      "execution_count": 0,
      "outputs": []
    },
    {
      "cell_type": "code",
      "metadata": {
        "id": "LY2bcQBcssmq",
        "colab_type": "code",
        "colab": {}
      },
      "source": [
        ""
      ],
      "execution_count": 0,
      "outputs": []
    }
  ]
}