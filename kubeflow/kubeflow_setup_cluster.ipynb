{
  "nbformat": 4,
  "nbformat_minor": 0,
  "metadata": {
    "colab": {
      "name": "kubeflow-setup-cluster.ipynb",
      "provenance": [],
      "collapsed_sections": [],
      "toc_visible": true,
      "authorship_tag": "ABX9TyOs6lIUOi5HAGgws202lKdJ",
      "include_colab_link": true
    },
    "kernelspec": {
      "name": "python3",
      "display_name": "Python 3"
    }
  },
  "cells": [
    {
      "cell_type": "markdown",
      "metadata": {
        "id": "view-in-github",
        "colab_type": "text"
      },
      "source": [
        "<a href=\"https://colab.research.google.com/github/martin-fabbri/colab-notebooks/blob/master/kubeflow/kubeflow_setup_cluster.ipynb\" target=\"_parent\"><img src=\"https://colab.research.google.com/assets/colab-badge.svg\" alt=\"Open In Colab\"/></a>"
      ]
    },
    {
      "cell_type": "markdown",
      "metadata": {
        "id": "tlZ1Mgvr8fAr",
        "colab_type": "text"
      },
      "source": [
        "## Reading Google Cloud credentials from drive"
      ]
    },
    {
      "cell_type": "code",
      "metadata": {
        "id": "YHusXj2mu1CL",
        "colab_type": "code",
        "colab": {
          "base_uri": "https://localhost:8080/",
          "height": 169
        },
        "outputId": "1ffb75c1-6326-4187-d85e-b287f1c34f12"
      },
      "source": [
        "import configparser\n",
        "import os\n",
        "from google.colab import drive\n",
        "\n",
        "drive.mount('/content/drive')\n",
        "\n",
        "GCP_INI = '/content/drive/My Drive/gcp/gcp.ini'\n",
        "config = configparser.ConfigParser()\n",
        "config.read(GCP_INI)\n",
        "print('Setting environment variables:')\n",
        "for key in config['credentials']:\n",
        "  print(f'- {key.upper()}')\n",
        "  os.environ[key.upper()] = config['credentials'][key]"
      ],
      "execution_count": 1,
      "outputs": [
        {
          "output_type": "stream",
          "text": [
            "Go to this URL in a browser: https://accounts.google.com/o/oauth2/auth?client_id=947318989803-6bn6qk8qdgf4n4g3pfee6491hc0brc4i.apps.googleusercontent.com&redirect_uri=urn%3aietf%3awg%3aoauth%3a2.0%3aoob&response_type=code&scope=email%20https%3a%2f%2fwww.googleapis.com%2fauth%2fdocs.test%20https%3a%2f%2fwww.googleapis.com%2fauth%2fdrive%20https%3a%2f%2fwww.googleapis.com%2fauth%2fdrive.photos.readonly%20https%3a%2f%2fwww.googleapis.com%2fauth%2fpeopleapi.readonly\n",
            "\n",
            "Enter your authorization code:\n",
            "··········\n",
            "Mounted at /content/drive\n",
            "Setting environment variables:\n",
            "- CLIENT_ID\n",
            "- CLIENT_SECRET\n"
          ],
          "name": "stdout"
        }
      ]
    },
    {
      "cell_type": "code",
      "metadata": {
        "id": "L37Zw8Cy2Z_U",
        "colab_type": "code",
        "colab": {
          "base_uri": "https://localhost:8080/",
          "height": 53
        },
        "cellView": "form",
        "outputId": "278cb486-f6ec-4cff-aa66-c52d0ecfe9ed"
      },
      "source": [
        "#@title ## Setup Kubectl\n",
        "#@markdown Downloads the lastest `kubectl` utility.\n",
        "%%shell\n",
        "curl -LO -s https://storage.googleapis.com/kubernetes-release/release/`curl -s https://storage.googleapis.com/kubernetes-release/release/stable.txt`/bin/linux/amd64/kubectl\n",
        "chmod +x ./kubectl\n",
        "sudo mv ./kubectl /usr/local/bin/kubectl\n",
        "kubectl version --client"
      ],
      "execution_count": 2,
      "outputs": [
        {
          "output_type": "stream",
          "text": [
            "Client Version: version.Info{Major:\"1\", Minor:\"18\", GitVersion:\"v1.18.1\", GitCommit:\"7879fc12a63337efff607952a323df90cdc7a335\", GitTreeState:\"clean\", BuildDate:\"2020-04-08T17:38:50Z\", GoVersion:\"go1.13.9\", Compiler:\"gc\", Platform:\"linux/amd64\"}\n"
          ],
          "name": "stdout"
        },
        {
          "output_type": "execute_result",
          "data": {
            "text/plain": [
              ""
            ]
          },
          "metadata": {
            "tags": []
          },
          "execution_count": 2
        }
      ]
    },
    {
      "cell_type": "code",
      "metadata": {
        "id": "nfigKYoCP_8x",
        "colab_type": "code",
        "outputId": "bc1fe9f9-5304-436e-ca2b-cf7987a563a5",
        "colab": {
          "base_uri": "https://localhost:8080/",
          "height": 331
        },
        "cellView": "form"
      },
      "source": [
        "#@title ## Setup Goggle Cloud SDK\n",
        "#@markdown Downloads the lastest `gcloud` command interface.\n",
        "%%shell\n",
        "\n",
        "# Add the Cloud SDK distribution URI as a package source\n",
        "echo \"deb [signed-by=/usr/share/keyrings/cloud.google.gpg] http://packages.cloud.google.com/apt cloud-sdk main\" | sudo tee -a /etc/apt/sources.list.d/google-cloud-sdk.list\n",
        "\n",
        "# Import the Google Cloud Platform public key\n",
        "curl -s https://packages.cloud.google.com/apt/doc/apt-key.gpg | sudo apt-key --keyring /usr/share/keyrings/cloud.google.gpg add -\n",
        "\n",
        "# Update the package list and install the Cloud SDK\n",
        "sudo apt-get update -y -qq && sudo apt-get install google-cloud-sdk -qq -y"
      ],
      "execution_count": 3,
      "outputs": [
        {
          "output_type": "stream",
          "text": [
            "deb [signed-by=/usr/share/keyrings/cloud.google.gpg] http://packages.cloud.google.com/apt cloud-sdk main\n",
            "OK\n",
            "debconf: unable to initialize frontend: Dialog\n",
            "debconf: (No usable dialog-like program is installed, so the dialog based frontend cannot be used. at /usr/share/perl5/Debconf/FrontEnd/Dialog.pm line 76, <> line 2.)\n",
            "debconf: falling back to frontend: Readline\n",
            "debconf: unable to initialize frontend: Readline\n",
            "debconf: (This frontend requires a controlling tty.)\n",
            "debconf: falling back to frontend: Teletype\n",
            "dpkg-preconfigure: unable to re-open stdin: \n",
            "Selecting previously unselected package python-crcmod.\n",
            "(Reading database ... 144568 files and directories currently installed.)\n",
            "Preparing to unpack .../python-crcmod_1.7-2build4_amd64.deb ...\n",
            "Unpacking python-crcmod (1.7-2build4) ...\n",
            "Selecting previously unselected package google-cloud-sdk.\n",
            "Preparing to unpack .../google-cloud-sdk_288.0.0-0_all.deb ...\n",
            "Unpacking google-cloud-sdk (288.0.0-0) ...\n",
            "Setting up python-crcmod (1.7-2build4) ...\n",
            "Setting up google-cloud-sdk (288.0.0-0) ...\n",
            "Processing triggers for man-db (2.8.3-2ubuntu0.1) ...\n"
          ],
          "name": "stdout"
        },
        {
          "output_type": "execute_result",
          "data": {
            "text/plain": [
              ""
            ]
          },
          "metadata": {
            "tags": []
          },
          "execution_count": 3
        }
      ]
    },
    {
      "cell_type": "markdown",
      "metadata": {
        "id": "f2zDqjG44xrF",
        "colab_type": "text"
      },
      "source": [
        "## Configure Google Cloud project"
      ]
    },
    {
      "cell_type": "code",
      "metadata": {
        "id": "SByfFvcAqsAE",
        "colab_type": "code",
        "outputId": "3ef33e1e-3c98-49a6-b8c9-224d4d402771",
        "colab": {
          "base_uri": "https://localhost:8080/",
          "height": 50
        }
      },
      "source": [
        "%env PROJECT=data-centaur-273800\n",
        "%env ZONE=us-west1-b"
      ],
      "execution_count": 4,
      "outputs": [
        {
          "output_type": "stream",
          "text": [
            "env: PROJECT=data-centaur-273800\n",
            "env: ZONE=us-west1-b\n"
          ],
          "name": "stdout"
        }
      ]
    },
    {
      "cell_type": "code",
      "metadata": {
        "id": "Om6ODO0cRUUg",
        "colab_type": "code",
        "outputId": "3751f2dd-2e54-451f-ab95-233e42b57b64",
        "colab": {
          "base_uri": "https://localhost:8080/",
          "height": 1000
        }
      },
      "source": [
        "!gcloud init --console-only"
      ],
      "execution_count": 5,
      "outputs": [
        {
          "output_type": "stream",
          "text": [
            "Welcome! This command will take you through the configuration of gcloud.\n",
            "\n",
            "Settings from your current configuration [default] are:\n",
            "component_manager:\n",
            "  disable_update_check: 'true'\n",
            "compute:\n",
            "  gce_metadata_read_timeout_sec: '0'\n",
            "core:\n",
            "  disable_usage_reporting: 'True'\n",
            "\n",
            "Pick configuration to use:\n",
            " [1] Re-initialize this configuration [default] with new settings \n",
            " [2] Create a new configuration\n",
            "Please enter your numeric choice:  2\n",
            "\n",
            "Enter configuration name. Names start with a lower case letter and \n",
            "contain only lower case letters a-z, digits 0-9, and hyphens '-':  kflow01\n",
            "Your current configuration has been set to: [kflow01]\n",
            "\n",
            "You can skip diagnostics next time by using the following flag:\n",
            "  gcloud init --skip-diagnostics\n",
            "\n",
            "Network diagnostic detects and fixes local network connection issues.\n",
            "Reachability Check passed.\n",
            "Network diagnostic passed (1/1 checks passed).\n",
            "\n",
            "You must log in to continue. Would you like to log in (Y/n)?  Y\n",
            "\n",
            "Go to the following link in your browser:\n",
            "\n",
            "    https://accounts.google.com/o/oauth2/auth?code_challenge=7eTn-8nOkZwyGjwW6etBKXXfTAFJXWtWte3kUPJe7p4&prompt=select_account&code_challenge_method=S256&access_type=offline&redirect_uri=urn%3Aietf%3Awg%3Aoauth%3A2.0%3Aoob&response_type=code&client_id=32555940559.apps.googleusercontent.com&scope=openid+https%3A%2F%2Fwww.googleapis.com%2Fauth%2Fuserinfo.email+https%3A%2F%2Fwww.googleapis.com%2Fauth%2Fcloud-platform+https%3A%2F%2Fwww.googleapis.com%2Fauth%2Fappengine.admin+https%3A%2F%2Fwww.googleapis.com%2Fauth%2Fcompute+https%3A%2F%2Fwww.googleapis.com%2Fauth%2Faccounts.reauth\n",
            "\n",
            "\n",
            "Enter verification code: 4/ygHmt76lzXnFq08SFa7eyvGINvJ1mHcohipDJYy7mPSXtJala63h-io\n",
            "You are logged in as: [vozlabs.ai@gmail.com].\n",
            "\n",
            "Pick cloud project to use: \n",
            " [1] data-centaur-273800\n",
            " [2] Create a new project\n",
            "Please enter numeric choice or text value (must exactly match list \n",
            "item):  1\n",
            "\n",
            "Your current project has been set to: [data-centaur-273800].\n",
            "\n",
            "Do you want to configure a default Compute Region and Zone? (Y/n)?  Y\n",
            "\n",
            "Which Google Compute Engine zone would you like to use as project \n",
            "default?\n",
            "If you do not specify a zone via a command line flag while working \n",
            "with Compute Engine resources, the default is assumed.\n",
            " [1] us-east1-b\n",
            " [2] us-east1-c\n",
            " [3] us-east1-d\n",
            " [4] us-east4-c\n",
            " [5] us-east4-b\n",
            " [6] us-east4-a\n",
            " [7] us-central1-c\n",
            " [8] us-central1-a\n",
            " [9] us-central1-f\n",
            " [10] us-central1-b\n",
            " [11] us-west1-b\n",
            " [12] us-west1-c\n",
            " [13] us-west1-a\n",
            " [14] europe-west4-a\n",
            " [15] europe-west4-b\n",
            " [16] europe-west4-c\n",
            " [17] europe-west1-b\n",
            " [18] europe-west1-d\n",
            " [19] europe-west1-c\n",
            " [20] europe-west3-c\n",
            " [21] europe-west3-a\n",
            " [22] europe-west3-b\n",
            " [23] europe-west2-c\n",
            " [24] europe-west2-b\n",
            " [25] europe-west2-a\n",
            " [26] asia-east1-b\n",
            " [27] asia-east1-a\n",
            " [28] asia-east1-c\n",
            " [29] asia-southeast1-b\n",
            " [30] asia-southeast1-a\n",
            " [31] asia-southeast1-c\n",
            " [32] asia-northeast1-b\n",
            " [33] asia-northeast1-c\n",
            " [34] asia-northeast1-a\n",
            " [35] asia-south1-c\n",
            " [36] asia-south1-b\n",
            " [37] asia-south1-a\n",
            " [38] australia-southeast1-b\n",
            " [39] australia-southeast1-c\n",
            " [40] australia-southeast1-a\n",
            " [41] southamerica-east1-b\n",
            " [42] southamerica-east1-c\n",
            " [43] southamerica-east1-a\n",
            " [44] asia-east2-a\n",
            " [45] asia-east2-b\n",
            " [46] asia-east2-c\n",
            " [47] asia-northeast2-a\n",
            " [48] asia-northeast2-b\n",
            " [49] asia-northeast2-c\n",
            " [50] asia-northeast3-a\n",
            "Did not print [18] options.\n",
            "Too many options [68]. Enter \"list\" at prompt to print choices fully.\n",
            "Please enter numeric choice or text value (must exactly match list \n",
            "item):  11\n",
            "\n",
            "Your project default Compute Engine zone has been set to [us-west1-b].\n",
            "You can change it by running [gcloud config set compute/zone NAME].\n",
            "\n",
            "Your project default Compute Engine region has been set to [us-west1].\n",
            "You can change it by running [gcloud config set compute/region NAME].\n",
            "\n",
            "Created a default .boto configuration file at [/root/.boto]. See this file and\n",
            "[https://cloud.google.com/storage/docs/gsutil/commands/config] for more\n",
            "information about configuring Google Cloud Storage.\n",
            "Your Google Cloud SDK is configured and ready to use!\n",
            "\n",
            "* Commands that require authentication will use vozlabs.ai@gmail.com by default\n",
            "* Commands will reference project `data-centaur-273800` by default\n",
            "* Compute Engine commands will use region `us-west1` by default\n",
            "* Compute Engine commands will use zone `us-west1-b` by default\n",
            "\n",
            "Run `gcloud help config` to learn how to change individual settings\n",
            "\n",
            "This gcloud configuration is called [kflow01]. You can create additional configurations if you work with multiple accounts and/or projects.\n",
            "Run `gcloud topic configurations` to learn more.\n",
            "\n",
            "Some things to try next:\n",
            "\n",
            "* Run `gcloud --help` to see the Cloud Platform services you can interact with. And run `gcloud help COMMAND` to get help on any gcloud command.\n",
            "* Run `gcloud topic --help` to learn about advanced features of the SDK like arg files and output formatting\n"
          ],
          "name": "stdout"
        }
      ]
    },
    {
      "cell_type": "code",
      "metadata": {
        "id": "-UREh7pq5w-A",
        "colab_type": "code",
        "colab": {
          "base_uri": "https://localhost:8080/",
          "height": 50
        },
        "outputId": "c1bee9f1-ede5-4484-c8dc-e8efe0f8e363"
      },
      "source": [
        "%%shell\n",
        "gcloud config set project ${PROJECT} \n",
        "gcloud config set compute/zone ${ZONE}"
      ],
      "execution_count": 6,
      "outputs": [
        {
          "output_type": "stream",
          "text": [
            "Updated property [core/project].\n",
            "Updated property [compute/zone].\n"
          ],
          "name": "stdout"
        },
        {
          "output_type": "execute_result",
          "data": {
            "text/plain": [
              ""
            ]
          },
          "metadata": {
            "tags": []
          },
          "execution_count": 6
        }
      ]
    },
    {
      "cell_type": "code",
      "metadata": {
        "id": "bCpCgeLsRUJZ",
        "colab_type": "code",
        "outputId": "fe90ae81-3070-45ed-a370-301560c42080",
        "colab": {
          "base_uri": "https://localhost:8080/",
          "height": 202
        }
      },
      "source": [
        "!gcloud auth application-default login"
      ],
      "execution_count": 7,
      "outputs": [
        {
          "output_type": "stream",
          "text": [
            "Go to the following link in your browser:\n",
            "\n",
            "    https://accounts.google.com/o/oauth2/auth?code_challenge=0Cd-dWsUbFL_XB8roaGTEHtfT7QblxnJjTCljrhlRwM&prompt=select_account&code_challenge_method=S256&access_type=offline&redirect_uri=urn%3Aietf%3Awg%3Aoauth%3A2.0%3Aoob&response_type=code&client_id=764086051850-6qr4p6gpi6hn506pt8ejuq83di341hur.apps.googleusercontent.com&scope=https%3A%2F%2Fwww.googleapis.com%2Fauth%2Fuserinfo.email+https%3A%2F%2Fwww.googleapis.com%2Fauth%2Fcloud-platform+https%3A%2F%2Fwww.googleapis.com%2Fauth%2Faccounts.reauth\n",
            "\n",
            "\n",
            "Enter verification code: 4/ygGsqhfhI8TqSrutQQlbcdemFthSfAHeTJZZI1zGAVSG-FR212E6r_Q\n",
            "\n",
            "Credentials saved to file: [/content/.config/application_default_credentials.json]\n",
            "\n",
            "These credentials will be used by any library that requests Application Default Credentials (ADC).\n"
          ],
          "name": "stdout"
        }
      ]
    },
    {
      "cell_type": "code",
      "metadata": {
        "id": "JlMYqy_jrmds",
        "colab_type": "code",
        "colab": {
          "base_uri": "https://localhost:8080/",
          "height": 50
        },
        "outputId": "f314d19a-7d7a-4cc3-e47a-265b9721670e"
      },
      "source": [
        "!gcloud projects list"
      ],
      "execution_count": 14,
      "outputs": [
        {
          "output_type": "stream",
          "text": [
            "PROJECT_ID           NAME              PROJECT_NUMBER\n",
            "data-centaur-273800  My First Project  262674536974\n"
          ],
          "name": "stdout"
        }
      ]
    },
    {
      "cell_type": "markdown",
      "metadata": {
        "id": "zZ4wUS8Z9Gd3",
        "colab_type": "text"
      },
      "source": [
        "## Setup `kfctl` command utility"
      ]
    },
    {
      "cell_type": "code",
      "metadata": {
        "id": "QLnCXuvrRUDN",
        "colab_type": "code",
        "outputId": "d7e64590-6b81-4e58-dd2b-20fb5b303998",
        "colab": {
          "base_uri": "https://localhost:8080/",
          "height": 33
        }
      },
      "source": [
        "%env CONFIG_URI=https://raw.githubusercontent.com/kubeflow/manifests/v1.0-branch/kfdef/kfctl_gcp_iap.v1.0.1.yaml"
      ],
      "execution_count": 8,
      "outputs": [
        {
          "output_type": "stream",
          "text": [
            "env: CONFIG_URI=https://raw.githubusercontent.com/kubeflow/manifests/v1.0-branch/kfdef/kfctl_gcp_iap.v1.0.1.yaml\n"
          ],
          "name": "stdout"
        }
      ]
    },
    {
      "cell_type": "code",
      "metadata": {
        "id": "wTY_W_nCRT9V",
        "colab_type": "code",
        "outputId": "02ed3884-7a2a-4a47-8534-f0a24b15a25b",
        "colab": {
          "base_uri": "https://localhost:8080/",
          "height": 83
        }
      },
      "source": [
        "%env KF_NAME=kfmnist\n",
        "%env BASE_DIR=kf_deployments\n",
        "%env KF_DIR=/content/kf_deployments/kfmnist\n",
        "%env KF_DIR_PARENT=/content/kf_deployments"
      ],
      "execution_count": 30,
      "outputs": [
        {
          "output_type": "stream",
          "text": [
            "env: KF_NAME=kfmnist\n",
            "env: BASE_DIR=kf_deployments\n",
            "env: KF_DIR=/content/kf_deployments/kfmnist\n",
            "env: KF_DIR_PARENT=/content/kf_deployments\n"
          ],
          "name": "stdout"
        }
      ]
    },
    {
      "cell_type": "markdown",
      "metadata": {
        "id": "aI2JyJ1Qm0UD",
        "colab_type": "text"
      },
      "source": [
        "Clean up previous configuration (if any)"
      ]
    },
    {
      "cell_type": "code",
      "metadata": {
        "id": "OykNNbL8mz8x",
        "colab_type": "code",
        "colab": {
          "base_uri": "https://localhost:8080/",
          "height": 33
        },
        "outputId": "6adba063-caa8-4e05-b6eb-83ead62efc43"
      },
      "source": [
        "%cd /content/\n",
        "!rm -rf ${KF_DIR_PARENT}"
      ],
      "execution_count": 31,
      "outputs": [
        {
          "output_type": "stream",
          "text": [
            "/content\n"
          ],
          "name": "stdout"
        }
      ]
    },
    {
      "cell_type": "code",
      "metadata": {
        "id": "08TqEjLlWS3j",
        "colab_type": "code",
        "outputId": "c138b6f9-1654-4b5d-daf4-708b295061c9",
        "colab": {
          "base_uri": "https://localhost:8080/",
          "height": 50
        }
      },
      "source": [
        "%%shell\n",
        "wget https://github.com/kubeflow/kfctl/releases/download/v1.0.1/kfctl_v1.0.1-0-gf3edb9b_linux.tar.gz -q\n",
        "tar -xvf kfctl_v1.0.1-0-gf3edb9b_linux.tar.gz\n",
        "/content/kfctl version\n",
        "mkdir -p ${KF_DIR}"
      ],
      "execution_count": 32,
      "outputs": [
        {
          "output_type": "stream",
          "text": [
            "./kfctl\n",
            "kfctl v1.0.1-0-gf3edb9b\n"
          ],
          "name": "stdout"
        },
        {
          "output_type": "execute_result",
          "data": {
            "text/plain": [
              ""
            ]
          },
          "metadata": {
            "tags": []
          },
          "execution_count": 32
        }
      ]
    },
    {
      "cell_type": "code",
      "metadata": {
        "id": "fHnXMmbCVjuA",
        "colab_type": "code",
        "colab": {
          "base_uri": "https://localhost:8080/",
          "height": 33
        },
        "outputId": "3cbde2f4-f01c-4a69-f505-74ecc9ebb962"
      },
      "source": [
        "%cd {os.environ['KF_DIR']}"
      ],
      "execution_count": 33,
      "outputs": [
        {
          "output_type": "stream",
          "text": [
            "/content/kf_deployments/kfmnist\n"
          ],
          "name": "stdout"
        }
      ]
    },
    {
      "cell_type": "code",
      "metadata": {
        "id": "YyuXM2i-VjrM",
        "colab_type": "code",
        "outputId": "439fd09e-1768-4b69-b3f9-459f1f957426",
        "colab": {
          "base_uri": "https://localhost:8080/",
          "height": 1000
        }
      },
      "source": [
        "!/content/kfctl apply -V -f ${CONFIG_URI}"
      ],
      "execution_count": 34,
      "outputs": [
        {
          "output_type": "stream",
          "text": [
            "\u001b[36mINFO\u001b[0m[0000] Downloading https://raw.githubusercontent.com/kubeflow/manifests/v1.0-branch/kfdef/kfctl_gcp_iap.v1.0.1.yaml to /tmp/849121763/tmp.yaml  \u001b[36mfilename\u001b[0m=\"utils/k8utils.go:172\"\n",
            "\u001b[36mINFO\u001b[0m[0000] Downloading https://raw.githubusercontent.com/kubeflow/manifests/v1.0-branch/kfdef/kfctl_gcp_iap.v1.0.1.yaml to /tmp/247695334/tmp_app.yaml  \u001b[36mfilename\u001b[0m=\"loaders/loaders.go:71\"\n",
            "\u001b[36mINFO\u001b[0m[0000] App directory /content/kf_deployments/kfmnist already exists  \u001b[36mfilename\u001b[0m=\"coordinator/coordinator.go:270\"\n",
            "\u001b[36mINFO\u001b[0m[0000] Writing KfDef to kfctl_gcp_iap.v1.0.1.yaml    \u001b[36mfilename\u001b[0m=\"coordinator/coordinator.go:273\"\n",
            "\u001b[36mINFO\u001b[0m[0000] No name specified in KfDef.Metadata.Name; defaulting to kfmnist based on location of config file: /content/kf_deployments/kfmnist/kfctl_gcp_iap.v1.0.1.yaml.  \u001b[36mfilename\u001b[0m=\"coordinator/coordinator.go:202\"\n",
            "\u001b[36mINFO\u001b[0m[0000] Creating default token source                 \u001b[36mfilename\u001b[0m=\"gcp/gcp.go:184\"\n",
            "\u001b[36mINFO\u001b[0m[0002] Creating GCP client.                          \u001b[36mfilename\u001b[0m=\"gcp/gcp.go:196\"\n",
            "\u001b[36mINFO\u001b[0m[0002] \n",
            "****************************************************************\n",
            "Notice anonymous usage reporting enabled using spartakus\n",
            "To disable it\n",
            "If you have already deployed it run the following commands:\n",
            "  cd $(pwd)\n",
            "  kubectl -n ${K8S_NAMESPACE} delete deploy -l app=spartakus\n",
            "\n",
            "For more info: https://www.kubeflow.org/docs/other-guides/usage-reporting/\n",
            "****************************************************************\n",
            "  \u001b[36mfilename\u001b[0m=\"coordinator/coordinator.go:120\"\n",
            "\u001b[36mINFO\u001b[0m[0002] Creating directory /content/kf_deployments/kfmnist/.cache  \u001b[36mfilename\u001b[0m=\"kfconfig/types.go:445\"\n",
            "\u001b[36mINFO\u001b[0m[0002] Fetching https://github.com/kubeflow/manifests/archive/v1.0.1.tar.gz to /content/kf_deployments/kfmnist/.cache/manifests  \u001b[36mfilename\u001b[0m=\"kfconfig/types.go:493\"\n",
            "\u001b[36mINFO\u001b[0m[0005] updating localPath to /content/kf_deployments/kfmnist/.cache/manifests/manifests-1.0.1  \u001b[36mfilename\u001b[0m=\"kfconfig/types.go:540\"\n",
            "\u001b[36mINFO\u001b[0m[0005] Fetch succeeded; LocalPath /content/kf_deployments/kfmnist/.cache/manifests/manifests-1.0.1  \u001b[36mfilename\u001b[0m=\"kfconfig/types.go:561\"\n",
            "\u001b[36mINFO\u001b[0m[0005] /content/kf_deployments/kfmnist/.cache/manifests exists; not resyncing   \u001b[36mfilename\u001b[0m=\"kfconfig/types.go:468\"\n",
            "\u001b[33mWARN\u001b[0m[0005] Backfilling auth; this is deprecated; Auth should be explicitly set in Gcp plugin  \u001b[33mfilename\u001b[0m=\"gcp/gcp.go:1949\"\n",
            "\u001b[36mINFO\u001b[0m[0005] Setting Email to default: vozlabs.ai@gmail.com  \u001b[36mfilename\u001b[0m=\"gcp/gcp.go:2023\"\n",
            "\u001b[36mINFO\u001b[0m[0006] Setting Project to default: data-centaur-273800  \u001b[36mfilename\u001b[0m=\"gcp/gcp.go:2036\"\n",
            "\u001b[36mINFO\u001b[0m[0006] Setting Zone to default: us-west1-b           \u001b[36mfilename\u001b[0m=\"gcp/gcp.go:2049\"\n",
            "\u001b[36mINFO\u001b[0m[0006] Configuring pipelines persistent storage      \u001b[36mfilename\u001b[0m=\"gcp/gcp.go:1378\"\n",
            "\u001b[36mINFO\u001b[0m[0006] Configuring pipeline, minio, and mysql applications  \u001b[36mfilename\u001b[0m=\"gcp/gcp.go:2173\"\n",
            "\u001b[36mINFO\u001b[0m[0006] Processing application: istio-crds            \u001b[36mfilename\u001b[0m=\"kustomize/kustomize.go:408\"\n",
            "\u001b[36mINFO\u001b[0m[0006] Processing application: istio-install         \u001b[36mfilename\u001b[0m=\"kustomize/kustomize.go:408\"\n",
            "\u001b[36mINFO\u001b[0m[0006] Processing application: cluster-local-gateway  \u001b[36mfilename\u001b[0m=\"kustomize/kustomize.go:408\"\n",
            "\u001b[36mINFO\u001b[0m[0006] Processing application: kfserving-gateway     \u001b[36mfilename\u001b[0m=\"kustomize/kustomize.go:408\"\n",
            "\u001b[36mINFO\u001b[0m[0006] Processing application: istio                 \u001b[36mfilename\u001b[0m=\"kustomize/kustomize.go:408\"\n",
            "\u001b[36mINFO\u001b[0m[0006] Processing application: application-crds      \u001b[36mfilename\u001b[0m=\"kustomize/kustomize.go:408\"\n",
            "\u001b[36mINFO\u001b[0m[0006] Processing application: application           \u001b[36mfilename\u001b[0m=\"kustomize/kustomize.go:408\"\n",
            "\u001b[36mINFO\u001b[0m[0006] Processing application: cert-manager-crds     \u001b[36mfilename\u001b[0m=\"kustomize/kustomize.go:408\"\n",
            "\u001b[36mINFO\u001b[0m[0006] Processing application: cert-manager-kube-system-resources  \u001b[36mfilename\u001b[0m=\"kustomize/kustomize.go:408\"\n",
            "\u001b[36mINFO\u001b[0m[0006] Processing application: cert-manager          \u001b[36mfilename\u001b[0m=\"kustomize/kustomize.go:408\"\n",
            "\u001b[36mINFO\u001b[0m[0006] Processing application: kubeflow-roles        \u001b[36mfilename\u001b[0m=\"kustomize/kustomize.go:408\"\n",
            "\u001b[36mINFO\u001b[0m[0006] Processing application: metacontroller        \u001b[36mfilename\u001b[0m=\"kustomize/kustomize.go:408\"\n",
            "\u001b[36mINFO\u001b[0m[0006] Processing application: argo                  \u001b[36mfilename\u001b[0m=\"kustomize/kustomize.go:408\"\n",
            "\u001b[36mINFO\u001b[0m[0006] Processing application: centraldashboard      \u001b[36mfilename\u001b[0m=\"kustomize/kustomize.go:408\"\n",
            "\u001b[36mINFO\u001b[0m[0006] Processing application: webhook               \u001b[36mfilename\u001b[0m=\"kustomize/kustomize.go:408\"\n",
            "\u001b[36mINFO\u001b[0m[0006] Processing application: bootstrap             \u001b[36mfilename\u001b[0m=\"kustomize/kustomize.go:408\"\n",
            "\u001b[36mINFO\u001b[0m[0006] Processing application: jupyter-web-app       \u001b[36mfilename\u001b[0m=\"kustomize/kustomize.go:408\"\n",
            "\u001b[36mINFO\u001b[0m[0006] Processing application: spark-operator        \u001b[36mfilename\u001b[0m=\"kustomize/kustomize.go:408\"\n",
            "\u001b[36mINFO\u001b[0m[0006] Processing application: metadata              \u001b[36mfilename\u001b[0m=\"kustomize/kustomize.go:408\"\n",
            "\u001b[36mINFO\u001b[0m[0006] Processing application: notebook-controller   \u001b[36mfilename\u001b[0m=\"kustomize/kustomize.go:408\"\n",
            "\u001b[36mINFO\u001b[0m[0006] Processing application: pytorch-job-crds      \u001b[36mfilename\u001b[0m=\"kustomize/kustomize.go:408\"\n",
            "\u001b[36mINFO\u001b[0m[0006] Processing application: pytorch-operator      \u001b[36mfilename\u001b[0m=\"kustomize/kustomize.go:408\"\n",
            "\u001b[36mINFO\u001b[0m[0006] Processing application: knative-crds          \u001b[36mfilename\u001b[0m=\"kustomize/kustomize.go:408\"\n",
            "\u001b[36mINFO\u001b[0m[0006] Processing application: knative-install       \u001b[36mfilename\u001b[0m=\"kustomize/kustomize.go:408\"\n",
            "\u001b[36mINFO\u001b[0m[0006] Processing application: kfserving-crds        \u001b[36mfilename\u001b[0m=\"kustomize/kustomize.go:408\"\n",
            "\u001b[36mINFO\u001b[0m[0006] Processing application: kfserving-install     \u001b[36mfilename\u001b[0m=\"kustomize/kustomize.go:408\"\n",
            "\u001b[36mINFO\u001b[0m[0006] Processing application: spartakus             \u001b[36mfilename\u001b[0m=\"kustomize/kustomize.go:408\"\n",
            "\u001b[36mINFO\u001b[0m[0006] Processing application: tensorboard           \u001b[36mfilename\u001b[0m=\"kustomize/kustomize.go:408\"\n",
            "\u001b[36mINFO\u001b[0m[0006] Processing application: tf-job-crds           \u001b[36mfilename\u001b[0m=\"kustomize/kustomize.go:408\"\n",
            "\u001b[36mINFO\u001b[0m[0006] Processing application: tf-job-operator       \u001b[36mfilename\u001b[0m=\"kustomize/kustomize.go:408\"\n",
            "\u001b[36mINFO\u001b[0m[0006] Processing application: katib-crds            \u001b[36mfilename\u001b[0m=\"kustomize/kustomize.go:408\"\n",
            "\u001b[36mINFO\u001b[0m[0006] Processing application: katib-controller      \u001b[36mfilename\u001b[0m=\"kustomize/kustomize.go:408\"\n",
            "\u001b[36mINFO\u001b[0m[0006] Processing application: api-service           \u001b[36mfilename\u001b[0m=\"kustomize/kustomize.go:408\"\n",
            "\u001b[36mINFO\u001b[0m[0006] Processing application: minio                 \u001b[36mfilename\u001b[0m=\"kustomize/kustomize.go:408\"\n",
            "\u001b[36mINFO\u001b[0m[0006] Processing application: mysql                 \u001b[36mfilename\u001b[0m=\"kustomize/kustomize.go:408\"\n",
            "\u001b[36mINFO\u001b[0m[0006] Processing application: persistent-agent      \u001b[36mfilename\u001b[0m=\"kustomize/kustomize.go:408\"\n",
            "\u001b[36mINFO\u001b[0m[0006] Processing application: pipelines-runner      \u001b[36mfilename\u001b[0m=\"kustomize/kustomize.go:408\"\n",
            "\u001b[36mINFO\u001b[0m[0006] Processing application: pipelines-ui          \u001b[36mfilename\u001b[0m=\"kustomize/kustomize.go:408\"\n",
            "\u001b[36mINFO\u001b[0m[0006] Processing application: pipelines-viewer      \u001b[36mfilename\u001b[0m=\"kustomize/kustomize.go:408\"\n",
            "\u001b[36mINFO\u001b[0m[0006] Processing application: scheduledworkflow     \u001b[36mfilename\u001b[0m=\"kustomize/kustomize.go:408\"\n",
            "\u001b[36mINFO\u001b[0m[0006] Processing application: pipeline-visualization-service  \u001b[36mfilename\u001b[0m=\"kustomize/kustomize.go:408\"\n",
            "\u001b[36mINFO\u001b[0m[0006] Processing application: cloud-endpoints       \u001b[36mfilename\u001b[0m=\"kustomize/kustomize.go:408\"\n",
            "\u001b[36mINFO\u001b[0m[0006] Processing application: profiles              \u001b[36mfilename\u001b[0m=\"kustomize/kustomize.go:408\"\n",
            "\u001b[36mINFO\u001b[0m[0006] Processing application: gpu-driver            \u001b[36mfilename\u001b[0m=\"kustomize/kustomize.go:408\"\n",
            "\u001b[36mINFO\u001b[0m[0006] Processing application: iap-ingress           \u001b[36mfilename\u001b[0m=\"kustomize/kustomize.go:408\"\n",
            "\u001b[36mINFO\u001b[0m[0006] Processing application: seldon-core-operator  \u001b[36mfilename\u001b[0m=\"kustomize/kustomize.go:408\"\n",
            "\u001b[36mINFO\u001b[0m[0006] Processing application: default-install       \u001b[36mfilename\u001b[0m=\"kustomize/kustomize.go:408\"\n",
            "\u001b[36mINFO\u001b[0m[0006] /content/kf_deployments/kfmnist/.cache/manifests exists; not resyncing   \u001b[36mfilename\u001b[0m=\"kfconfig/types.go:468\"\n",
            "\u001b[36mINFO\u001b[0m[0006] GCP client already configured                 \u001b[36mfilename\u001b[0m=\"gcp/gcp.go:169\"\n",
            "\u001b[36mINFO\u001b[0m[0006] Reading config file: /content/kf_deployments/kfmnist/gcp_config/storage-kubeflow.yaml  \u001b[36mfilename\u001b[0m=\"gcp/gcp.go:288\"\n",
            "\u001b[36mINFO\u001b[0m[0006] Reading import file: /content/kf_deployments/kfmnist/gcp_config/storage.jinja  \u001b[36mfilename\u001b[0m=\"gcp/gcp.go:324\"\n",
            "\u001b[36mINFO\u001b[0m[0008] Creating deployment kfmnist-storage           \u001b[36mfilename\u001b[0m=\"gcp/gcp.go:462\"\n",
            "Error: failed to apply:  (kubeflow.error): Code 500 with message: coordinator Apply failed for gcp:  (kubeflow.error): Code 500 with message: gcp apply could not update deployment manager Error could not update storage-kubeflow.yaml; Insert deployment error: Post \"https://www.googleapis.com/deploymentmanager/v2/projects/data-centaur-273800/global/deployments?alt=json&prettyPrint=false\": Get \"http://169.254.169.254/computeMetadata/v1/instance/service-accounts/default/token?scopes=https%3A%2F%2Fwww.googleapis.com%2Fauth%2Fcloud-platform\": dial tcp 169.254.169.254:80: i/o timeout\n",
            "Usage:\n",
            "  kfctl apply -f ${CONFIG} [flags]\n",
            "\n",
            "Flags:\n",
            "  -f, --file string   Static config file to use. Can be either a local path:\n",
            "                      \t\texport CONFIG=./kfctl_gcp_iap.yaml\n",
            "                      \tor a URL:\n",
            "                      \t\texport CONFIG=https://raw.githubusercontent.com/kubeflow/manifests/v1.0-branch/kfdef/kfctl_gcp_iap.v1.0.0.yaml\n",
            "                      \t\texport CONFIG=https://raw.githubusercontent.com/kubeflow/manifests/v1.0-branch/kfdef/kfctl_istio_dex.v1.0.0.yaml\n",
            "                      \t\texport CONFIG=https://raw.githubusercontent.com/kubeflow/manifests/v1.0-branch/kfdef/kfctl_aws.v1.0.0.yaml\n",
            "                      \t\texport CONFIG=https://raw.githubusercontent.com/kubeflow/manifests/v1.0-branch/kfdef/kfctl_k8s_istio.v1.0.0.yaml\n",
            "                      \tkfctl apply -V --file=${CONFIG}\n",
            "  -h, --help          help for apply\n",
            "  -V, --verbose       verbose output default is false\n",
            "\n",
            "failed to apply:  (kubeflow.error): Code 500 with message: coordinator Apply failed for gcp:  (kubeflow.error): Code 500 with message: gcp apply could not update deployment manager Error could not update storage-kubeflow.yaml; Insert deployment error: Post \"https://www.googleapis.com/deploymentmanager/v2/projects/data-centaur-273800/global/deployments?alt=json&prettyPrint=false\": Get \"http://169.254.169.254/computeMetadata/v1/instance/service-accounts/default/token?scopes=https%3A%2F%2Fwww.googleapis.com%2Fauth%2Fcloud-platform\": dial tcp 169.254.169.254:80: i/o timeout\n"
          ],
          "name": "stdout"
        }
      ]
    },
    {
      "cell_type": "markdown",
      "metadata": {
        "id": "66Dvcs_CuAsi",
        "colab_type": "text"
      },
      "source": [
        ""
      ]
    },
    {
      "cell_type": "code",
      "metadata": {
        "id": "TXQ4HXSwtu2u",
        "colab_type": "code",
        "outputId": "7f7da389-7589-4ac3-e763-de1171730275",
        "colab": {
          "base_uri": "https://localhost:8080/",
          "height": 50
        }
      },
      "source": [
        "!gcloud container clusters get-credentials ${KF_NAME} --zone ${ZONE} --project ${PROJECT}"
      ],
      "execution_count": 35,
      "outputs": [
        {
          "output_type": "stream",
          "text": [
            "Fetching cluster endpoint and auth data.\n",
            "kubeconfig entry generated for kfmnist.\n"
          ],
          "name": "stdout"
        }
      ]
    },
    {
      "cell_type": "code",
      "metadata": {
        "id": "ztGJuzXowFlB",
        "colab_type": "code",
        "outputId": "729e9a59-47cb-4479-c30f-e161e07a6e97",
        "colab": {
          "base_uri": "https://localhost:8080/",
          "height": 1000
        }
      },
      "source": [
        "!kubectl -n kubeflow get all"
      ],
      "execution_count": 42,
      "outputs": [
        {
          "output_type": "stream",
          "text": [
            "NAME                                                               READY   STATUS      RESTARTS   AGE\n",
            "pod/admission-webhook-bootstrap-stateful-set-0                     1/1     Running     0          6m31s\n",
            "pod/admission-webhook-deployment-64cb96ddbf-dnk5p                  1/1     Running     0          6m8s\n",
            "pod/application-controller-stateful-set-0                          1/1     Running     0          7m20s\n",
            "pod/argo-ui-778676df64-rhx4c                                       1/1     Running     0          6m37s\n",
            "pod/centraldashboard-f8d4bdf96-wdrtr                               1/1     Running     0          6m34s\n",
            "pod/cloud-endpoints-controller-7764d66f9b-brtkh                    1/1     Running     0          5m35s\n",
            "pod/jupyter-web-app-deployment-5f954cd95c-nshp2                    1/1     Running     0          6m29s\n",
            "pod/katib-controller-6b789b6cb5-4q6vv                              1/1     Running     1          5m54s\n",
            "pod/katib-db-manager-64f548b47c-mn4k4                              1/1     Running     1          5m54s\n",
            "pod/katib-mysql-57884cb488-2m8kg                                   1/1     Running     0          5m54s\n",
            "pod/katib-ui-5c5cc6bd77-zsgk7                                      1/1     Running     0          5m54s\n",
            "pod/kfserving-controller-manager-0                                 2/2     Running     1          6m4s\n",
            "pod/metacontroller-0                                               1/1     Running     0          6m39s\n",
            "pod/metadata-db-76c9f78f77-6jt6k                                   1/1     Running     0          6m24s\n",
            "pod/metadata-deployment-674fdd976b-k7bs2                           1/1     Running     0          6m24s\n",
            "pod/metadata-envoy-deployment-5688989bd6-drtxh                     1/1     Running     0          6m24s\n",
            "pod/metadata-grpc-deployment-5579bdc87b-tqvgz                      1/1     Running     5          6m24s\n",
            "pod/metadata-ui-9b8cd699d-q86d6                                    1/1     Running     0          6m23s\n",
            "pod/minio-755ff748b-68x9s                                          1/1     Running     0          5m48s\n",
            "pod/ml-pipeline-79b4f85cbc-n8l6f                                   1/1     Running     0          5m52s\n",
            "pod/ml-pipeline-ml-pipeline-visualizationserver-5fdffdc5bf-cqj5q   1/1     Running     0          5m38s\n",
            "pod/ml-pipeline-persistenceagent-645cb66874-mbfjf                  1/1     Running     0          5m45s\n",
            "pod/ml-pipeline-scheduledworkflow-6c978b6b85-gcvtr                 1/1     Running     0          5m39s\n",
            "pod/ml-pipeline-ui-7fccbc88f6-d55vf                                1/1     Running     0          5m42s\n",
            "pod/ml-pipeline-viewer-controller-deployment-8554dc7b9f-4gdbt      1/1     Running     0          5m40s\n",
            "pod/mysql-598bc897dc-rbl4p                                         1/1     Running     0          5m46s\n",
            "pod/notebook-controller-deployment-7db57b9ccf-xxftn                1/1     Running     0          6m21s\n",
            "pod/profiles-deployment-859d869bd6-qmtvl                           2/2     Running     0          5m34s\n",
            "pod/pytorch-operator-5fd5f94bdd-bhkbh                              1/1     Running     0          6m19s\n",
            "pod/seldon-controller-manager-679fc777cd-phg6h                     1/1     Running     0          5m26s\n",
            "pod/spark-operatorcrd-cleanup-vh4qb                                0/2     Completed   0          6m26s\n",
            "pod/spark-operatorsparkoperator-c7b64b87f-cm4rz                    1/1     Running     0          6m27s\n",
            "pod/spartakus-volunteer-d976df769-vxjdw                            1/1     Running     0          6m1s\n",
            "pod/tensorboard-6544748d94-ttr52                                   1/1     Running     0          6m\n",
            "pod/tf-job-operator-7d7c8fb8bb-2v4xk                               1/1     Running     0          5m58s\n",
            "pod/workflow-controller-945c84565-92wj9                            1/1     Running     0          6m36s\n",
            "\n",
            "NAME                                                   TYPE        CLUSTER-IP     EXTERNAL-IP   PORT(S)             AGE\n",
            "service/admission-webhook-service                      ClusterIP   10.3.243.229   <none>        443/TCP             6m33s\n",
            "service/application-controller-service                 ClusterIP   10.3.249.108   <none>        443/TCP             7m20s\n",
            "service/argo-ui                                        NodePort    10.3.245.253   <none>        80:30643/TCP        6m37s\n",
            "service/centraldashboard                               ClusterIP   10.3.243.55    <none>        80/TCP              6m34s\n",
            "service/cloud-endpoints-controller                     ClusterIP   10.3.246.131   <none>        80/TCP              5m36s\n",
            "service/jupyter-web-app-service                        ClusterIP   10.3.246.121   <none>        80/TCP              6m29s\n",
            "service/katib-controller                               ClusterIP   10.3.248.148   <none>        443/TCP,8080/TCP    5m55s\n",
            "service/katib-db-manager                               ClusterIP   10.3.247.78    <none>        6789/TCP            5m55s\n",
            "service/katib-mysql                                    ClusterIP   10.3.242.133   <none>        3306/TCP            5m55s\n",
            "service/katib-ui                                       ClusterIP   10.3.251.197   <none>        80/TCP              5m55s\n",
            "service/kfserving-controller-manager-metrics-service   ClusterIP   10.3.246.243   <none>        8443/TCP            6m4s\n",
            "service/kfserving-controller-manager-service           ClusterIP   10.3.242.210   <none>        443/TCP             6m4s\n",
            "service/kfserving-webhook-server-service               ClusterIP   10.3.252.75    <none>        443/TCP             3m30s\n",
            "service/metadata-db                                    ClusterIP   10.3.246.144   <none>        3306/TCP            6m25s\n",
            "service/metadata-envoy-service                         ClusterIP   10.3.246.39    <none>        9090/TCP            6m25s\n",
            "service/metadata-grpc-service                          ClusterIP   10.3.253.132   <none>        8080/TCP            6m25s\n",
            "service/metadata-service                               ClusterIP   10.3.255.104   <none>        8080/TCP            6m25s\n",
            "service/metadata-ui                                    ClusterIP   10.3.251.162   <none>        80/TCP              6m24s\n",
            "service/minio-service                                  ClusterIP   10.3.255.45    <none>        9000/TCP            5m49s\n",
            "service/ml-pipeline                                    ClusterIP   10.3.247.154   <none>        8888/TCP,8887/TCP   5m52s\n",
            "service/ml-pipeline-ml-pipeline-visualizationserver    ClusterIP   10.3.247.34    <none>        8888/TCP            5m39s\n",
            "service/ml-pipeline-tensorboard-ui                     ClusterIP   10.3.242.75    <none>        80/TCP              5m43s\n",
            "service/ml-pipeline-ui                                 ClusterIP   10.3.250.82    <none>        80/TCP              5m43s\n",
            "service/mysql                                          ClusterIP   10.3.251.94    <none>        3306/TCP            5m47s\n",
            "service/notebook-controller-service                    ClusterIP   10.3.253.249   <none>        443/TCP             6m21s\n",
            "service/profiles-kfam                                  ClusterIP   10.3.244.175   <none>        8081/TCP            5m34s\n",
            "service/pytorch-operator                               ClusterIP   10.3.249.192   <none>        8443/TCP            6m19s\n",
            "service/seldon-webhook-service                         ClusterIP   10.3.240.90    <none>        443/TCP             5m26s\n",
            "service/tensorboard                                    ClusterIP   10.3.249.120   <none>        9000/TCP            6m\n",
            "service/tf-job-operator                                ClusterIP   10.3.255.63    <none>        8443/TCP            5m58s\n",
            "\n",
            "NAME                                     DESIRED   CURRENT   READY   UP-TO-DATE   AVAILABLE   NODE SELECTOR   AGE\n",
            "daemonset.apps/nvidia-driver-installer   0         0         0       0            0           <none>          5m33s\n",
            "\n",
            "NAME                                                          READY   UP-TO-DATE   AVAILABLE   AGE\n",
            "deployment.apps/admission-webhook-deployment                  1/1     1            1           6m32s\n",
            "deployment.apps/argo-ui                                       1/1     1            1           6m37s\n",
            "deployment.apps/centraldashboard                              1/1     1            1           6m34s\n",
            "deployment.apps/cloud-endpoints-controller                    1/1     1            1           5m36s\n",
            "deployment.apps/jupyter-web-app-deployment                    1/1     1            1           6m29s\n",
            "deployment.apps/katib-controller                              1/1     1            1           5m55s\n",
            "deployment.apps/katib-db-manager                              1/1     1            1           5m54s\n",
            "deployment.apps/katib-mysql                                   1/1     1            1           5m54s\n",
            "deployment.apps/katib-ui                                      1/1     1            1           5m54s\n",
            "deployment.apps/metadata-db                                   1/1     1            1           6m24s\n",
            "deployment.apps/metadata-deployment                           1/1     1            1           6m24s\n",
            "deployment.apps/metadata-envoy-deployment                     1/1     1            1           6m24s\n",
            "deployment.apps/metadata-grpc-deployment                      1/1     1            1           6m24s\n",
            "deployment.apps/metadata-ui                                   1/1     1            1           6m24s\n",
            "deployment.apps/minio                                         1/1     1            1           5m49s\n",
            "deployment.apps/ml-pipeline                                   1/1     1            1           5m52s\n",
            "deployment.apps/ml-pipeline-ml-pipeline-visualizationserver   1/1     1            1           5m38s\n",
            "deployment.apps/ml-pipeline-persistenceagent                  1/1     1            1           5m45s\n",
            "deployment.apps/ml-pipeline-scheduledworkflow                 1/1     1            1           5m39s\n",
            "deployment.apps/ml-pipeline-ui                                1/1     1            1           5m43s\n",
            "deployment.apps/ml-pipeline-viewer-controller-deployment      1/1     1            1           5m41s\n",
            "deployment.apps/mysql                                         1/1     1            1           5m47s\n",
            "deployment.apps/notebook-controller-deployment                1/1     1            1           6m21s\n",
            "deployment.apps/profiles-deployment                           1/1     1            1           5m34s\n",
            "deployment.apps/pytorch-operator                              1/1     1            1           6m19s\n",
            "deployment.apps/seldon-controller-manager                     1/1     1            1           5m26s\n",
            "deployment.apps/spark-operatorsparkoperator                   1/1     1            1           6m27s\n",
            "deployment.apps/spartakus-volunteer                           1/1     1            1           6m2s\n",
            "deployment.apps/tensorboard                                   1/1     1            1           6m\n",
            "deployment.apps/tf-job-operator                               1/1     1            1           5m58s\n",
            "deployment.apps/workflow-controller                           1/1     1            1           6m36s\n",
            "\n",
            "NAME                                                                     DESIRED   CURRENT   READY   AGE\n",
            "replicaset.apps/admission-webhook-deployment-64cb96ddbf                  1         1         1       6m32s\n",
            "replicaset.apps/argo-ui-778676df64                                       1         1         1       6m37s\n",
            "replicaset.apps/centraldashboard-f8d4bdf96                               1         1         1       6m34s\n",
            "replicaset.apps/cloud-endpoints-controller-7764d66f9b                    1         1         1       5m36s\n",
            "replicaset.apps/jupyter-web-app-deployment-5f954cd95c                    1         1         1       6m29s\n",
            "replicaset.apps/katib-controller-6b789b6cb5                              1         1         1       5m55s\n",
            "replicaset.apps/katib-db-manager-64f548b47c                              1         1         1       5m54s\n",
            "replicaset.apps/katib-mysql-57884cb488                                   1         1         1       5m54s\n",
            "replicaset.apps/katib-ui-5c5cc6bd77                                      1         1         1       5m54s\n",
            "replicaset.apps/metadata-db-76c9f78f77                                   1         1         1       6m24s\n",
            "replicaset.apps/metadata-deployment-674fdd976b                           1         1         1       6m24s\n",
            "replicaset.apps/metadata-envoy-deployment-5688989bd6                     1         1         1       6m24s\n",
            "replicaset.apps/metadata-grpc-deployment-5579bdc87b                      1         1         1       6m24s\n",
            "replicaset.apps/metadata-ui-9b8cd699d                                    1         1         1       6m24s\n",
            "replicaset.apps/minio-755ff748b                                          1         1         1       5m49s\n",
            "replicaset.apps/ml-pipeline-79b4f85cbc                                   1         1         1       5m52s\n",
            "replicaset.apps/ml-pipeline-ml-pipeline-visualizationserver-5fdffdc5bf   1         1         1       5m38s\n",
            "replicaset.apps/ml-pipeline-persistenceagent-645cb66874                  1         1         1       5m45s\n",
            "replicaset.apps/ml-pipeline-scheduledworkflow-6c978b6b85                 1         1         1       5m39s\n",
            "replicaset.apps/ml-pipeline-ui-7fccbc88f6                                1         1         1       5m43s\n",
            "replicaset.apps/ml-pipeline-viewer-controller-deployment-8554dc7b9f      1         1         1       5m41s\n",
            "replicaset.apps/mysql-598bc897dc                                         1         1         1       5m47s\n",
            "replicaset.apps/notebook-controller-deployment-7db57b9ccf                1         1         1       6m21s\n",
            "replicaset.apps/profiles-deployment-859d869bd6                           1         1         1       5m34s\n",
            "replicaset.apps/pytorch-operator-5fd5f94bdd                              1         1         1       6m19s\n",
            "replicaset.apps/seldon-controller-manager-679fc777cd                     1         1         1       5m26s\n",
            "replicaset.apps/spark-operatorsparkoperator-c7b64b87f                    1         1         1       6m27s\n",
            "replicaset.apps/spartakus-volunteer-d976df769                            1         1         1       6m2s\n",
            "replicaset.apps/tensorboard-6544748d94                                   1         1         1       6m\n",
            "replicaset.apps/tf-job-operator-7d7c8fb8bb                               1         1         1       5m58s\n",
            "replicaset.apps/workflow-controller-945c84565                            1         1         1       6m36s\n",
            "\n",
            "NAME                                                        READY   AGE\n",
            "statefulset.apps/admission-webhook-bootstrap-stateful-set   1/1     6m31s\n",
            "statefulset.apps/application-controller-stateful-set        1/1     7m20s\n",
            "statefulset.apps/kfserving-controller-manager               1/1     6m4s\n",
            "statefulset.apps/metacontroller                             1/1     6m39s\n",
            "\n",
            "NAME                                  COMPLETIONS   DURATION   AGE\n",
            "job.batch/spark-operatorcrd-cleanup   1/1           25s        6m27s\n"
          ],
          "name": "stdout"
        }
      ]
    },
    {
      "cell_type": "markdown",
      "metadata": {
        "id": "YEwVmPe4x696",
        "colab_type": "text"
      },
      "source": [
        "## Access the Kubeflow user interface (UI)\n",
        "\n",
        "`https://kfmnist.endpoints.data-centaur-273800.cloud.goog`"
      ]
    },
    {
      "cell_type": "code",
      "metadata": {
        "id": "RwE-bCGPx7pm",
        "colab_type": "code",
        "outputId": "56d3e635-c00f-4856-831d-36bca5b17fc9",
        "colab": {
          "base_uri": "https://localhost:8080/",
          "height": 66
        }
      },
      "source": [
        "%cd /content/\n",
        "!kubectl -n istio-system get ingress"
      ],
      "execution_count": 44,
      "outputs": [
        {
          "output_type": "stream",
          "text": [
            "/content\n",
            "NAME            HOSTS                                              ADDRESS        PORTS   AGE\n",
            "envoy-ingress   kfmnist.endpoints.data-centaur-273800.cloud.goog   34.95.115.70   80      7m2s\n"
          ],
          "name": "stdout"
        }
      ]
    },
    {
      "cell_type": "code",
      "metadata": {
        "id": "PNq4gAvNzE1D",
        "colab_type": "code",
        "outputId": "60aed931-e5de-49cf-a1d8-6391d5012da4",
        "colab": {
          "base_uri": "https://localhost:8080/",
          "height": 33
        }
      },
      "source": [
        "!kubectl -n istio-system get ingress envoy-ingress -o=jsonpath={.spec.rules[0].host}"
      ],
      "execution_count": 45,
      "outputs": [
        {
          "output_type": "stream",
          "text": [
            "kfmnist.endpoints.data-centaur-273800.cloud.goog"
          ],
          "name": "stdout"
        }
      ]
    },
    {
      "cell_type": "code",
      "metadata": {
        "id": "ddNHBWshyeSf",
        "colab_type": "code",
        "outputId": "472834e4-231c-4fd4-993c-3c8d77fddf12",
        "colab": {
          "base_uri": "https://localhost:8080/",
          "height": 33
        }
      },
      "source": [
        "%env HOST=kfmnist.endpoints.data-centaur-273800.cloud.goog"
      ],
      "execution_count": 46,
      "outputs": [
        {
          "output_type": "stream",
          "text": [
            "env: HOST=kfmnist.endpoints.data-centaur-273800.cloud.goog\n"
          ],
          "name": "stdout"
        }
      ]
    },
    {
      "cell_type": "markdown",
      "metadata": {
        "id": "TV4-OGmM0FA-",
        "colab_type": "text"
      },
      "source": [
        "## Deleting Deployed Cluster"
      ]
    },
    {
      "cell_type": "code",
      "metadata": {
        "id": "GKCvRDfR3SUv",
        "colab_type": "code",
        "outputId": "0490922b-1cc0-4bc7-d0ed-77f69f022294",
        "colab": {
          "base_uri": "https://localhost:8080/",
          "height": 1000
        }
      },
      "source": [
        "%%shell\n",
        "sudo apt-key adv --keyserver keyserver.ubuntu.com --recv-keys CC86BB64\n",
        "sudo add-apt-repository ppa:rmescandon/yq\n",
        "sudo apt update\n",
        "sudo apt install yq -y"
      ],
      "execution_count": 0,
      "outputs": [
        {
          "output_type": "stream",
          "text": [
            "Executing: /tmp/apt-key-gpghome.3Da1Rx5xUu/gpg.1.sh --keyserver keyserver.ubuntu.com --recv-keys CC86BB64\n",
            "gpg: key 6657DBE0CC86BB64: \"Launchpad PPA for Roberto Mier Escandón \" not changed\n",
            "gpg: Total number processed: 1\n",
            "gpg:              unchanged: 1\n",
            " yq is a portable command line processor created by Mike Farah\n",
            "\n",
            "See code at:\n",
            "https://github.com/mikefarah/yq\n",
            " More info: https://launchpad.net/~rmescandon/+archive/ubuntu/yq\n",
            "Press [ENTER] to continue or Ctrl-c to cancel adding it.\n",
            "\n",
            "Hit:1 http://packages.cloud.google.com/apt cloud-sdk InRelease\n",
            "Ign:2 https://developer.download.nvidia.com/compute/cuda/repos/ubuntu1804/x86_64  InRelease\n",
            "Hit:3 https://cloud.r-project.org/bin/linux/ubuntu bionic-cran35/ InRelease\n",
            "Hit:4 http://ppa.launchpad.net/graphics-drivers/ppa/ubuntu bionic InRelease\n",
            "Hit:5 http://security.ubuntu.com/ubuntu bionic-security InRelease\n",
            "Hit:6 http://archive.ubuntu.com/ubuntu bionic InRelease\n",
            "Ign:7 https://developer.download.nvidia.com/compute/machine-learning/repos/ubuntu1804/x86_64  InRelease\n",
            "Hit:8 https://developer.download.nvidia.com/compute/cuda/repos/ubuntu1804/x86_64  Release\n",
            "Hit:9 https://developer.download.nvidia.com/compute/machine-learning/repos/ubuntu1804/x86_64  Release\n",
            "Hit:10 http://archive.ubuntu.com/ubuntu bionic-updates InRelease\n",
            "Hit:11 http://ppa.launchpad.net/marutter/c2d4u3.5/ubuntu bionic InRelease\n",
            "Hit:12 http://archive.ubuntu.com/ubuntu bionic-backports InRelease\n",
            "Get:13 http://ppa.launchpad.net/rmescandon/yq/ubuntu bionic InRelease [15.9 kB]\n",
            "Get:16 http://ppa.launchpad.net/rmescandon/yq/ubuntu bionic/main amd64 Packages [414 B]\n",
            "Fetched 16.3 kB in 1s (12.5 kB/s)\n",
            "Reading package lists... Done\n",
            "Hit:1 http://packages.cloud.google.com/apt cloud-sdk InRelease\n",
            "Ign:2 https://developer.download.nvidia.com/compute/cuda/repos/ubuntu1804/x86_64  InRelease\n",
            "Hit:3 https://cloud.r-project.org/bin/linux/ubuntu bionic-cran35/ InRelease\n",
            "Hit:4 http://ppa.launchpad.net/graphics-drivers/ppa/ubuntu bionic InRelease\n",
            "Hit:5 http://security.ubuntu.com/ubuntu bionic-security InRelease\n",
            "Hit:6 http://archive.ubuntu.com/ubuntu bionic InRelease\n",
            "Ign:7 https://developer.download.nvidia.com/compute/machine-learning/repos/ubuntu1804/x86_64  InRelease\n",
            "Hit:8 https://developer.download.nvidia.com/compute/cuda/repos/ubuntu1804/x86_64  Release\n",
            "Hit:9 https://developer.download.nvidia.com/compute/machine-learning/repos/ubuntu1804/x86_64  Release\n",
            "Hit:10 http://archive.ubuntu.com/ubuntu bionic-updates InRelease\n",
            "Hit:11 http://ppa.launchpad.net/marutter/c2d4u3.5/ubuntu bionic InRelease\n",
            "Hit:12 http://archive.ubuntu.com/ubuntu bionic-backports InRelease\n",
            "Hit:13 http://ppa.launchpad.net/rmescandon/yq/ubuntu bionic InRelease\n",
            "Reading package lists... Done\n",
            "Building dependency tree       \n",
            "Reading state information... Done\n",
            "50 packages can be upgraded. Run 'apt list --upgradable' to see them.\n",
            "Reading package lists... Done\n",
            "Building dependency tree       \n",
            "Reading state information... Done\n",
            "The following NEW packages will be installed:\n",
            "  yq\n",
            "0 upgraded, 1 newly installed, 0 to remove and 50 not upgraded.\n",
            "Need to get 1,451 kB of archives.\n",
            "After this operation, 5,816 kB of additional disk space will be used.\n",
            "Get:1 http://ppa.launchpad.net/rmescandon/yq/ubuntu bionic/main amd64 yq amd64 3.1-2 [1,451 kB]\n",
            "Fetched 1,451 kB in 1s (1,854 kB/s)\n",
            "debconf: unable to initialize frontend: Dialog\n",
            "debconf: (No usable dialog-like program is installed, so the dialog based frontend cannot be used. at /usr/share/perl5/Debconf/FrontEnd/Dialog.pm line 76, <> line 1.)\n",
            "debconf: falling back to frontend: Readline\n",
            "debconf: unable to initialize frontend: Readline\n",
            "debconf: (This frontend requires a controlling tty.)\n",
            "debconf: falling back to frontend: Teletype\n",
            "dpkg-preconfigure: unable to re-open stdin: \n",
            "Selecting previously unselected package yq.\n",
            "(Reading database ... 162981 files and directories currently installed.)\n",
            "Preparing to unpack .../archives/yq_3.1-2_amd64.deb ...\n",
            "Unpacking yq (3.1-2) ...\n",
            "Setting up yq (3.1-2) ...\n",
            "Processing triggers for man-db (2.8.3-2ubuntu0.1) ...\n"
          ],
          "name": "stdout"
        },
        {
          "output_type": "execute_result",
          "data": {
            "text/plain": [
              ""
            ]
          },
          "metadata": {
            "tags": []
          },
          "execution_count": 154
        }
      ]
    },
    {
      "cell_type": "code",
      "metadata": {
        "id": "EBmmsNvl330A",
        "colab_type": "code",
        "colab": {}
      },
      "source": [
        ""
      ],
      "execution_count": 0,
      "outputs": []
    },
    {
      "cell_type": "code",
      "metadata": {
        "id": "xYS-T7jy0n-r",
        "colab_type": "code",
        "outputId": "f822e51a-6094-4fd4-b7e3-4a800b6fec23",
        "colab": {
          "base_uri": "https://localhost:8080/",
          "height": 33
        }
      },
      "source": [
        "!echo ${KF_DIR}"
      ],
      "execution_count": 0,
      "outputs": [
        {
          "output_type": "stream",
          "text": [
            "/kubeflow01\n"
          ],
          "name": "stdout"
        }
      ]
    },
    {
      "cell_type": "code",
      "metadata": {
        "id": "HtbTzKb71jxQ",
        "colab_type": "code",
        "outputId": "3b5fa625-2030-466f-fea1-71adac8b58ab",
        "colab": {
          "base_uri": "https://localhost:8080/",
          "height": 33
        }
      },
      "source": [
        "%env CONFIG_FILE={KF_DIR}/kfctl_gcp_iap.v1.0.1.yaml"
      ],
      "execution_count": 0,
      "outputs": [
        {
          "output_type": "stream",
          "text": [
            "env: CONFIG_FILE=kf_deployments/kubeflow01/kfctl_gcp_iap.v1.0.1.yaml\n"
          ],
          "name": "stdout"
        }
      ]
    },
    {
      "cell_type": "code",
      "metadata": {
        "id": "tMNMO7XA0o1p",
        "colab_type": "code",
        "outputId": "147bc614-562a-4fca-e1cf-2668ed0052d0",
        "colab": {
          "base_uri": "https://localhost:8080/",
          "height": 33
        }
      },
      "source": [
        "!echo ${CONFIG_FILE}"
      ],
      "execution_count": 0,
      "outputs": [
        {
          "output_type": "stream",
          "text": [
            "kf_deployments/kubeflow01/kfctl_gcp_iap.v1.0.1.yaml\n"
          ],
          "name": "stdout"
        }
      ]
    },
    {
      "cell_type": "code",
      "metadata": {
        "id": "8IH4bfri3-HG",
        "colab_type": "code",
        "outputId": "7e27dc6c-273a-46dd-e8ec-1394eb721376",
        "colab": {
          "base_uri": "https://localhost:8080/",
          "height": 16
        }
      },
      "source": [
        "%%shell\n",
        "yq w -i ${CONFIG_FILE} 'spec.plugins[0].spec.project' ${PROJECT}\n",
        "yq w -i ${CONFIG_FILE} 'spec.plugins[0].spec.zone' ${ZONE}\n",
        "yq w -i ${CONFIG_FILE} 'metadata.name' ${KF_NAME}"
      ],
      "execution_count": 0,
      "outputs": [
        {
          "output_type": "execute_result",
          "data": {
            "text/plain": [
              ""
            ]
          },
          "metadata": {
            "tags": []
          },
          "execution_count": 157
        }
      ]
    },
    {
      "cell_type": "code",
      "metadata": {
        "id": "lJZjBntx0oxR",
        "colab_type": "code",
        "outputId": "2d4053b3-ea00-4a73-81d5-e6a65e6fbdfe",
        "colab": {
          "base_uri": "https://localhost:8080/",
          "height": 235
        }
      },
      "source": [
        "!./kfctl delete -f ${CONFIG_FILE} --delete_storage"
      ],
      "execution_count": 0,
      "outputs": [
        {
          "output_type": "stream",
          "text": [
            "Error: couldn't delete KfApp:  (kubeflow.error): Code 500 with message: kfApp Delete failed for kustomize:  (kubeflow.error): Code 400 with message: cannot find ClusterName within KfDef, this may cause error deletion to clusters.\n",
            "Usage:\n",
            "  kfctl delete [flags]\n",
            "\n",
            "Flags:\n",
            "      --delete_storage   Set if you want to delete app's storage cluster used for mlpipeline.\n",
            "  -f, --file string      The local config file of KfDef.\n",
            "      --force-deletion   force-deletion output default is false\n",
            "  -h, --help             help for delete\n",
            "  -V, --verbose          verbose output default is false\n",
            "\n",
            "couldn't delete KfApp:  (kubeflow.error): Code 500 with message: kfApp Delete failed for kustomize:  (kubeflow.error): Code 400 with message: cannot find ClusterName within KfDef, this may cause error deletion to clusters.\n"
          ],
          "name": "stdout"
        }
      ]
    },
    {
      "cell_type": "code",
      "metadata": {
        "id": "N7Z76i0v0ovA",
        "colab_type": "code",
        "outputId": "cf832607-d7c3-45c8-d968-0f11a900ff31",
        "colab": {
          "base_uri": "https://localhost:8080/",
          "height": 235
        }
      },
      "source": [
        "!./kfctl delete -f ${CONFIG_FILE}"
      ],
      "execution_count": 0,
      "outputs": [
        {
          "output_type": "stream",
          "text": [
            "Error: couldn't delete KfApp:  (kubeflow.error): Code 500 with message: kfApp Delete failed for kustomize:  (kubeflow.error): Code 400 with message: cannot find ClusterName within KfDef, this may cause error deletion to clusters.\n",
            "Usage:\n",
            "  kfctl delete [flags]\n",
            "\n",
            "Flags:\n",
            "      --delete_storage   Set if you want to delete app's storage cluster used for mlpipeline.\n",
            "  -f, --file string      The local config file of KfDef.\n",
            "      --force-deletion   force-deletion output default is false\n",
            "  -h, --help             help for delete\n",
            "  -V, --verbose          verbose output default is false\n",
            "\n",
            "couldn't delete KfApp:  (kubeflow.error): Code 500 with message: kfApp Delete failed for kustomize:  (kubeflow.error): Code 400 with message: cannot find ClusterName within KfDef, this may cause error deletion to clusters.\n"
          ],
          "name": "stdout"
        }
      ]
    },
    {
      "cell_type": "code",
      "metadata": {
        "id": "OJ1pMt0_0orS",
        "colab_type": "code",
        "outputId": "115f2b46-3c21-48f6-bcf1-b214119f2d93",
        "colab": {
          "base_uri": "https://localhost:8080/",
          "height": 33
        }
      },
      "source": [
        "!kubectl get pods --all-namespaces"
      ],
      "execution_count": 0,
      "outputs": [
        {
          "output_type": "stream",
          "text": [
            "Unable to connect to the server: dial tcp 34.82.119.49:443: i/o timeout\n"
          ],
          "name": "stdout"
        }
      ]
    },
    {
      "cell_type": "code",
      "metadata": {
        "id": "Ov_UXay90ooK",
        "colab_type": "code",
        "colab": {}
      },
      "source": [
        ""
      ],
      "execution_count": 0,
      "outputs": []
    },
    {
      "cell_type": "code",
      "metadata": {
        "id": "9KScLqq90olP",
        "colab_type": "code",
        "colab": {}
      },
      "source": [
        ""
      ],
      "execution_count": 0,
      "outputs": []
    }
  ]
}