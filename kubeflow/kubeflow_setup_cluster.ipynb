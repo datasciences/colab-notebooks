{
  "nbformat": 4,
  "nbformat_minor": 0,
  "metadata": {
    "colab": {
      "name": "kubeflow-setup-cluster.ipynb",
      "provenance": [],
      "collapsed_sections": [],
      "toc_visible": true,
      "authorship_tag": "ABX9TyM/UWtbaN1BgmTj6I0uPr1K",
      "include_colab_link": true
    },
    "kernelspec": {
      "name": "python3",
      "display_name": "Python 3"
    }
  },
  "cells": [
    {
      "cell_type": "markdown",
      "metadata": {
        "id": "view-in-github",
        "colab_type": "text"
      },
      "source": [
        "<a href=\"https://colab.research.google.com/github/martin-fabbri/colab-notebooks/blob/master/kubeflow/kubeflow_setup_cluster.ipynb\" target=\"_parent\"><img src=\"https://colab.research.google.com/assets/colab-badge.svg\" alt=\"Open In Colab\"/></a>"
      ]
    },
    {
      "cell_type": "markdown",
      "metadata": {
        "id": "tlZ1Mgvr8fAr",
        "colab_type": "text"
      },
      "source": [
        "## Reading Google Cloud credentials from drive"
      ]
    },
    {
      "cell_type": "code",
      "metadata": {
        "id": "YHusXj2mu1CL",
        "colab_type": "code",
        "colab": {}
      },
      "source": [
        "import configparser\n",
        "import os\n",
        "from google.colab import drive\n",
        "\n",
        "drive.mount('/content/drive')\n",
        "\n",
        "GCP_INI = '/content/drive/My Drive/gcp/gcp.ini'\n",
        "config = configparser.ConfigParser()\n",
        "config.read(GCP_INI)\n",
        "print('Setting environment variables:')\n",
        "for key in config['credentials']:\n",
        "  print(f'- {key.upper()}')\n",
        "  os.environ[key.upper()] = config['credentials'][key]"
      ],
      "execution_count": 0,
      "outputs": []
    },
    {
      "cell_type": "code",
      "metadata": {
        "id": "L37Zw8Cy2Z_U",
        "colab_type": "code",
        "colab": {
          "base_uri": "https://localhost:8080/",
          "height": 53
        },
        "cellView": "form",
        "outputId": "278cb486-f6ec-4cff-aa66-c52d0ecfe9ed"
      },
      "source": [
        "#@title ## Setup Kubectl\n",
        "#@markdown Downloads the lastest `kubectl` utility.\n",
        "%%shell\n",
        "curl -LO -s https://storage.googleapis.com/kubernetes-release/release/`curl -s https://storage.googleapis.com/kubernetes-release/release/stable.txt`/bin/linux/amd64/kubectl\n",
        "chmod +x ./kubectl\n",
        "sudo mv ./kubectl /usr/local/bin/kubectl\n",
        "kubectl version --client"
      ],
      "execution_count": 2,
      "outputs": [
        {
          "output_type": "stream",
          "text": [
            "Client Version: version.Info{Major:\"1\", Minor:\"18\", GitVersion:\"v1.18.1\", GitCommit:\"7879fc12a63337efff607952a323df90cdc7a335\", GitTreeState:\"clean\", BuildDate:\"2020-04-08T17:38:50Z\", GoVersion:\"go1.13.9\", Compiler:\"gc\", Platform:\"linux/amd64\"}\n"
          ],
          "name": "stdout"
        },
        {
          "output_type": "execute_result",
          "data": {
            "text/plain": [
              ""
            ]
          },
          "metadata": {
            "tags": []
          },
          "execution_count": 2
        }
      ]
    },
    {
      "cell_type": "code",
      "metadata": {
        "id": "nfigKYoCP_8x",
        "colab_type": "code",
        "colab": {},
        "cellView": "form"
      },
      "source": [
        "#@title ## Setup Goggle Cloud SDK\n",
        "#@markdown Downloads the lastest `gcloud` command interface.\n",
        "%%shell\n",
        "\n",
        "# Add the Cloud SDK distribution URI as a package source\n",
        "echo \"deb [signed-by=/usr/share/keyrings/cloud.google.gpg] http://packages.cloud.google.com/apt cloud-sdk main\" | sudo tee -a /etc/apt/sources.list.d/google-cloud-sdk.list\n",
        "\n",
        "# Import the Google Cloud Platform public key\n",
        "curl -s https://packages.cloud.google.com/apt/doc/apt-key.gpg | sudo apt-key --keyring /usr/share/keyrings/cloud.google.gpg add -\n",
        "\n",
        "# Update the package list and install the Cloud SDK\n",
        "sudo apt-get update -y -qq && sudo apt-get install google-cloud-sdk -qq -y"
      ],
      "execution_count": 0,
      "outputs": []
    },
    {
      "cell_type": "markdown",
      "metadata": {
        "id": "f2zDqjG44xrF",
        "colab_type": "text"
      },
      "source": [
        "## Configure Google Cloud project"
      ]
    },
    {
      "cell_type": "code",
      "metadata": {
        "id": "SByfFvcAqsAE",
        "colab_type": "code",
        "colab": {}
      },
      "source": [
        "%env PROJECT=data-centaur-273800\n",
        "%env ZONE=us-west1-b"
      ],
      "execution_count": 0,
      "outputs": []
    },
    {
      "cell_type": "code",
      "metadata": {
        "id": "Om6ODO0cRUUg",
        "colab_type": "code",
        "colab": {}
      },
      "source": [
        "!gcloud init --console-only"
      ],
      "execution_count": 0,
      "outputs": []
    },
    {
      "cell_type": "code",
      "metadata": {
        "id": "-UREh7pq5w-A",
        "colab_type": "code",
        "colab": {}
      },
      "source": [
        "%%shell\n",
        "gcloud config set project ${PROJECT} \n",
        "gcloud config set compute/zone ${ZONE}"
      ],
      "execution_count": 0,
      "outputs": []
    },
    {
      "cell_type": "code",
      "metadata": {
        "id": "bCpCgeLsRUJZ",
        "colab_type": "code",
        "colab": {}
      },
      "source": [
        "!gcloud auth application-default login"
      ],
      "execution_count": 0,
      "outputs": []
    },
    {
      "cell_type": "code",
      "metadata": {
        "id": "JlMYqy_jrmds",
        "colab_type": "code",
        "colab": {}
      },
      "source": [
        "!gcloud projects list"
      ],
      "execution_count": 0,
      "outputs": []
    },
    {
      "cell_type": "markdown",
      "metadata": {
        "id": "zZ4wUS8Z9Gd3",
        "colab_type": "text"
      },
      "source": [
        "## Setup `kfctl` command utility"
      ]
    },
    {
      "cell_type": "code",
      "metadata": {
        "id": "QLnCXuvrRUDN",
        "colab_type": "code",
        "colab": {}
      },
      "source": [
        "%env CONFIG_URI=https://raw.githubusercontent.com/kubeflow/manifests/v1.0-branch/kfdef/kfctl_gcp_iap.v1.0.1.yaml"
      ],
      "execution_count": 0,
      "outputs": []
    },
    {
      "cell_type": "code",
      "metadata": {
        "id": "wTY_W_nCRT9V",
        "colab_type": "code",
        "colab": {}
      },
      "source": [
        "%env KF_NAME=kfmnist\n",
        "%env BASE_DIR=kf_deployments\n",
        "%env KF_DIR=/content/kf_deployments/kfmnist\n",
        "%env KF_DIR_PARENT=/content/kf_deployments"
      ],
      "execution_count": 0,
      "outputs": []
    },
    {
      "cell_type": "markdown",
      "metadata": {
        "id": "aI2JyJ1Qm0UD",
        "colab_type": "text"
      },
      "source": [
        "Clean up previous configuration (if any)"
      ]
    },
    {
      "cell_type": "code",
      "metadata": {
        "id": "OykNNbL8mz8x",
        "colab_type": "code",
        "colab": {}
      },
      "source": [
        "%cd /content/\n",
        "!rm -rf ${KF_DIR_PARENT}"
      ],
      "execution_count": 0,
      "outputs": []
    },
    {
      "cell_type": "code",
      "metadata": {
        "id": "08TqEjLlWS3j",
        "colab_type": "code",
        "colab": {}
      },
      "source": [
        "%%shell\n",
        "wget https://github.com/kubeflow/kfctl/releases/download/v1.0.1/kfctl_v1.0.1-0-gf3edb9b_linux.tar.gz -q\n",
        "tar -xvf kfctl_v1.0.1-0-gf3edb9b_linux.tar.gz\n",
        "/content/kfctl version\n",
        "mkdir -p ${KF_DIR}"
      ],
      "execution_count": 0,
      "outputs": []
    },
    {
      "cell_type": "code",
      "metadata": {
        "id": "fHnXMmbCVjuA",
        "colab_type": "code",
        "colab": {}
      },
      "source": [
        "%cd {os.environ['KF_DIR']}"
      ],
      "execution_count": 0,
      "outputs": []
    },
    {
      "cell_type": "code",
      "metadata": {
        "id": "YyuXM2i-VjrM",
        "colab_type": "code",
        "colab": {}
      },
      "source": [
        "!/content/kfctl apply -V -f ${CONFIG_URI}"
      ],
      "execution_count": 0,
      "outputs": []
    },
    {
      "cell_type": "markdown",
      "metadata": {
        "id": "66Dvcs_CuAsi",
        "colab_type": "text"
      },
      "source": [
        ""
      ]
    },
    {
      "cell_type": "code",
      "metadata": {
        "id": "TXQ4HXSwtu2u",
        "colab_type": "code",
        "colab": {}
      },
      "source": [
        "!gcloud container clusters get-credentials ${KF_NAME} --zone ${ZONE} --project ${PROJECT}"
      ],
      "execution_count": 0,
      "outputs": []
    },
    {
      "cell_type": "code",
      "metadata": {
        "id": "ztGJuzXowFlB",
        "colab_type": "code",
        "colab": {}
      },
      "source": [
        "!kubectl -n kubeflow get all"
      ],
      "execution_count": 0,
      "outputs": []
    },
    {
      "cell_type": "markdown",
      "metadata": {
        "id": "YEwVmPe4x696",
        "colab_type": "text"
      },
      "source": [
        "## Access the Kubeflow user interface (UI)\n",
        "\n",
        "`https://kfmnist.endpoints.data-centaur-273800.cloud.goog`"
      ]
    },
    {
      "cell_type": "code",
      "metadata": {
        "id": "RwE-bCGPx7pm",
        "colab_type": "code",
        "colab": {}
      },
      "source": [
        "%cd /content/\n",
        "!kubectl -n istio-system get ingress"
      ],
      "execution_count": 0,
      "outputs": []
    },
    {
      "cell_type": "code",
      "metadata": {
        "id": "PNq4gAvNzE1D",
        "colab_type": "code",
        "colab": {}
      },
      "source": [
        "!kubectl -n istio-system get ingress envoy-ingress -o=jsonpath={.spec.rules[0].host}"
      ],
      "execution_count": 0,
      "outputs": []
    },
    {
      "cell_type": "code",
      "metadata": {
        "id": "ddNHBWshyeSf",
        "colab_type": "code",
        "colab": {}
      },
      "source": [
        "%env HOST=kfmnist.endpoints.data-centaur-273800.cloud.goog"
      ],
      "execution_count": 0,
      "outputs": []
    },
    {
      "cell_type": "markdown",
      "metadata": {
        "id": "TV4-OGmM0FA-",
        "colab_type": "text"
      },
      "source": [
        "## Deleting Deployed Cluster"
      ]
    },
    {
      "cell_type": "code",
      "metadata": {
        "id": "GKCvRDfR3SUv",
        "colab_type": "code",
        "colab": {}
      },
      "source": [
        "%%shell\n",
        "sudo apt-key adv --keyserver keyserver.ubuntu.com --recv-keys CC86BB64\n",
        "sudo add-apt-repository ppa:rmescandon/yq\n",
        "sudo apt update\n",
        "sudo apt install yq -y"
      ],
      "execution_count": 0,
      "outputs": []
    },
    {
      "cell_type": "code",
      "metadata": {
        "id": "EBmmsNvl330A",
        "colab_type": "code",
        "colab": {}
      },
      "source": [
        ""
      ],
      "execution_count": 0,
      "outputs": []
    },
    {
      "cell_type": "code",
      "metadata": {
        "id": "xYS-T7jy0n-r",
        "colab_type": "code",
        "colab": {}
      },
      "source": [
        "!echo ${KF_DIR}"
      ],
      "execution_count": 0,
      "outputs": []
    },
    {
      "cell_type": "code",
      "metadata": {
        "id": "HtbTzKb71jxQ",
        "colab_type": "code",
        "colab": {}
      },
      "source": [
        "%env CONFIG_FILE={KF_DIR}/kfctl_gcp_iap.v1.0.1.yaml"
      ],
      "execution_count": 0,
      "outputs": []
    },
    {
      "cell_type": "code",
      "metadata": {
        "id": "tMNMO7XA0o1p",
        "colab_type": "code",
        "colab": {}
      },
      "source": [
        "!echo ${CONFIG_FILE}"
      ],
      "execution_count": 0,
      "outputs": []
    },
    {
      "cell_type": "code",
      "metadata": {
        "id": "8IH4bfri3-HG",
        "colab_type": "code",
        "colab": {}
      },
      "source": [
        "%%shell\n",
        "yq w -i ${CONFIG_FILE} 'spec.plugins[0].spec.project' ${PROJECT}\n",
        "yq w -i ${CONFIG_FILE} 'spec.plugins[0].spec.zone' ${ZONE}\n",
        "yq w -i ${CONFIG_FILE} 'metadata.name' ${KF_NAME}"
      ],
      "execution_count": 0,
      "outputs": []
    },
    {
      "cell_type": "code",
      "metadata": {
        "id": "lJZjBntx0oxR",
        "colab_type": "code",
        "colab": {}
      },
      "source": [
        "!./kfctl delete -f ${CONFIG_FILE} --delete_storage"
      ],
      "execution_count": 0,
      "outputs": []
    },
    {
      "cell_type": "code",
      "metadata": {
        "id": "N7Z76i0v0ovA",
        "colab_type": "code",
        "colab": {}
      },
      "source": [
        "!./kfctl delete -f ${CONFIG_FILE}"
      ],
      "execution_count": 0,
      "outputs": []
    },
    {
      "cell_type": "code",
      "metadata": {
        "id": "OJ1pMt0_0orS",
        "colab_type": "code",
        "colab": {}
      },
      "source": [
        "!kubectl get pods --all-namespaces"
      ],
      "execution_count": 0,
      "outputs": []
    }
  ]
}