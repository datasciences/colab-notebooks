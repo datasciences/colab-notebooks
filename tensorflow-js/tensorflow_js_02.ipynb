{
  "nbformat": 4,
  "nbformat_minor": 0,
  "metadata": {
    "colab": {
      "name": "tensorflow-js-02.ipynb",
      "provenance": [],
      "collapsed_sections": [],
      "toc_visible": true,
      "include_colab_link": true
    },
    "kernelspec": {
      "name": "javascript",
      "display_name": "Javascript"
    },
    "accelerator": "GPU"
  },
  "cells": [
    {
      "cell_type": "markdown",
      "metadata": {
        "id": "view-in-github",
        "colab_type": "text"
      },
      "source": [
        "<a href=\"https://colab.research.google.com/github/martin-fabbri/colab-notebooks/blob/master/tensorflow-js/tensorflow_js_02.ipynb\" target=\"_parent\"><img src=\"https://colab.research.google.com/assets/colab-badge.svg\" alt=\"Open In Colab\"/></a>"
      ]
    },
    {
      "cell_type": "markdown",
      "metadata": {
        "id": "aBiVnWwSIZli",
        "colab_type": "text"
      },
      "source": [
        "This notebook requires a GPU resource."
      ]
    },
    {
      "cell_type": "code",
      "metadata": {
        "id": "YawDXlLXIYtl",
        "colab_type": "code",
        "outputId": "03c102f1-4c8a-4fc0-8400-b4736af9fbc9",
        "colab": {
          "base_uri": "https://localhost:8080/",
          "height": 35
        }
      },
      "source": [
        "!nvidia-smi -L"
      ],
      "execution_count": 0,
      "outputs": [
        {
          "output_type": "stream",
          "text": [
            "GPU 0: Tesla P100-PCIE-16GB (UUID: GPU-934e6bcc-5825-c3c4-259c-6ee472a38998)\n"
          ],
          "name": "stdout"
        }
      ]
    },
    {
      "cell_type": "code",
      "metadata": {
        "id": "XHgKZpuYAk6A",
        "colab_type": "code",
        "cellView": "form",
        "outputId": "572a1bca-2bfd-4d16-bbbd-23a646f70350",
        "colab": {
          "base_uri": "https://localhost:8080/",
          "height": 1000
        }
      },
      "source": [
        "#@title ### Install nodejs v13.x\n",
        "!sudo apt-get update -y -qq \n",
        "!sudo apt-get upgrade -y -qq \n",
        "!curl -sL https://deb.nodesource.com/setup_13.x | sudo bash -\n",
        "!sudo apt-get install -y -qq nodejs\n",
        "!node --version"
      ],
      "execution_count": 0,
      "outputs": [
        {
          "output_type": "stream",
          "text": [
            "debconf: unable to initialize frontend: Dialog\n",
            "debconf: (No usable dialog-like program is installed, so the dialog based frontend cannot be used. at /usr/share/perl5/Debconf/FrontEnd/Dialog.pm line 76, <> line 55.)\n",
            "debconf: falling back to frontend: Readline\n",
            "debconf: unable to initialize frontend: Readline\n",
            "debconf: (This frontend requires a controlling tty.)\n",
            "debconf: falling back to frontend: Teletype\n",
            "dpkg-preconfigure: unable to re-open stdin: \n",
            "(Reading database ... 144542 files and directories currently installed.)\n",
            "Preparing to unpack .../base-files_10.1ubuntu2.8_amd64.deb ...\n",
            "Unpacking base-files (10.1ubuntu2.8) over (10.1ubuntu2.7) ...\n",
            "Setting up base-files (10.1ubuntu2.8) ...\n",
            "Installing new version of config file /etc/issue ...\n",
            "Installing new version of config file /etc/issue.net ...\n",
            "Installing new version of config file /etc/lsb-release ...\n",
            "(Reading database ... 144542 files and directories currently installed.)\n",
            "Preparing to unpack .../bsdutils_1%3a2.31.1-0.4ubuntu3.6_amd64.deb ...\n",
            "Unpacking bsdutils (1:2.31.1-0.4ubuntu3.6) over (1:2.31.1-0.4ubuntu3.4) ...\n",
            "Setting up bsdutils (1:2.31.1-0.4ubuntu3.6) ...\n",
            "(Reading database ... 144542 files and directories currently installed.)\n",
            "Preparing to unpack .../libext2fs2_1.44.1-1ubuntu1.3_amd64.deb ...\n",
            "Unpacking libext2fs2:amd64 (1.44.1-1ubuntu1.3) over (1.44.1-1ubuntu1.2) ...\n",
            "Setting up libext2fs2:amd64 (1.44.1-1ubuntu1.3) ...\n",
            "(Reading database ... 144542 files and directories currently installed.)\n",
            "Preparing to unpack .../e2fsprogs_1.44.1-1ubuntu1.3_amd64.deb ...\n",
            "Unpacking e2fsprogs (1.44.1-1ubuntu1.3) over (1.44.1-1ubuntu1.2) ...\n",
            "Setting up e2fsprogs (1.44.1-1ubuntu1.3) ...\n",
            "(Reading database ... 144542 files and directories currently installed.)\n",
            "Preparing to unpack .../uuid-dev_2.31.1-0.4ubuntu3.6_amd64.deb ...\n",
            "Unpacking uuid-dev:amd64 (2.31.1-0.4ubuntu3.6) over (2.31.1-0.4ubuntu3.5) ...\n",
            "Preparing to unpack .../libuuid1_2.31.1-0.4ubuntu3.6_amd64.deb ...\n",
            "Unpacking libuuid1:amd64 (2.31.1-0.4ubuntu3.6) over (2.31.1-0.4ubuntu3.5) ...\n",
            "Setting up libuuid1:amd64 (2.31.1-0.4ubuntu3.6) ...\n",
            "(Reading database ... 144542 files and directories currently installed.)\n",
            "Preparing to unpack .../libblkid1_2.31.1-0.4ubuntu3.6_amd64.deb ...\n",
            "Unpacking libblkid1:amd64 (2.31.1-0.4ubuntu3.6) over (2.31.1-0.4ubuntu3.4) ...\n",
            "Setting up libblkid1:amd64 (2.31.1-0.4ubuntu3.6) ...\n",
            "(Reading database ... 144542 files and directories currently installed.)\n",
            "Preparing to unpack .../libfdisk1_2.31.1-0.4ubuntu3.6_amd64.deb ...\n",
            "Unpacking libfdisk1:amd64 (2.31.1-0.4ubuntu3.6) over (2.31.1-0.4ubuntu3.4) ...\n",
            "Setting up libfdisk1:amd64 (2.31.1-0.4ubuntu3.6) ...\n",
            "(Reading database ... 144542 files and directories currently installed.)\n",
            "Preparing to unpack .../libmount1_2.31.1-0.4ubuntu3.6_amd64.deb ...\n",
            "Unpacking libmount1:amd64 (2.31.1-0.4ubuntu3.6) over (2.31.1-0.4ubuntu3.4) ...\n",
            "Setting up libmount1:amd64 (2.31.1-0.4ubuntu3.6) ...\n",
            "(Reading database ... 144542 files and directories currently installed.)\n",
            "Preparing to unpack .../libsmartcols1_2.31.1-0.4ubuntu3.6_amd64.deb ...\n",
            "Unpacking libsmartcols1:amd64 (2.31.1-0.4ubuntu3.6) over (2.31.1-0.4ubuntu3.4) ...\n",
            "Setting up libsmartcols1:amd64 (2.31.1-0.4ubuntu3.6) ...\n",
            "(Reading database ... 144542 files and directories currently installed.)\n",
            "Preparing to unpack .../fdisk_2.31.1-0.4ubuntu3.6_amd64.deb ...\n",
            "Unpacking fdisk (2.31.1-0.4ubuntu3.6) over (2.31.1-0.4ubuntu3.4) ...\n",
            "Setting up fdisk (2.31.1-0.4ubuntu3.6) ...\n",
            "(Reading database ... 144542 files and directories currently installed.)\n",
            "Preparing to unpack .../util-linux_2.31.1-0.4ubuntu3.6_amd64.deb ...\n",
            "Unpacking util-linux (2.31.1-0.4ubuntu3.6) over (2.31.1-0.4ubuntu3.4) ...\n",
            "Setting up util-linux (2.31.1-0.4ubuntu3.6) ...\n",
            "(Reading database ... 144542 files and directories currently installed.)\n",
            "Preparing to unpack .../0-mount_2.31.1-0.4ubuntu3.6_amd64.deb ...\n",
            "Unpacking mount (2.31.1-0.4ubuntu3.6) over (2.31.1-0.4ubuntu3.4) ...\n",
            "Preparing to unpack .../1-libquadmath0_8.4.0-1ubuntu1~18.04_amd64.deb ...\n",
            "Unpacking libquadmath0:amd64 (8.4.0-1ubuntu1~18.04) over (8.3.0-26ubuntu1~18.04) ...\n",
            "Preparing to unpack .../2-lib32gcc1_1%3a8.4.0-1ubuntu1~18.04_amd64.deb ...\n",
            "Unpacking lib32gcc1 (1:8.4.0-1ubuntu1~18.04) over (1:8.3.0-26ubuntu1~18.04) ...\n",
            "Preparing to unpack .../3-libitm1_8.4.0-1ubuntu1~18.04_amd64.deb ...\n",
            "Unpacking libitm1:amd64 (8.4.0-1ubuntu1~18.04) over (8.3.0-26ubuntu1~18.04) ...\n",
            "Preparing to unpack .../4-lib32stdc++6_8.4.0-1ubuntu1~18.04_amd64.deb ...\n",
            "Unpacking lib32stdc++6 (8.4.0-1ubuntu1~18.04) over (8.3.0-26ubuntu1~18.04) ...\n",
            "Preparing to unpack .../5-gcc-8-base_8.4.0-1ubuntu1~18.04_amd64.deb ...\n",
            "Unpacking gcc-8-base:amd64 (8.4.0-1ubuntu1~18.04) over (8.3.0-26ubuntu1~18.04) ...\n",
            "Setting up gcc-8-base:amd64 (8.4.0-1ubuntu1~18.04) ...\n",
            "(Reading database ... 144542 files and directories currently installed.)\n",
            "Preparing to unpack .../libstdc++6_8.4.0-1ubuntu1~18.04_amd64.deb ...\n",
            "Unpacking libstdc++6:amd64 (8.4.0-1ubuntu1~18.04) over (8.3.0-26ubuntu1~18.04) ...\n",
            "Setting up libstdc++6:amd64 (8.4.0-1ubuntu1~18.04) ...\n",
            "(Reading database ... 144542 files and directories currently installed.)\n",
            "Preparing to unpack .../0-libmpx2_8.4.0-1ubuntu1~18.04_amd64.deb ...\n",
            "Unpacking libmpx2:amd64 (8.4.0-1ubuntu1~18.04) over (8.3.0-26ubuntu1~18.04) ...\n",
            "Preparing to unpack .../1-liblsan0_8.4.0-1ubuntu1~18.04_amd64.deb ...\n",
            "Unpacking liblsan0:amd64 (8.4.0-1ubuntu1~18.04) over (8.3.0-26ubuntu1~18.04) ...\n",
            "Preparing to unpack .../2-libtsan0_8.4.0-1ubuntu1~18.04_amd64.deb ...\n",
            "Unpacking libtsan0:amd64 (8.4.0-1ubuntu1~18.04) over (8.3.0-26ubuntu1~18.04) ...\n",
            "Preparing to unpack .../3-libobjc4_8.4.0-1ubuntu1~18.04_amd64.deb ...\n",
            "Unpacking libobjc4:amd64 (8.4.0-1ubuntu1~18.04) over (8.3.0-26ubuntu1~18.04) ...\n",
            "Preparing to unpack .../4-libcc1-0_8.4.0-1ubuntu1~18.04_amd64.deb ...\n",
            "Unpacking libcc1-0:amd64 (8.4.0-1ubuntu1~18.04) over (8.3.0-26ubuntu1~18.04) ...\n",
            "Preparing to unpack .../5-libatomic1_8.4.0-1ubuntu1~18.04_amd64.deb ...\n",
            "Unpacking libatomic1:amd64 (8.4.0-1ubuntu1~18.04) over (8.3.0-26ubuntu1~18.04) ...\n",
            "Preparing to unpack .../6-libgomp1_8.4.0-1ubuntu1~18.04_amd64.deb ...\n",
            "Unpacking libgomp1:amd64 (8.4.0-1ubuntu1~18.04) over (8.3.0-26ubuntu1~18.04) ...\n",
            "Preparing to unpack .../7-libgcc1_1%3a8.4.0-1ubuntu1~18.04_amd64.deb ...\n",
            "Unpacking libgcc1:amd64 (1:8.4.0-1ubuntu1~18.04) over (1:8.3.0-26ubuntu1~18.04) ...\n",
            "Setting up libgcc1:amd64 (1:8.4.0-1ubuntu1~18.04) ...\n",
            "(Reading database ... 144542 files and directories currently installed.)\n",
            "Preparing to unpack .../libcom-err2_1.44.1-1ubuntu1.3_amd64.deb ...\n",
            "Unpacking libcom-err2:amd64 (1.44.1-1ubuntu1.3) over (1.44.1-1ubuntu1.2) ...\n",
            "Setting up libcom-err2:amd64 (1.44.1-1ubuntu1.3) ...\n",
            "(Reading database ... 144542 files and directories currently installed.)\n",
            "Preparing to unpack .../libgcrypt20_1.8.1-4ubuntu1.2_amd64.deb ...\n",
            "Unpacking libgcrypt20:amd64 (1.8.1-4ubuntu1.2) over (1.8.1-4ubuntu1.1) ...\n",
            "Setting up libgcrypt20:amd64 (1.8.1-4ubuntu1.2) ...\n",
            "(Reading database ... 144542 files and directories currently installed.)\n",
            "Preparing to unpack .../libss2_1.44.1-1ubuntu1.3_amd64.deb ...\n",
            "Unpacking libss2:amd64 (1.44.1-1ubuntu1.3) over (1.44.1-1ubuntu1.2) ...\n",
            "Setting up libss2:amd64 (1.44.1-1ubuntu1.3) ...\n",
            "(Reading database ... 144542 files and directories currently installed.)\n",
            "Preparing to unpack .../libgnutls30_3.5.18-1ubuntu1.3_amd64.deb ...\n",
            "Unpacking libgnutls30:amd64 (3.5.18-1ubuntu1.3) over (3.5.18-1ubuntu1.1) ...\n",
            "Setting up libgnutls30:amd64 (3.5.18-1ubuntu1.3) ...\n",
            "(Reading database ... 144542 files and directories currently installed.)\n",
            "Preparing to unpack .../00-libglib2.0-dev_2.56.4-0ubuntu0.18.04.6_amd64.deb ...\n",
            "Unpacking libglib2.0-dev:amd64 (2.56.4-0ubuntu0.18.04.6) over (2.56.4-0ubuntu0.18.04.4) ...\n",
            "Preparing to unpack .../01-libglib2.0-dev-bin_2.56.4-0ubuntu0.18.04.6_amd64.deb ...\n",
            "Unpacking libglib2.0-dev-bin (2.56.4-0ubuntu0.18.04.6) over (2.56.4-0ubuntu0.18.04.4) ...\n",
            "Preparing to unpack .../02-libglib2.0-data_2.56.4-0ubuntu0.18.04.6_all.deb ...\n",
            "Unpacking libglib2.0-data (2.56.4-0ubuntu0.18.04.6) over (2.56.4-0ubuntu0.18.04.4) ...\n",
            "Preparing to unpack .../03-libglib2.0-bin_2.56.4-0ubuntu0.18.04.6_amd64.deb ...\n",
            "Unpacking libglib2.0-bin (2.56.4-0ubuntu0.18.04.6) over (2.56.4-0ubuntu0.18.04.4) ...\n",
            "Preparing to unpack .../04-libglib2.0-0_2.56.4-0ubuntu0.18.04.6_amd64.deb ...\n",
            "Unpacking libglib2.0-0:amd64 (2.56.4-0ubuntu0.18.04.6) over (2.56.4-0ubuntu0.18.04.4) ...\n",
            "Preparing to unpack .../05-libsqlite3-0_3.22.0-1ubuntu0.3_amd64.deb ...\n",
            "Unpacking libsqlite3-0:amd64 (3.22.0-1ubuntu0.3) over (3.22.0-1ubuntu0.1) ...\n",
            "Preparing to unpack .../06-libasound2-dev_1.1.3-5ubuntu0.4_amd64.deb ...\n",
            "Unpacking libasound2-dev:amd64 (1.1.3-5ubuntu0.4) over (1.1.3-5ubuntu0.2) ...\n",
            "Preparing to unpack .../07-libasound2_1.1.3-5ubuntu0.4_amd64.deb ...\n",
            "Unpacking libasound2:amd64 (1.1.3-5ubuntu0.4) over (1.1.3-5ubuntu0.2) ...\n",
            "Preparing to unpack .../08-libasound2-data_1.1.3-5ubuntu0.4_all.deb ...\n",
            "Unpacking libasound2-data (1.1.3-5ubuntu0.4) over (1.1.3-5ubuntu0.2) ...\n",
            "Preparing to unpack .../09-libgd3_2.2.5-4ubuntu0.4_amd64.deb ...\n",
            "Unpacking libgd3:amd64 (2.2.5-4ubuntu0.4) over (2.2.5-4ubuntu0.3) ...\n",
            "Preparing to unpack .../10-libsasl2-modules-db_2.1.27~101-g0780600+dfsg-3ubuntu2.1_amd64.deb ...\n",
            "Unpacking libsasl2-modules-db:amd64 (2.1.27~101-g0780600+dfsg-3ubuntu2.1) over (2.1.27~101-g0780600+dfsg-3ubuntu2) ...\n",
            "Preparing to unpack .../11-libsasl2-2_2.1.27~101-g0780600+dfsg-3ubuntu2.1_amd64.deb ...\n",
            "Unpacking libsasl2-2:amd64 (2.1.27~101-g0780600+dfsg-3ubuntu2.1) over (2.1.27~101-g0780600+dfsg-3ubuntu2) ...\n",
            "Preparing to unpack .../12-linux-libc-dev_4.15.0-91.92_amd64.deb ...\n",
            "Unpacking linux-libc-dev:amd64 (4.15.0-91.92) over (4.15.0-72.81) ...\n",
            "Preparing to unpack .../13-r-cran-backports_1.1.6-1cran1ppabionic0_amd64.deb ...\n",
            "Unpacking r-cran-backports (1.1.6-1cran1ppabionic0) over (1.1.5-1cran1ppabionic0) ...\n",
            "Preparing to unpack .../14-r-cran-callr_3.4.3-1cran1ppabionic0_all.deb ...\n",
            "Unpacking r-cran-callr (3.4.3-1cran1ppabionic0) over (3.4.2-1cran1ppabionic0) ...\n",
            "Preparing to unpack .../15-r-cran-class_7.3-16-1cran1ppabionic0_amd64.deb ...\n",
            "Unpacking r-cran-class (7.3-16-1cran1ppabionic0) over (7.3-15-1cran1ppabionic0) ...\n",
            "Preparing to unpack .../16-r-cran-dt_0.13-1cran1ppabionic0_all.deb ...\n",
            "Unpacking r-cran-dt (0.13-1cran1ppabionic0) over (0.12-1cran1ppabionic0) ...\n",
            "Preparing to unpack .../17-r-cran-fs_1.4.1-1cran1ppabionic0_amd64.deb ...\n",
            "Unpacking r-cran-fs (1.4.1-1cran1ppabionic0) over (1.3.2-1cran1ppabionic0) ...\n",
            "Preparing to unpack .../18-r-cran-gdtools_0.2.2-1cran1ppabionic0_amd64.deb ...\n",
            "Unpacking r-cran-gdtools (0.2.2-1cran1ppabionic0) over (0.2.1-1cran1ppabionic0) ...\n",
            "Preparing to unpack .../19-r-cran-glue_1.4.0-1cran1ppabionic0_amd64.deb ...\n",
            "Unpacking r-cran-glue (1.4.0-1cran1ppabionic0) over (1.3.2-1cran1ppabionic0) ...\n",
            "Preparing to unpack .../20-r-cran-lattice_0.20-41-1cran1ppabionic0_amd64.deb ...\n",
            "Unpacking r-cran-lattice (0.20-41-1cran1ppabionic0) over (0.20-40-1cran1ppabionic0) ...\n",
            "Preparing to unpack .../21-r-cran-tibble_3.0.0-1cran1ppabionic0_amd64.deb ...\n",
            "Unpacking r-cran-tibble (3.0.0-1cran1ppabionic0) over (2.1.3-1cran1ppabionic0) ...\n",
            "Preparing to unpack .../22-r-cran-tinytex_0.21-1cran1ppabionic0_all.deb ...\n",
            "Unpacking r-cran-tinytex (0.21-1cran1ppabionic0) over (0.20-1cran1ppabionic0) ...\n",
            "Preparing to unpack .../23-r-cran-xml2_1.3.0-1cran1ppabionic0_amd64.deb ...\n",
            "Unpacking r-cran-xml2 (1.3.0-1cran1ppabionic0) over (1.2.5-1cran1ppabionic0) ...\n",
            "Setting up libquadmath0:amd64 (8.4.0-1ubuntu1~18.04) ...\n",
            "Setting up r-cran-tinytex (0.21-1cran1ppabionic0) ...\n",
            "Setting up libgomp1:amd64 (8.4.0-1ubuntu1~18.04) ...\n",
            "Setting up libatomic1:amd64 (8.4.0-1ubuntu1~18.04) ...\n",
            "Setting up r-cran-callr (3.4.3-1cran1ppabionic0) ...\n",
            "Setting up r-cran-tibble (3.0.0-1cran1ppabionic0) ...\n",
            "Setting up libcc1-0:amd64 (8.4.0-1ubuntu1~18.04) ...\n",
            "Setting up libobjc4:amd64 (8.4.0-1ubuntu1~18.04) ...\n",
            "Setting up r-cran-lattice (0.20-41-1cran1ppabionic0) ...\n",
            "Setting up libtsan0:amd64 (8.4.0-1ubuntu1~18.04) ...\n",
            "Setting up libglib2.0-0:amd64 (2.56.4-0ubuntu0.18.04.6) ...\n",
            "Setting up libasound2-data (1.1.3-5ubuntu0.4) ...\n",
            "Setting up libsasl2-modules-db:amd64 (2.1.27~101-g0780600+dfsg-3ubuntu2.1) ...\n",
            "Setting up r-cran-backports (1.1.6-1cran1ppabionic0) ...\n",
            "Setting up linux-libc-dev:amd64 (4.15.0-91.92) ...\n",
            "Setting up mount (2.31.1-0.4ubuntu3.6) ...\n",
            "Setting up libsasl2-2:amd64 (2.1.27~101-g0780600+dfsg-3ubuntu2.1) ...\n",
            "Setting up uuid-dev:amd64 (2.31.1-0.4ubuntu3.6) ...\n",
            "Setting up r-cran-class (7.3-16-1cran1ppabionic0) ...\n",
            "Setting up libgd3:amd64 (2.2.5-4ubuntu0.4) ...\n",
            "Setting up libasound2:amd64 (1.1.3-5ubuntu0.4) ...\n",
            "Setting up liblsan0:amd64 (8.4.0-1ubuntu1~18.04) ...\n",
            "Setting up libmpx2:amd64 (8.4.0-1ubuntu1~18.04) ...\n",
            "Setting up libglib2.0-data (2.56.4-0ubuntu0.18.04.6) ...\n",
            "Setting up r-cran-dt (0.13-1cran1ppabionic0) ...\n",
            "Setting up r-cran-fs (1.4.1-1cran1ppabionic0) ...\n",
            "Setting up r-cran-gdtools (0.2.2-1cran1ppabionic0) ...\n",
            "Setting up libsqlite3-0:amd64 (3.22.0-1ubuntu0.3) ...\n",
            "Setting up r-cran-xml2 (1.3.0-1cran1ppabionic0) ...\n",
            "Setting up libglib2.0-bin (2.56.4-0ubuntu0.18.04.6) ...\n",
            "Setting up libitm1:amd64 (8.4.0-1ubuntu1~18.04) ...\n",
            "Setting up lib32gcc1 (1:8.4.0-1ubuntu1~18.04) ...\n",
            "Setting up r-cran-glue (1.4.0-1cran1ppabionic0) ...\n",
            "Setting up libasound2-dev:amd64 (1.1.3-5ubuntu0.4) ...\n",
            "Setting up libglib2.0-dev-bin (2.56.4-0ubuntu0.18.04.6) ...\n",
            "Setting up libglib2.0-dev:amd64 (2.56.4-0ubuntu0.18.04.6) ...\n",
            "Setting up lib32stdc++6 (8.4.0-1ubuntu1~18.04) ...\n",
            "Processing triggers for libc-bin (2.27-3ubuntu1) ...\n",
            "/sbin/ldconfig.real: /usr/local/lib/python3.6/dist-packages/ideep4py/lib/libmkldnn.so.0 is not a symbolic link\n",
            "\n",
            "Processing triggers for systemd (237-3ubuntu10.39) ...\n",
            "Processing triggers for man-db (2.8.3-2ubuntu0.1) ...\n",
            "Processing triggers for mime-support (3.60ubuntu1) ...\n",
            "\n",
            "## Installing the NodeSource Node.js 13.x repo...\n",
            "\n",
            "\n",
            "## Populating apt-get cache...\n",
            "\n",
            "+ apt-get update\n",
            "Hit:1 https://cloud.r-project.org/bin/linux/ubuntu bionic-cran35/ InRelease\n",
            "Ign:2 https://developer.download.nvidia.com/compute/cuda/repos/ubuntu1804/x86_64  InRelease\n",
            "Hit:3 http://security.ubuntu.com/ubuntu bionic-security InRelease\n",
            "Ign:4 https://developer.download.nvidia.com/compute/machine-learning/repos/ubuntu1804/x86_64  InRelease\n",
            "Hit:5 https://developer.download.nvidia.com/compute/cuda/repos/ubuntu1804/x86_64  Release\n",
            "Hit:6 http://ppa.launchpad.net/graphics-drivers/ppa/ubuntu bionic InRelease\n",
            "Hit:7 https://developer.download.nvidia.com/compute/machine-learning/repos/ubuntu1804/x86_64  Release\n",
            "Hit:8 http://archive.ubuntu.com/ubuntu bionic InRelease\n",
            "Hit:11 http://archive.ubuntu.com/ubuntu bionic-updates InRelease\n",
            "Hit:12 http://ppa.launchpad.net/marutter/c2d4u3.5/ubuntu bionic InRelease\n",
            "Hit:13 http://archive.ubuntu.com/ubuntu bionic-backports InRelease\n",
            "Reading package lists... Done\n",
            "\n",
            "## Confirming \"bionic\" is supported...\n",
            "\n",
            "+ curl -sLf -o /dev/null 'https://deb.nodesource.com/node_13.x/dists/bionic/Release'\n",
            "\n",
            "## Adding the NodeSource signing key to your keyring...\n",
            "\n",
            "+ curl -s https://deb.nodesource.com/gpgkey/nodesource.gpg.key | apt-key add -\n",
            "OK\n",
            "\n",
            "## Creating apt sources list file for the NodeSource Node.js 13.x repo...\n",
            "\n",
            "+ echo 'deb https://deb.nodesource.com/node_13.x bionic main' > /etc/apt/sources.list.d/nodesource.list\n",
            "+ echo 'deb-src https://deb.nodesource.com/node_13.x bionic main' >> /etc/apt/sources.list.d/nodesource.list\n",
            "\n",
            "## Running `apt-get update` for you...\n",
            "\n",
            "+ apt-get update\n",
            "Hit:1 https://cloud.r-project.org/bin/linux/ubuntu bionic-cran35/ InRelease\n",
            "Get:2 https://deb.nodesource.com/node_13.x bionic InRelease [4,584 B]\n",
            "Ign:3 https://developer.download.nvidia.com/compute/cuda/repos/ubuntu1804/x86_64  InRelease\n",
            "Get:4 https://deb.nodesource.com/node_13.x bionic/main amd64 Packages [765 B]\n",
            "Ign:5 https://developer.download.nvidia.com/compute/machine-learning/repos/ubuntu1804/x86_64  InRelease\n",
            "Hit:6 https://developer.download.nvidia.com/compute/cuda/repos/ubuntu1804/x86_64  Release\n",
            "Hit:7 https://developer.download.nvidia.com/compute/machine-learning/repos/ubuntu1804/x86_64  Release\n",
            "Hit:8 http://ppa.launchpad.net/graphics-drivers/ppa/ubuntu bionic InRelease\n",
            "Hit:10 http://security.ubuntu.com/ubuntu bionic-security InRelease\n",
            "Hit:12 http://archive.ubuntu.com/ubuntu bionic InRelease\n",
            "Hit:13 http://archive.ubuntu.com/ubuntu bionic-updates InRelease\n",
            "Hit:14 http://ppa.launchpad.net/marutter/c2d4u3.5/ubuntu bionic InRelease\n",
            "Hit:15 http://archive.ubuntu.com/ubuntu bionic-backports InRelease\n",
            "Fetched 5,349 B in 1s (4,122 B/s)\n",
            "Reading package lists... Done\n",
            "\n",
            "## Run `\u001b[1msudo apt-get install -y nodejs\u001b[m` to install Node.js 13.x and npm\n",
            "## You may also need development tools to build native addons:\n",
            "     sudo apt-get install gcc g++ make\n",
            "## To install the Yarn package manager, run:\n",
            "     curl -sL https://dl.yarnpkg.com/debian/pubkey.gpg | sudo apt-key add -\n",
            "     echo \"deb https://dl.yarnpkg.com/debian/ stable main\" | sudo tee /etc/apt/sources.list.d/yarn.list\n",
            "     sudo apt-get update && sudo apt-get install yarn\n",
            "\n",
            "\n",
            "debconf: unable to initialize frontend: Dialog\n",
            "debconf: (No usable dialog-like program is installed, so the dialog based frontend cannot be used. at /usr/share/perl5/Debconf/FrontEnd/Dialog.pm line 76, <> line 1.)\n",
            "debconf: falling back to frontend: Readline\n",
            "debconf: unable to initialize frontend: Readline\n",
            "debconf: (This frontend requires a controlling tty.)\n",
            "debconf: falling back to frontend: Teletype\n",
            "dpkg-preconfigure: unable to re-open stdin: \n",
            "Selecting previously unselected package nodejs.\n",
            "(Reading database ... 144574 files and directories currently installed.)\n",
            "Preparing to unpack .../nodejs_13.12.0-1nodesource1_amd64.deb ...\n",
            "Unpacking nodejs (13.12.0-1nodesource1) ...\n",
            "Setting up nodejs (13.12.0-1nodesource1) ...\n",
            "Processing triggers for man-db (2.8.3-2ubuntu0.1) ...\n",
            "v13.12.0\n"
          ],
          "name": "stdout"
        }
      ]
    },
    {
      "cell_type": "code",
      "metadata": {
        "id": "ZVkF16NwcMsZ",
        "colab_type": "code",
        "cellView": "form",
        "outputId": "3c764ffc-9641-430a-f8e3-d424ed1bfd3e",
        "colab": {
          "base_uri": "https://localhost:8080/",
          "height": 1000
        }
      },
      "source": [
        "#@title ## Setup javascript kernel\n",
        "#@markdown We use ``ijavascript`` to enable a javascript kernel inside Colab. \n",
        "\n",
        "#@markdown ---\n",
        "#@markdown **Important:** Wait until this cell's run completes and reload your \n",
        "#@markdown environment pressing ``F5``.\n",
        "\n",
        "#@markdown ---\n",
        "\n",
        "!npm install -g -q --unsafe-perm ijavascript\n",
        "!ijsinstall --install=global\n",
        "!jupyter-kernelspec list"
      ],
      "execution_count": 0,
      "outputs": [
        {
          "output_type": "stream",
          "text": [
            "\u001b[K\u001b[?25h/usr/bin/ijs -> /usr/lib/node_modules/ijavascript/bin/ijavascript.js\n",
            "/usr/bin/ijsconsole -> /usr/lib/node_modules/ijavascript/bin/ijsconsole.js\n",
            "/usr/bin/ijsinstall -> /usr/lib/node_modules/ijavascript/bin/ijsinstall.js\n",
            "/usr/bin/ijskernel -> /usr/lib/node_modules/ijavascript/lib/kernel.js\n",
            "/usr/bin/ijsnotebook -> /usr/lib/node_modules/ijavascript/bin/ijsnotebook.js\n",
            "\u001b[K\u001b[?25h\n",
            "> zeromq@5.2.0 install /usr/lib/node_modules/ijavascript/node_modules/zeromq\n",
            "> node scripts/prebuild-install.js || (node scripts/preinstall.js && node-gyp rebuild)\n",
            "\n",
            "\n",
            "prebuild-install WARN install No prebuilt binaries found (target=13.12.0 runtime=node arch=x64 libc= platform=linux)\n",
            "\n",
            "Building libzmq for linux\n",
            "checking for a BSD-compatible install... /usr/bin/install -c\n",
            "checking whether build environment is sane... yes\n",
            "checking for a thread-safe mkdir -p... /bin/mkdir -p\n",
            "checking for gawk... no\n",
            "checking for mawk... mawk\n",
            "checking whether make sets $(MAKE)... yes\n",
            "checking whether make supports nested variables... yes\n",
            "checking whether UID '0' is supported by ustar format... yes\n",
            "checking whether GID '0' is supported by ustar format... yes\n",
            "checking how to create a ustar tar archive... gnutar\n",
            "checking whether make supports nested variables... (cached) yes\n",
            "checking for gcc... gcc\n",
            "checking whether the C compiler works... yes\n",
            "checking for C compiler default output file name... a.out\n",
            "checking for suffix of executables... \n",
            "checking whether we are cross compiling... no\n",
            "checking for suffix of object files... o\n",
            "checking whether we are using the GNU C compiler... yes\n",
            "checking whether gcc accepts -g... yes\n",
            "checking for gcc option to accept ISO C89... none needed\n",
            "checking whether gcc understands -c and -o together... yes\n",
            "checking for style of include used by make... GNU\n",
            "checking dependency style of gcc... gcc3\n",
            "checking whether C compiler accepts -std=gnu11... yes\n",
            "checking for g++... g++\n",
            "checking whether we are using the GNU C++ compiler... yes\n",
            "checking whether g++ accepts -g... yes\n",
            "checking dependency style of g++... gcc3\n",
            "checking whether g++ supports C++11 features by default... yes\n",
            "checking for a sed that does not truncate output... /bin/sed\n",
            "checking whether to build with code coverage support... no\n",
            "checking for a sed that does not truncate output... (cached) /bin/sed\n",
            "checking for gawk... (cached) mawk\n",
            "checking for pkg-config... /usr/bin/pkg-config\n",
            "checking pkg-config is at least version 0.9.0... yes\n",
            "checking for xmlto... no\n",
            "checking for asciidoc... no\n",
            "checking build system type... x86_64-unknown-linux-gnu\n",
            "checking host system type... x86_64-unknown-linux-gnu\n",
            "checking how to print strings... printf\n",
            "checking for a sed that does not truncate output... (cached) /bin/sed\n",
            "checking for grep that handles long lines and -e... /bin/grep\n",
            "checking for egrep... /bin/grep -E\n",
            "checking for fgrep... /bin/grep -F\n",
            "checking for ld used by gcc... /usr/bin/ld\n",
            "checking if the linker (/usr/bin/ld) is GNU ld... yes\n",
            "checking for BSD- or MS-compatible name lister (nm)... /usr/bin/nm -B\n",
            "checking the name lister (/usr/bin/nm -B) interface... BSD nm\n",
            "checking whether ln -s works... yes\n",
            "checking the maximum length of command line arguments... 1572864\n",
            "checking whether the shell understands some XSI constructs... yes\n",
            "checking whether the shell understands \"+=\"... yes\n",
            "checking how to convert x86_64-unknown-linux-gnu file names to x86_64-unknown-linux-gnu format... func_convert_file_noop\n",
            "checking how to convert x86_64-unknown-linux-gnu file names to toolchain format... func_convert_file_noop\n",
            "checking for /usr/bin/ld option to reload object files... -r\n",
            "checking for objdump... objdump\n",
            "checking how to recognize dependent libraries... pass_all\n",
            "checking for dlltool... dlltool\n",
            "checking how to associate runtime and link libraries... printf %s\\n\n",
            "checking for ar... ar\n",
            "checking for archiver @FILE support... @\n",
            "checking for strip... strip\n",
            "checking for ranlib... ranlib\n",
            "checking command to parse /usr/bin/nm -B output from gcc object... ok\n",
            "checking for sysroot... no\n",
            "./configure: line 9818: /usr/bin/file: No such file or directory\n",
            "checking for mt... no\n",
            "checking if : is a manifest tool... no\n",
            "checking how to run the C preprocessor... gcc -E\n",
            "checking for ANSI C header files... yes\n",
            "checking for sys/types.h... yes\n",
            "checking for sys/stat.h... yes\n",
            "checking for stdlib.h... yes\n",
            "checking for string.h... yes\n",
            "checking for memory.h... yes\n",
            "checking for strings.h... yes\n",
            "checking for inttypes.h... yes\n",
            "checking for stdint.h... yes\n",
            "checking for unistd.h... yes\n",
            "checking for dlfcn.h... yes\n",
            "checking for objdir... .libs\n",
            "checking if gcc supports -fno-rtti -fno-exceptions... no\n",
            "checking for gcc option to produce PIC... -fPIC -DPIC\n",
            "checking if gcc PIC flag -fPIC -DPIC works... yes\n",
            "checking if gcc static flag -static works... yes\n",
            "checking if gcc supports -c -o file.o... yes\n",
            "checking if gcc supports -c -o file.o... (cached) yes\n",
            "checking whether the gcc linker (/usr/bin/ld) supports shared libraries... yes\n",
            "checking dynamic linker characteristics... GNU/Linux ld.so\n",
            "checking how to hardcode library paths into programs... immediate\n",
            "checking whether stripping libraries is possible... yes\n",
            "checking if libtool supports shared libraries... yes\n",
            "checking whether to build shared libraries... no\n",
            "checking whether to build static libraries... yes\n",
            "checking how to run the C++ preprocessor... g++ -E\n",
            "checking for ld used by g++... /usr/bin/ld\n",
            "checking if the linker (/usr/bin/ld) is GNU ld... yes\n",
            "checking whether the g++ linker (/usr/bin/ld) supports shared libraries... yes\n",
            "checking for g++ option to produce PIC... -fPIC -DPIC\n",
            "checking if g++ PIC flag -fPIC -DPIC works... yes\n",
            "checking if g++ static flag -static works... yes\n",
            "checking if g++ supports -c -o file.o... yes\n",
            "checking if g++ supports -c -o file.o... (cached) yes\n",
            "checking whether the g++ linker (/usr/bin/ld) supports shared libraries... yes\n",
            "checking dynamic linker characteristics... (cached) GNU/Linux ld.so\n",
            "checking how to hardcode library paths into programs... immediate\n",
            "checking for valgrind... no\n",
            "checking whether the C compiler works... yes\n",
            "checking whether we are using Intel C compiler... no\n",
            "checking whether we are using Sun Studio C compiler... no\n",
            "checking whether we are using clang C compiler... no\n",
            "checking whether we are using gcc >= 4 C compiler... yes\n",
            "checking whether the C++ compiler works... yes\n",
            "checking whether we are using Intel C++ compiler... no\n",
            "checking whether we are using Sun Studio C++ compiler... no\n",
            "checking whether we are using clang C++ compiler... no\n",
            "checking whether we are using gcc >= 4 C++ compiler... yes\n",
            "checking whether to enable debugging information... no\n",
            "checking whether to enable code coverage... no\n",
            "checking if TIPC is available and supports nonblocking connect... no\n",
            "checking for library containing dladdr... -ldl\n",
            "checking for pthread_create in -lpthread... yes\n",
            "checking for clock_gettime in -lrt... yes\n",
            "checking whether C++ compiler supports -fvisibility=hidden... yes\n",
            "checking whether C++ compiler supports dso visibility... yes\n",
            "checking whether to build documentation... no\n",
            "checking whether to install manpages... no\n",
            "configure: Choosing polling system from 'kqueue epoll devpoll pollset poll select'...\n",
            "configure: Using 'epoll' polling system with CLOEXEC\n",
            "checking for ANSI C header files... (cached) yes\n",
            "checking errno.h usability... yes\n",
            "checking errno.h presence... yes\n",
            "checking for errno.h... yes\n",
            "checking time.h usability... yes\n",
            "checking time.h presence... yes\n",
            "checking for time.h... yes\n",
            "checking for unistd.h... (cached) yes\n",
            "checking limits.h usability... yes\n",
            "checking limits.h presence... yes\n",
            "checking for limits.h... yes\n",
            "checking stddef.h usability... yes\n",
            "checking stddef.h presence... yes\n",
            "checking for stddef.h... yes\n",
            "checking for stdlib.h... (cached) yes\n",
            "checking for string.h... (cached) yes\n",
            "checking arpa/inet.h usability... yes\n",
            "checking arpa/inet.h presence... yes\n",
            "checking for arpa/inet.h... yes\n",
            "checking netinet/tcp.h usability... yes\n",
            "checking netinet/tcp.h presence... yes\n",
            "checking for netinet/tcp.h... yes\n",
            "checking netinet/in.h usability... yes\n",
            "checking netinet/in.h presence... yes\n",
            "checking for netinet/in.h... yes\n",
            "checking sys/socket.h usability... yes\n",
            "checking sys/socket.h presence... yes\n",
            "checking for sys/socket.h... yes\n",
            "checking sys/time.h usability... yes\n",
            "checking sys/time.h presence... yes\n",
            "checking for sys/time.h... yes\n",
            "checking ifaddrs.h usability... yes\n",
            "checking ifaddrs.h presence... yes\n",
            "checking for ifaddrs.h... yes\n",
            "checking sys/uio.h usability... yes\n",
            "checking sys/uio.h presence... yes\n",
            "checking for sys/uio.h... yes\n",
            "checking sys/eventfd.h usability... yes\n",
            "checking sys/eventfd.h presence... yes\n",
            "checking for sys/eventfd.h... yes\n",
            "checking whether EFD_CLOEXEC is supported... yes\n",
            "checking whether SO_PEERCRED is declared... yes\n",
            "checking whether LOCAL_PEERCRED is declared... no\n",
            "checking for stdbool.h that conforms to C99... no\n",
            "checking for _Bool... no\n",
            "checking for an ANSI C-conforming const... yes\n",
            "checking for inline... inline\n",
            "checking for size_t... yes\n",
            "checking for ssize_t... yes\n",
            "checking whether time.h and sys/time.h may both be included... yes\n",
            "checking for uint32_t... yes\n",
            "checking for working volatile... yes\n",
            "configure: Using tweetnacl for CURVE security\n",
            "checking \"with_norm_ext = no\"... no\n",
            "checking how to enable additional warnings for C++ compiler... -Wall\n",
            "checking how to turn warnings to errors in C++ compiler... -Werror\n",
            "checking whether compiler supports __atomic_Xxx intrinsics... yes\n",
            "checking return type of signal handlers... void\n",
            "checking for perror... yes\n",
            "checking for gettimeofday... yes\n",
            "checking for clock_gettime... yes\n",
            "checking for memset... no\n",
            "checking for socket... yes\n",
            "checking for getifaddrs... yes\n",
            "checking for freeifaddrs... yes\n",
            "checking for fork... no\n",
            "checking for posix_memalign... no\n",
            "checking for mkdtemp... yes\n",
            "checking alloca.h usability... yes\n",
            "checking alloca.h presence... yes\n",
            "checking for alloca.h... yes\n",
            "checking whether SOCK_CLOEXEC is supported... yes\n",
            "checking whether SO_KEEPALIVE is supported... yes\n",
            "checking whether TCP_KEEPCNT is supported... yes\n",
            "checking whether TCP_KEEPIDLE is supported... yes\n",
            "checking whether TCP_KEEPINTVL is supported... yes\n",
            "checking whether TCP_KEEPALIVE is supported... no\n",
            "checking for ./.git... no\n",
            "configure: Building stable and legacy API (no draft API)\n",
            "checking for LIBUNWIND... no\n",
            "configure: WARNING: Cannot find libunwind\n",
            "checking that generated files are newer than configure... done\n",
            "configure: creating ./config.status\n",
            "config.status: creating Makefile\n",
            "config.status: creating src/libzmq.pc\n",
            "config.status: creating doc/Makefile\n",
            "config.status: creating builds/Makefile\n",
            "config.status: creating builds/msvc/Makefile\n",
            "config.status: creating src/platform.hpp\n",
            "config.status: executing depfiles commands\n",
            "config.status: executing libtool commands\n",
            "Making all in doc\n",
            "make[1]: Entering directory '/usr/lib/node_modules/ijavascript/node_modules/zeromq/zmq/zeromq-4.2.2/doc'\n",
            "make[1]: Nothing to be done for 'all'.\n",
            "make[1]: Leaving directory '/usr/lib/node_modules/ijavascript/node_modules/zeromq/zmq/zeromq-4.2.2/doc'\n",
            "make[1]: Entering directory '/usr/lib/node_modules/ijavascript/node_modules/zeromq/zmq/zeromq-4.2.2'\n",
            "  CXX      src/src_libzmq_la-address.lo\n",
            "  CXX      src/src_libzmq_la-client.lo\n",
            "  CXX      src/src_libzmq_la-clock.lo\n",
            "  CXX      src/src_libzmq_la-ctx.lo\n",
            "  CXX      src/src_libzmq_la-curve_client.lo\n",
            "  CXX      src/src_libzmq_la-curve_server.lo\n",
            "  CXX      src/src_libzmq_la-dealer.lo\n",
            "  CXX      src/src_libzmq_la-devpoll.lo\n",
            "  CXX      src/src_libzmq_la-dgram.lo\n",
            "  CXX      src/src_libzmq_la-dish.lo\n",
            "  CXX      src/src_libzmq_la-dist.lo\n",
            "  CXX      src/src_libzmq_la-epoll.lo\n",
            "  CXX      src/src_libzmq_la-err.lo\n",
            "  CXX      src/src_libzmq_la-fq.lo\n",
            "  CXX      src/src_libzmq_la-gather.lo\n",
            "  CXX      src/src_libzmq_la-gssapi_mechanism_base.lo\n",
            "  CXX      src/src_libzmq_la-gssapi_client.lo\n",
            "  CXX      src/src_libzmq_la-gssapi_server.lo\n",
            "  CXX      src/src_libzmq_la-io_object.lo\n",
            "  CXX      src/src_libzmq_la-io_thread.lo\n",
            "  CXX      src/src_libzmq_la-ip.lo\n",
            "  CXX      src/src_libzmq_la-ipc_address.lo\n",
            "  CXX      src/src_libzmq_la-ipc_connecter.lo\n",
            "  CXX      src/src_libzmq_la-ipc_listener.lo\n",
            "  CXX      src/src_libzmq_la-kqueue.lo\n",
            "  CXX      src/src_libzmq_la-lb.lo\n",
            "  CXX      src/src_libzmq_la-mailbox.lo\n",
            "  CXX      src/src_libzmq_la-mailbox_safe.lo\n",
            "  CXX      src/src_libzmq_la-mechanism.lo\n",
            "  CXX      src/src_libzmq_la-metadata.lo\n",
            "  CXX      src/src_libzmq_la-msg.lo\n",
            "  CXX      src/src_libzmq_la-mtrie.lo\n",
            "  CXX      src/src_libzmq_la-norm_engine.lo\n",
            "  CXX      src/src_libzmq_la-null_mechanism.lo\n",
            "  CXX      src/src_libzmq_la-object.lo\n",
            "  CXX      src/src_libzmq_la-options.lo\n",
            "  CXX      src/src_libzmq_la-own.lo\n",
            "  CXX      src/src_libzmq_la-pair.lo\n",
            "  CXX      src/src_libzmq_la-pgm_receiver.lo\n",
            "  CXX      src/src_libzmq_la-pgm_sender.lo\n",
            "  CXX      src/src_libzmq_la-pgm_socket.lo\n",
            "  CXX      src/src_libzmq_la-pipe.lo\n",
            "  CXX      src/src_libzmq_la-plain_client.lo\n",
            "  CXX      src/src_libzmq_la-plain_server.lo\n",
            "  CXX      src/src_libzmq_la-poll.lo\n",
            "  CXX      src/src_libzmq_la-poller_base.lo\n",
            "  CXX      src/src_libzmq_la-pollset.lo\n",
            "  CXX      src/src_libzmq_la-precompiled.lo\n",
            "  CXX      src/src_libzmq_la-proxy.lo\n",
            "  CXX      src/src_libzmq_la-pub.lo\n",
            "  CXX      src/src_libzmq_la-pull.lo\n",
            "  CXX      src/src_libzmq_la-push.lo\n",
            "  CXX      src/src_libzmq_la-radio.lo\n",
            "  CXX      src/src_libzmq_la-random.lo\n",
            "  CXX      src/src_libzmq_la-raw_decoder.lo\n",
            "  CXX      src/src_libzmq_la-raw_encoder.lo\n",
            "  CXX      src/src_libzmq_la-reaper.lo\n",
            "  CXX      src/src_libzmq_la-rep.lo\n",
            "  CXX      src/src_libzmq_la-req.lo\n",
            "  CXX      src/src_libzmq_la-router.lo\n",
            "  CXX      src/src_libzmq_la-scatter.lo\n",
            "  CXX      src/src_libzmq_la-select.lo\n",
            "  CXX      src/src_libzmq_la-server.lo\n",
            "  CXX      src/src_libzmq_la-session_base.lo\n",
            "  CXX      src/src_libzmq_la-signaler.lo\n",
            "  CXX      src/src_libzmq_la-socket_base.lo\n",
            "  CXX      src/src_libzmq_la-socks.lo\n",
            "  CXX      src/src_libzmq_la-socks_connecter.lo\n",
            "  CXX      src/src_libzmq_la-stream.lo\n",
            "  CXX      src/src_libzmq_la-stream_engine.lo\n"
          ],
          "name": "stdout"
        }
      ]
    },
    {
      "cell_type": "markdown",
      "metadata": {
        "id": "MMyXtMptltc9",
        "colab_type": "text"
      },
      "source": [
        "# Training"
      ]
    },
    {
      "cell_type": "code",
      "metadata": {
        "id": "skqAs_UHc8_P",
        "colab_type": "code",
        "cellView": "both",
        "outputId": "2a5885d2-59fb-4c90-8fa8-af55d70fb494",
        "colab": {
          "base_uri": "https://localhost:8080/",
          "height": 297
        }
      },
      "source": [
        "#@title ## Install TensorFlow.js\n",
        "#@markdown If you run into any \"SyntaxError: invalid syntax\" issue, you have\n",
        "#@markdown probably not reloaded this notebook. Press ``F5`` and try to \n",
        "#@markdown execute this cell again.\n",
        " \n",
        "var { spawn } = require('child_process');\n",
        "var sh = (cmd) => { \n",
        "    $$.async();\n",
        "    var sp = spawn(cmd, { cwd: process.cwd(), stdio: 'pipe', shell: true, encoding: 'utf-8' });\n",
        "    sp.stdout.on('data', data => console.log(data.toString()));\n",
        "    sp.stderr.on('data', data => console.error(data.toString()));\n",
        "    sp.on('close', () => $$.done());\n",
        "};\n",
        "var run_async = async (pf) => {\n",
        "  $$.async();\n",
        "  await pf();\n",
        "  $$.done();\n",
        "};\n",
        "sh('npm init -y');\n",
        "sh('npm install @tensorflow/tfjs-node-gpu --save -q')\n",
        "sh('npm install neat-csv --save -q')"
      ],
      "execution_count": 5,
      "outputs": [
        {
          "output_type": "stream",
          "text": [
            "Wrote to /content/package.json:\n",
            "\n",
            "{\n",
            "  \"name\": \"content\",\n",
            "  \"version\": \"1.0.0\",\n",
            "  \"description\": \"\",\n",
            "  \"main\": \"index.js\",\n",
            "  \"scripts\": {\n",
            "    \"test\": \"echo \\\"Error: no test specified\\\" && exit 1\"\n",
            "  },\n",
            "  \"keywords\": [],\n",
            "  \"author\": \"\",\n",
            "  \"license\": \"ISC\"\n",
            "}\n",
            "\n",
            "\n",
            "\n"
          ],
          "name": "stdout"
        }
      ]
    },
    {
      "cell_type": "code",
      "metadata": {
        "id": "N6uQ8fpel4GR",
        "colab_type": "code",
        "outputId": "b13d5c48-645d-479a-bdc9-9b00c6e8f763",
        "colab": {
          "base_uri": "https://localhost:8080/",
          "height": 810
        }
      },
      "source": [
        "sh('npm install -q');"
      ],
      "execution_count": 7,
      "outputs": [
        {
          "output_type": "stream",
          "text": [
            "\n",
            "> @tensorflow/tfjs-node-gpu@1.7.2 install /content/node_modules/@tensorflow/tfjs-node-gpu\n",
            "> node scripts/install.js gpu download\n",
            "\n",
            "\n",
            "GPU-linux-1.7.2.tar.gz\n",
            "\n"
          ],
          "name": "stdout"
        },
        {
          "output_type": "stream",
          "text": [
            "* Downloading libtensorflow\n",
            "\n",
            "\n",
            "\n",
            "* Building TensorFlow Node.js bindings\n",
            "\n",
            "npm\n",
            " WARN content@1.0.0 No description\n",
            "npm WARN content@1.0.0 No repository field.\n",
            "\n",
            "\n",
            "\n"
          ],
          "name": "stderr"
        },
        {
          "output_type": "stream",
          "text": [
            "+ @tensorflow/tfjs-node-gpu@1.7.2\n",
            "added 93 packages from 99 contributors and audited 166 packages in 18.634s\n",
            "\n"
          ],
          "name": "stdout"
        },
        {
          "output_type": "stream",
          "text": [
            "npm\n",
            " WARN content@1.0.0 No description\n",
            "\n",
            "npm WARN\n",
            " content@1.0.0 No repository field.\n",
            "\n",
            "\n",
            "\n"
          ],
          "name": "stderr"
        },
        {
          "output_type": "stream",
          "text": [
            "audited 50 packages in 13.459s\n",
            "\n",
            "\n",
            "1 package is looking for funding\n",
            "  run `npm fund` for details\n",
            "\n",
            "\n",
            "found 0 vulnerabilities\n",
            "\n",
            "\n",
            "\n",
            "1 package is looking for funding\n",
            "  run `npm fund` for details\n",
            "\n",
            "\n",
            "found 0 vulnerabilities\n",
            "\n",
            "\n"
          ],
          "name": "stdout"
        }
      ]
    },
    {
      "cell_type": "markdown",
      "metadata": {
        "id": "mn_LUbpNyhpE",
        "colab_type": "text"
      },
      "source": [
        "## \"Imports\""
      ]
    },
    {
      "cell_type": "code",
      "metadata": {
        "id": "psJPTwp79NXv",
        "colab_type": "code",
        "outputId": "66324a58-4d70-4a2e-9e8b-f158ef5f3245",
        "colab": {
          "base_uri": "https://localhost:8080/",
          "height": 33
        }
      },
      "source": [
        "var tf = require('@tensorflow/tfjs-node-gpu')\n",
        "var tfd = require('@tensorflow/tfjs-data')\n",
        "var neatCsv = require('neat-csv')\n",
        "var fs = require('fs')\n",
        "var assert = require('assert').strict\n",
        "\n",
        "console.log('GPU enabled:', tf.backend().isUsingGpuDevice)"
      ],
      "execution_count": 11,
      "outputs": [
        {
          "output_type": "stream",
          "text": [
            "GPU enabled: true\n"
          ],
          "name": "stdout"
        }
      ]
    },
    {
      "cell_type": "markdown",
      "metadata": {
        "id": "cIduAaEjNUwS",
        "colab_type": "text"
      },
      "source": [
        "### Load dataset"
      ]
    },
    {
      "cell_type": "code",
      "metadata": {
        "id": "yA2wHbGhNUcZ",
        "colab_type": "code",
        "colab": {}
      },
      "source": [
        "/**\n",
        " * Load a local csv file and prepare the data for training\n",
        " * \n",
        " * @param {string} csvPath The path to csv file.\n",
        " * @returns {tf.data.Dataset} The loaded and prepared Dataset.\n",
        " */\n",
        "async function loadDataset(csvPath, hasHeader = true) { \n",
        "  const tfDatasetConfig = {\n",
        "    hasHeader,\n",
        "    columnConfigs: {\n",
        "      'rings': {\n",
        "        isLabel: true\n",
        "      }\n",
        "    }\n",
        "  }\n",
        "  const dataset = tfd.csv(csvPath, tfDatasetConfig)\n",
        "  const numOfColumns = (await dataset.columnNames()).length - 1\n",
        "\n",
        "  // const row = await dataset.take(1).toArray();\n",
        "  // console.log('row ... dataset.take(1).toArray()', row)\n",
        "\n",
        "  return {\n",
        "    dataset: dataset.map(row => {\n",
        "      const rawFeatures = row['xs']\n",
        "      const rawLabel = row['ys']\n",
        "      const convertedFeatures = Object.keys(rawFeatures).map(key => {\n",
        "        switch (rawFeatures[key]) {\n",
        "          case 'F':\n",
        "            return 0\n",
        "          case 'M':\n",
        "            return 1\n",
        "          case 'I':\n",
        "            return 2\n",
        "          default:\n",
        "            return Number(rawFeatures[key])\n",
        "        }\n",
        "      })\n",
        "      const convertedLabel = [rawLabel['rings']]\n",
        "      return {xs: convertedFeatures, ys: convertedLabel}\n",
        "    }),\n",
        "    numOfColumns,\n",
        "  }\n",
        "}"
      ],
      "execution_count": 0,
      "outputs": []
    },
    {
      "cell_type": "markdown",
      "metadata": {
        "id": "mktGdAjbLoes",
        "colab_type": "text"
      },
      "source": [
        "Make dataset available on an object name ``data``."
      ]
    },
    {
      "cell_type": "code",
      "metadata": {
        "id": "GcQiKW6sJFZX",
        "colab_type": "code",
        "colab": {}
      },
      "source": [
        "var data\n",
        "\n",
        "run_async(async function () {\n",
        "  const CSV_PATH = 'https://storage.googleapis.com/tfjs-examples/abalone-node/abalone.csv'\n",
        "  data = await loadDataset(CSV_PATH)\n",
        "})"
      ],
      "execution_count": 0,
      "outputs": []
    },
    {
      "cell_type": "markdown",
      "metadata": {
        "id": "O14Olf_-qEmj",
        "colab_type": "text"
      },
      "source": [
        "Quick smoke test to validate our dataset object."
      ]
    },
    {
      "cell_type": "code",
      "metadata": {
        "id": "7I9pgRtxgsVO",
        "colab_type": "code",
        "outputId": "2b60e2f2-0e97-48c2-b487-2c73394bc165",
        "colab": {
          "base_uri": "https://localhost:8080/",
          "height": 198
        }
      },
      "source": [
        "assert.equal(data.numOfColumns, 8)\n",
        "run_async(async function () {\n",
        "  console.log(await data.dataset.take(1).toArray())\n",
        "})"
      ],
      "execution_count": 39,
      "outputs": [
        {
          "output_type": "stream",
          "text": [
            "[\n",
            "  {\n",
            "    xs: [\n",
            "          1,  0.455,\n",
            "      0.365,  0.095,\n",
            "      0.514, 0.2245,\n",
            "      0.101,   0.15\n",
            "    ],\n",
            "    ys: [ 15 ]\n",
            "  }\n",
            "]\n"
          ],
          "name": "stdout"
        }
      ]
    },
    {
      "cell_type": "markdown",
      "metadata": {
        "id": "4bMyxY7OYpUD",
        "colab_type": "text"
      },
      "source": [
        "## Model"
      ]
    },
    {
      "cell_type": "code",
      "metadata": {
        "id": "6ER8jJ2GYpAk",
        "colab_type": "code",
        "colab": {}
      },
      "source": [
        "/**\n",
        " * Builds a MLP regression model.\n",
        " * \n",
        " * @param {number} inputShape The input of the model.\n",
        " * @returns {tf.Sequential} The generated model\n",
        " */\n",
        "function createModel(inputShape, activation = 'sigmoid', units = 50,\n",
        "                     loss = 'meanSquaredError') { \n",
        "  const model = tf.sequential();\n",
        "  model.add(tf.layers.dense({\n",
        "    inputShape,\n",
        "    activation,\n",
        "    units,\n",
        "  }))\n",
        "  model.add(tf.layers.dense({\n",
        "    activation,\n",
        "    units,\n",
        "  }))\n",
        "  model.add(tf.layers.dense({\n",
        "    units: 1,\n",
        "  }))\n",
        "  model.compile({\n",
        "    optimizer: tf.train.sgd(0.01),\n",
        "    loss,\n",
        "  })\n",
        "  return model\n",
        "}"
      ],
      "execution_count": 0,
      "outputs": []
    },
    {
      "cell_type": "code",
      "metadata": {
        "id": "DWwuYKFPT8-s",
        "colab_type": "code",
        "colab": {
          "base_uri": "https://localhost:8080/",
          "height": 231
        },
        "outputId": "1613d1d4-8ffc-48ff-d90a-730397c55b6e"
      },
      "source": [
        "model = createModel(data.numOfColumns)\n",
        "\n",
        "// perform a quick smoke test\n",
        "assert.equal(model.inputs.length, 1)\n",
        "assert.deepEqual(model.inputs[0].shape, [null, data.numOfColumns])\n",
        "assert.equal(model.outputs.length, 1)\n",
        "assert.deepEqual(model.outputs[0].shape, [null, 1])\n",
        "\n",
        "model.summary()"
      ],
      "execution_count": 84,
      "outputs": [
        {
          "output_type": "stream",
          "text": [
            "_________________________________________________________________\n",
            "Layer (type)                 Output shape              Param #   \n",
            "=================================================================\n",
            "dense_Dense34 (Dense)        [null,50]                 450       \n",
            "_________________________________________________________________\n",
            "dense_Dense35 (Dense)        [null,50]                 2550      \n",
            "_________________________________________________________________\n",
            "dense_Dense36 (Dense)        [null,1]                  51        \n",
            "=================================================================\n",
            "Total params: 3051\n",
            "Trainable params: 3051\n",
            "Non-trainable params: 0\n",
            "_________________________________________________________________\n"
          ],
          "name": "stdout"
        }
      ]
    },
    {
      "cell_type": "markdown",
      "metadata": {
        "id": "_jsRNXpxsW3v",
        "colab_type": "text"
      },
      "source": [
        "## Train"
      ]
    },
    {
      "cell_type": "code",
      "metadata": {
        "id": "aoc05DHiexXa",
        "colab_type": "code",
        "colab": {
          "base_uri": "https://localhost:8080/",
          "height": 1000
        },
        "outputId": "60753176-2de1-4857-bd26-fac6e770ed19"
      },
      "source": [
        "var savePath = 'file://abalone-model'\n",
        "\n",
        "run_async(async function () {\n",
        "  const batchSize = 500\n",
        "  const epochs = 100\n",
        "  const savePath = 'file://abalone-model'\n",
        "  // The dataset has 4177 rows. Our goal is to split them \n",
        "  // into 2 groups, one for training(3500 rows) and the other for \n",
        "  // validation (677 rows).\n",
        "  const trainBatches = Math.floor(3500 / batchSize)\n",
        "  const dataset = data.dataset.shuffle(1000).batch(batchSize)\n",
        "  const trainData = dataset.take(trainBatches)\n",
        "  const validationData = dataset.skip(trainBatches)\n",
        "  // console.log(await trainDataset.take(1).toArray())\n",
        "  // console.log(await validationDataset.take(1).toArray())\n",
        "  await model.fitDataset(trainData, {\n",
        "    epochs,\n",
        "    validationData,\n",
        "  })\n",
        "  await model.save(savePath)\n",
        "})\n"
      ],
      "execution_count": 228,
      "outputs": [
        {
          "output_type": "stream",
          "text": [
            "Epoch 1 / 100\n"
          ],
          "name": "stdout"
        },
        {
          "output_type": "stream",
          "text": [
            "\n"
          ],
          "name": "stderr"
        },
        {
          "output_type": "stream",
          "text": [
            "1051ms 150121us/step - loss=6.95 val_loss=5.31 \n",
            "Epoch 2 / 100\n"
          ],
          "name": "stdout"
        },
        {
          "output_type": "stream",
          "text": [
            "\n"
          ],
          "name": "stderr"
        },
        {
          "output_type": "stream",
          "text": [
            "771ms 110144us/step - loss=7.07 val_loss=5.18 \n",
            "Epoch 3 / 100\n"
          ],
          "name": "stdout"
        },
        {
          "output_type": "stream",
          "text": [
            "\n"
          ],
          "name": "stderr"
        },
        {
          "output_type": "stream",
          "text": [
            "749ms 107030us/step - loss=7.05 val_loss=5.34 \n",
            "Epoch 4 / 100\n"
          ],
          "name": "stdout"
        },
        {
          "output_type": "stream",
          "text": [
            "\n"
          ],
          "name": "stderr"
        },
        {
          "output_type": "stream",
          "text": [
            "706ms 100787us/step - loss=6.95 val_loss=5.26 \n",
            "Epoch 5 / 100\n"
          ],
          "name": "stdout"
        },
        {
          "output_type": "stream",
          "text": [
            "\n"
          ],
          "name": "stderr"
        },
        {
          "output_type": "stream",
          "text": [
            "614ms 87660us/step - loss=6.89 val_loss=5.78 \n",
            "Epoch 6 / 100\n"
          ],
          "name": "stdout"
        },
        {
          "output_type": "stream",
          "text": [
            "\n"
          ],
          "name": "stderr"
        },
        {
          "output_type": "stream",
          "text": [
            "627ms 89616us/step - loss=6.90 val_loss=6.06 \n",
            "Epoch 7 / 100\n"
          ],
          "name": "stdout"
        },
        {
          "output_type": "stream",
          "text": [
            "\n"
          ],
          "name": "stderr"
        },
        {
          "output_type": "stream",
          "text": [
            "610ms 87149us/step - loss=6.84 val_loss=5.27 \n",
            "Epoch 8 / 100\n"
          ],
          "name": "stdout"
        },
        {
          "output_type": "stream",
          "text": [
            "\n"
          ],
          "name": "stderr"
        },
        {
          "output_type": "stream",
          "text": [
            "543ms 77597us/step - loss=7.08 val_loss=5.84 \n",
            "Epoch 9 / 100\n"
          ],
          "name": "stdout"
        },
        {
          "output_type": "stream",
          "text": [
            "\n"
          ],
          "name": "stderr"
        },
        {
          "output_type": "stream",
          "text": [
            "692ms 98790us/step - loss=7.10 val_loss=5.38 \n",
            "Epoch 10 / 100\n"
          ],
          "name": "stdout"
        },
        {
          "output_type": "stream",
          "text": [
            "\n"
          ],
          "name": "stderr"
        },
        {
          "output_type": "stream",
          "text": [
            "613ms 87556us/step - loss=6.94 val_loss=5.14 \n",
            "Epoch 11 / 100\n"
          ],
          "name": "stdout"
        },
        {
          "output_type": "stream",
          "text": [
            "\n"
          ],
          "name": "stderr"
        },
        {
          "output_type": "stream",
          "text": [
            "624ms 89078us/step - loss=6.84 val_loss=5.31 \n",
            "Epoch 12 / 100\n"
          ],
          "name": "stdout"
        },
        {
          "output_type": "stream",
          "text": [
            "\n"
          ],
          "name": "stderr"
        },
        {
          "output_type": "stream",
          "text": [
            "619ms 88493us/step - loss=6.84 val_loss=5.62 \n",
            "Epoch 13 / 100\n"
          ],
          "name": "stdout"
        },
        {
          "output_type": "stream",
          "text": [
            "\n"
          ],
          "name": "stderr"
        },
        {
          "output_type": "stream",
          "text": [
            "619ms 88419us/step - loss=7.01 val_loss=5.82 \n",
            "Epoch 14 / 100\n"
          ],
          "name": "stdout"
        },
        {
          "output_type": "stream",
          "text": [
            "\n"
          ],
          "name": "stderr"
        },
        {
          "output_type": "stream",
          "text": [
            "670ms 95716us/step - loss=7.04 val_loss=5.47 \n",
            "Epoch 15 / 100\n"
          ],
          "name": "stdout"
        },
        {
          "output_type": "stream",
          "text": [
            "\n"
          ],
          "name": "stderr"
        },
        {
          "output_type": "stream",
          "text": [
            "551ms 78717us/step - loss=6.82 val_loss=4.54 \n",
            "Epoch 16 / 100\n"
          ],
          "name": "stdout"
        },
        {
          "output_type": "stream",
          "text": [
            "\n"
          ],
          "name": "stderr"
        },
        {
          "output_type": "stream",
          "text": [
            "684ms 97705us/step - loss=6.89 val_loss=6.12 \n",
            "Epoch 17 / 100\n"
          ],
          "name": "stdout"
        },
        {
          "output_type": "stream",
          "text": [
            "\n"
          ],
          "name": "stderr"
        },
        {
          "output_type": "stream",
          "text": [
            "705ms 100651us/step - loss=6.93 val_loss=6.54 \n",
            "Epoch 18 / 100\n"
          ],
          "name": "stdout"
        },
        {
          "output_type": "stream",
          "text": [
            "\n"
          ],
          "name": "stderr"
        },
        {
          "output_type": "stream",
          "text": [
            "678ms 96911us/step - loss=7.05 val_loss=5.83 \n",
            "Epoch 19 / 100\n"
          ],
          "name": "stdout"
        },
        {
          "output_type": "stream",
          "text": [
            "\n"
          ],
          "name": "stderr"
        },
        {
          "output_type": "stream",
          "text": [
            "593ms 84673us/step - loss=6.95 val_loss=5.17 \n",
            "Epoch 20 / 100\n"
          ],
          "name": "stdout"
        },
        {
          "output_type": "stream",
          "text": [
            "\n"
          ],
          "name": "stderr"
        },
        {
          "output_type": "stream",
          "text": [
            "580ms 82812us/step - loss=6.92 val_loss=5.02 \n",
            "Epoch 21 / 100\n"
          ],
          "name": "stdout"
        },
        {
          "output_type": "stream",
          "text": [
            "\n"
          ],
          "name": "stderr"
        },
        {
          "output_type": "stream",
          "text": [
            "536ms 76626us/step - loss=6.94 val_loss=5.39 \n",
            "Epoch 22 / 100\n"
          ],
          "name": "stdout"
        },
        {
          "output_type": "stream",
          "text": [
            "\n"
          ],
          "name": "stderr"
        },
        {
          "output_type": "stream",
          "text": [
            "696ms 99406us/step - loss=6.88 val_loss=5.88 \n",
            "Epoch 23 / 100\n"
          ],
          "name": "stdout"
        },
        {
          "output_type": "stream",
          "text": [
            "\n"
          ],
          "name": "stderr"
        },
        {
          "output_type": "stream",
          "text": [
            "740ms 105737us/step - loss=6.98 val_loss=4.91 \n",
            "Epoch 24 / 100\n"
          ],
          "name": "stdout"
        },
        {
          "output_type": "stream",
          "text": [
            "\n"
          ],
          "name": "stderr"
        },
        {
          "output_type": "stream",
          "text": [
            "662ms 94581us/step - loss=7.07 val_loss=5.93 \n",
            "Epoch 25 / 100\n"
          ],
          "name": "stdout"
        },
        {
          "output_type": "stream",
          "text": [
            "\n"
          ],
          "name": "stderr"
        },
        {
          "output_type": "stream",
          "text": [
            "615ms 87811us/step - loss=6.97 val_loss=5.42 \n",
            "Epoch 26 / 100\n"
          ],
          "name": "stdout"
        },
        {
          "output_type": "stream",
          "text": [
            "\n"
          ],
          "name": "stderr"
        },
        {
          "output_type": "stream",
          "text": [
            "589ms 84195us/step - loss=6.72 val_loss=5.80 \n",
            "Epoch 27 / 100\n"
          ],
          "name": "stdout"
        },
        {
          "output_type": "stream",
          "text": [
            "\n"
          ],
          "name": "stderr"
        },
        {
          "output_type": "stream",
          "text": [
            "523ms 74776us/step - loss=7.05 val_loss=4.91 \n",
            "Epoch 28 / 100\n"
          ],
          "name": "stdout"
        },
        {
          "output_type": "stream",
          "text": [
            "\n"
          ],
          "name": "stderr"
        },
        {
          "output_type": "stream",
          "text": [
            "662ms 94634us/step - loss=6.85 val_loss=5.16 \n",
            "Epoch 29 / 100\n"
          ],
          "name": "stdout"
        },
        {
          "output_type": "stream",
          "text": [
            "\n"
          ],
          "name": "stderr"
        },
        {
          "output_type": "stream",
          "text": [
            "626ms 89496us/step - loss=6.98 val_loss=5.46 \n",
            "Epoch 30 / 100\n"
          ],
          "name": "stdout"
        },
        {
          "output_type": "stream",
          "text": [
            "\n"
          ],
          "name": "stderr"
        },
        {
          "output_type": "stream",
          "text": [
            "637ms 90973us/step - loss=6.95 val_loss=5.26 \n",
            "Epoch 31 / 100\n"
          ],
          "name": "stdout"
        },
        {
          "output_type": "stream",
          "text": [
            "\n"
          ],
          "name": "stderr"
        },
        {
          "output_type": "stream",
          "text": [
            "560ms 79932us/step - loss=7.08 val_loss=5.53 \n",
            "Epoch 32 / 100\n"
          ],
          "name": "stdout"
        },
        {
          "output_type": "stream",
          "text": [
            "\n"
          ],
          "name": "stderr"
        },
        {
          "output_type": "stream",
          "text": [
            "520ms 74247us/step - loss=7.04 val_loss=5.62 \n",
            "Epoch 33 / 100\n"
          ],
          "name": "stdout"
        },
        {
          "output_type": "stream",
          "text": [
            "\n"
          ],
          "name": "stderr"
        },
        {
          "output_type": "stream",
          "text": [
            "725ms 103616us/step - loss=6.84 val_loss=4.77 \n",
            "Epoch 34 / 100\n"
          ],
          "name": "stdout"
        },
        {
          "output_type": "stream",
          "text": [
            "\n"
          ],
          "name": "stderr"
        },
        {
          "output_type": "stream",
          "text": [
            "701ms 100110us/step - loss=6.88 val_loss=4.64 \n",
            "Epoch 35 / 100\n"
          ],
          "name": "stdout"
        },
        {
          "output_type": "stream",
          "text": [
            "\n"
          ],
          "name": "stderr"
        },
        {
          "output_type": "stream",
          "text": [
            "681ms 97326us/step - loss=6.83 val_loss=5.38 \n",
            "Epoch 36 / 100\n"
          ],
          "name": "stdout"
        },
        {
          "output_type": "stream",
          "text": [
            "\n"
          ],
          "name": "stderr"
        },
        {
          "output_type": "stream",
          "text": [
            "610ms 87141us/step - loss=6.90 val_loss=5.08 \n",
            "Epoch 37 / 100\n"
          ],
          "name": "stdout"
        },
        {
          "output_type": "stream",
          "text": [
            "\n"
          ],
          "name": "stderr"
        },
        {
          "output_type": "stream",
          "text": [
            "581ms 82940us/step - loss=6.99 val_loss=5.14 \n",
            "Epoch 38 / 100\n"
          ],
          "name": "stdout"
        },
        {
          "output_type": "stream",
          "text": [
            "\n"
          ],
          "name": "stderr"
        },
        {
          "output_type": "stream",
          "text": [
            "519ms 74100us/step - loss=7.08 val_loss=5.70 \n",
            "Epoch 39 / 100\n"
          ],
          "name": "stdout"
        },
        {
          "output_type": "stream",
          "text": [
            "\n"
          ],
          "name": "stderr"
        },
        {
          "output_type": "stream",
          "text": [
            "704ms 100593us/step - loss=6.92 val_loss=5.55 \n",
            "Epoch 40 / 100\n"
          ],
          "name": "stdout"
        },
        {
          "output_type": "stream",
          "text": [
            "\n"
          ],
          "name": "stderr"
        },
        {
          "output_type": "stream",
          "text": [
            "722ms 103209us/step - loss=6.76 val_loss=5.46 \n",
            "Epoch 41 / 100\n"
          ],
          "name": "stdout"
        },
        {
          "output_type": "stream",
          "text": [
            "\n"
          ],
          "name": "stderr"
        },
        {
          "output_type": "stream",
          "text": [
            "614ms 87735us/step - loss=6.92 val_loss=5.63 \n",
            "Epoch 42 / 100\n"
          ],
          "name": "stdout"
        },
        {
          "output_type": "stream",
          "text": [
            "\n"
          ],
          "name": "stderr"
        },
        {
          "output_type": "stream",
          "text": [
            "564ms 80592us/step - loss=6.81 val_loss=5.82 \n",
            "Epoch 43 / 100\n"
          ],
          "name": "stdout"
        },
        {
          "output_type": "stream",
          "text": [
            "\n"
          ],
          "name": "stderr"
        },
        {
          "output_type": "stream",
          "text": [
            "532ms 75975us/step - loss=6.88 val_loss=5.74 \n",
            "Epoch 44 / 100\n"
          ],
          "name": "stdout"
        },
        {
          "output_type": "stream",
          "text": [
            "\n"
          ],
          "name": "stderr"
        },
        {
          "output_type": "stream",
          "text": [
            "612ms 87391us/step - loss=6.98 val_loss=4.97 \n",
            "Epoch 45 / 100\n"
          ],
          "name": "stdout"
        },
        {
          "output_type": "stream",
          "text": [
            "\n"
          ],
          "name": "stderr"
        },
        {
          "output_type": "stream",
          "text": [
            "619ms 88481us/step - loss=7.04 val_loss=4.97 \n",
            "Epoch 46 / 100\n"
          ],
          "name": "stdout"
        },
        {
          "output_type": "stream",
          "text": [
            "\n"
          ],
          "name": "stderr"
        },
        {
          "output_type": "stream",
          "text": [
            "619ms 88395us/step - loss=6.90 val_loss=5.92 \n",
            "Epoch 47 / 100\n"
          ],
          "name": "stdout"
        },
        {
          "output_type": "stream",
          "text": [
            "\n"
          ],
          "name": "stderr"
        },
        {
          "output_type": "stream",
          "text": [
            "610ms 87089us/step - loss=6.92 val_loss=5.60 \n",
            "Epoch 48 / 100\n"
          ],
          "name": "stdout"
        },
        {
          "output_type": "stream",
          "text": [
            "\n"
          ],
          "name": "stderr"
        },
        {
          "output_type": "stream",
          "text": [
            "623ms 88982us/step - loss=6.85 val_loss=5.86 \n",
            "Epoch 49 / 100\n"
          ],
          "name": "stdout"
        },
        {
          "output_type": "stream",
          "text": [
            "\n"
          ],
          "name": "stderr"
        },
        {
          "output_type": "stream",
          "text": [
            "526ms 75208us/step - loss=6.95 val_loss=5.18 \n",
            "Epoch 50 / 100\n"
          ],
          "name": "stdout"
        },
        {
          "output_type": "stream",
          "text": [
            "\n"
          ],
          "name": "stderr"
        },
        {
          "output_type": "stream",
          "text": [
            "706ms 100820us/step - loss=6.83 val_loss=5.12 \n",
            "Epoch 51 / 100\n"
          ],
          "name": "stdout"
        },
        {
          "output_type": "stream",
          "text": [
            "\n"
          ],
          "name": "stderr"
        },
        {
          "output_type": "stream",
          "text": [
            "672ms 96011us/step - loss=6.71 val_loss=5.52 \n",
            "Epoch 52 / 100\n"
          ],
          "name": "stdout"
        },
        {
          "output_type": "stream",
          "text": [
            "\n"
          ],
          "name": "stderr"
        },
        {
          "output_type": "stream",
          "text": [
            "578ms 82642us/step - loss=6.86 val_loss=4.57 \n",
            "Epoch 53 / 100\n"
          ],
          "name": "stdout"
        },
        {
          "output_type": "stream",
          "text": [
            "\n"
          ],
          "name": "stderr"
        },
        {
          "output_type": "stream",
          "text": [
            "611ms 87270us/step - loss=6.72 val_loss=4.87 \n",
            "Epoch 54 / 100\n"
          ],
          "name": "stdout"
        },
        {
          "output_type": "stream",
          "text": [
            "\n"
          ],
          "name": "stderr"
        },
        {
          "output_type": "stream",
          "text": [
            "507ms 72386us/step - loss=6.87 val_loss=5.07 \n",
            "Epoch 55 / 100\n"
          ],
          "name": "stdout"
        },
        {
          "output_type": "stream",
          "text": [
            "\n"
          ],
          "name": "stderr"
        },
        {
          "output_type": "stream",
          "text": [
            "705ms 100657us/step - loss=6.89 val_loss=5.58 \n",
            "Epoch 56 / 100\n"
          ],
          "name": "stdout"
        },
        {
          "output_type": "stream",
          "text": [
            "\n"
          ],
          "name": "stderr"
        },
        {
          "output_type": "stream",
          "text": [
            "666ms 95153us/step - loss=6.97 val_loss=5.40 \n",
            "Epoch 57 / 100\n"
          ],
          "name": "stdout"
        },
        {
          "output_type": "stream",
          "text": [
            "\n"
          ],
          "name": "stderr"
        },
        {
          "output_type": "stream",
          "text": [
            "604ms 86352us/step - loss=6.92 val_loss=5.35 \n",
            "Epoch 58 / 100\n"
          ],
          "name": "stdout"
        },
        {
          "output_type": "stream",
          "text": [
            "\n"
          ],
          "name": "stderr"
        },
        {
          "output_type": "stream",
          "text": [
            "594ms 84825us/step - loss=6.98 val_loss=4.86 \n",
            "Epoch 59 / 100\n"
          ],
          "name": "stdout"
        },
        {
          "output_type": "stream",
          "text": [
            "\n"
          ],
          "name": "stderr"
        },
        {
          "output_type": "stream",
          "text": [
            "665ms 95060us/step - loss=6.84 val_loss=5.38 \n",
            "Epoch 60 / 100\n"
          ],
          "name": "stdout"
        },
        {
          "output_type": "stream",
          "text": [
            "\n"
          ],
          "name": "stderr"
        },
        {
          "output_type": "stream",
          "text": [
            "539ms 77046us/step - loss=6.88 val_loss=5.67 \n",
            "Epoch 61 / 100\n"
          ],
          "name": "stdout"
        },
        {
          "output_type": "stream",
          "text": [
            "\n"
          ],
          "name": "stderr"
        },
        {
          "output_type": "stream",
          "text": [
            "682ms 97361us/step - loss=6.78 val_loss=5.36 \n",
            "Epoch 62 / 100\n"
          ],
          "name": "stdout"
        },
        {
          "output_type": "stream",
          "text": [
            "\n"
          ],
          "name": "stderr"
        },
        {
          "output_type": "stream",
          "text": [
            "603ms 86176us/step - loss=6.92 val_loss=4.74 \n",
            "Epoch 63 / 100\n"
          ],
          "name": "stdout"
        },
        {
          "output_type": "stream",
          "text": [
            "\n"
          ],
          "name": "stderr"
        },
        {
          "output_type": "stream",
          "text": [
            "734ms 104814us/step - loss=6.86 val_loss=5.07 \n",
            "Epoch 64 / 100\n"
          ],
          "name": "stdout"
        },
        {
          "output_type": "stream",
          "text": [
            "\n"
          ],
          "name": "stderr"
        },
        {
          "output_type": "stream",
          "text": [
            "510ms 72899us/step - loss=6.87 val_loss=5.65 \n",
            "Epoch 65 / 100\n"
          ],
          "name": "stdout"
        },
        {
          "output_type": "stream",
          "text": [
            "\n"
          ],
          "name": "stderr"
        },
        {
          "output_type": "stream",
          "text": [
            "724ms 103375us/step - loss=6.83 val_loss=5.19 \n",
            "Epoch 66 / 100\n"
          ],
          "name": "stdout"
        },
        {
          "output_type": "stream",
          "text": [
            "\n"
          ],
          "name": "stderr"
        },
        {
          "output_type": "stream",
          "text": [
            "711ms 101642us/step - loss=6.80 val_loss=6.39 \n",
            "Epoch 67 / 100\n"
          ],
          "name": "stdout"
        },
        {
          "output_type": "stream",
          "text": [
            "\n"
          ],
          "name": "stderr"
        },
        {
          "output_type": "stream",
          "text": [
            "721ms 102948us/step - loss=6.96 val_loss=5.41 \n",
            "Epoch 68 / 100\n"
          ],
          "name": "stdout"
        },
        {
          "output_type": "stream",
          "text": [
            "\n"
          ],
          "name": "stderr"
        },
        {
          "output_type": "stream",
          "text": [
            "674ms 96262us/step - loss=6.84 val_loss=5.97 \n",
            "Epoch 69 / 100\n"
          ],
          "name": "stdout"
        },
        {
          "output_type": "stream",
          "text": [
            "\n",
            "\n",
            "\n",
            "\n",
            "\n",
            "\n",
            "\n",
            "\n",
            "\n",
            "\n",
            "\n",
            "\n",
            "\n",
            "\n",
            "\n",
            "\n",
            "\n",
            "\n",
            "\n",
            "\n",
            "\n",
            "\n",
            "\n",
            "\n",
            "\n",
            "\n",
            "\n",
            "\n",
            "\n",
            "\n",
            "\n",
            "\n"
          ],
          "name": "stderr"
        }
      ]
    },
    {
      "cell_type": "markdown",
      "metadata": {
        "id": "7_WmjNVqEW_r",
        "colab_type": "text"
      },
      "source": [
        "## Inference"
      ]
    },
    {
      "cell_type": "code",
      "metadata": {
        "id": "uCalCIenexUq",
        "colab_type": "code",
        "colab": {
          "base_uri": "https://localhost:8080/",
          "height": 33
        },
        "outputId": "2cfe1a90-fdd8-49f6-c01b-a31bbf1a7224"
      },
      "source": [
        "run_async(async function () {\n",
        "  const loadedModel = await tf.loadLayersModel(`${savePath}/model.json`)\n",
        "  const result = loadedModel.predict(tf.tensor2d([[0, 0.625, 0.495, 0.165,\n",
        "    1.262, 0.507, 0.318, 0.39]]))\n",
        "  console.log(`Actual value: 10 -> predicted value: ${result.dataSync()}`)\n",
        "})"
      ],
      "execution_count": 239,
      "outputs": [
        {
          "output_type": "stream",
          "text": [
            "Actual value: 10 -> predicted value: 11.83333969116211\n"
          ],
          "name": "stdout"
        }
      ]
    }
  ]
}